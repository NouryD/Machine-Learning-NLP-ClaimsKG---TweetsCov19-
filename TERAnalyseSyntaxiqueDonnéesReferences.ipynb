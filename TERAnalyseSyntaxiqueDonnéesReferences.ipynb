{
  "cells": [
    {
      "cell_type": "markdown",
      "metadata": {
        "id": "fjBdA6SbcIRQ"
      },
      "source": [
        "# Partie 1- Etude sur les données de Références\n",
        "\n"
      ]
    },
    {
      "cell_type": "markdown",
      "metadata": {
        "id": "YWKI-uAqmbsj"
      },
      "source": [
        "## Téléchargement des données\n",
        "\n",
        "\n"
      ]
    },
    {
      "cell_type": "code",
      "execution_count": 4,
      "metadata": {
        "id": "s_TMQgyoVSSZ"
      },
      "outputs": [],
      "source": [
        "# Importation des différentes librairies utiles pour le notebook\n",
        "\n",
        "#Sickit learn met régulièrement à jour des versions et \n",
        "#indique des futurs warnings. \n",
        "#ces deux lignes permettent de ne pas les afficher.\n",
        "import warnings\n",
        "warnings.filterwarnings(\"ignore\", category=FutureWarning)\n",
        "\n",
        "import pandas as pd\n",
        "import seaborn as sns\n",
        "import matplotlib.pyplot as plt\n",
        "import sys"
      ]
    },
    {
      "cell_type": "code",
      "execution_count": 5,
      "metadata": {
        "colab": {
          "base_uri": "https://localhost:8080/"
        },
        "id": "lVT1rE1FVuYA",
        "outputId": "99178fd9-964b-4e9e-e341-c3eb3460099b"
      },
      "outputs": [
        {
          "output_type": "stream",
          "name": "stdout",
          "text": [
            "Mounted at /content/drive/\n"
          ]
        }
      ],
      "source": [
        "from google.colab import drive\n",
        "drive.mount('/content/drive/')"
      ]
    },
    {
      "cell_type": "code",
      "execution_count": 6,
      "metadata": {
        "id": "H8n-tJP8V1Mb"
      },
      "outputs": [],
      "source": [
        "import pandas as pd\n",
        "\n",
        "df = pd.read_csv('/content/drive/MyDrive/claim_mapping.csv', header=None, sep=',')\n",
        "new_header = df.iloc[0].fillna(df.columns.to_series())\n",
        "df = df[1:]\n",
        "df.columns = new_header"
      ]
    },
    {
      "cell_type": "code",
      "execution_count": 4,
      "metadata": {
        "colab": {
          "base_uri": "https://localhost:8080/",
          "height": 642
        },
        "id": "-90hidJMV_SY",
        "outputId": "fe366547-c779-4b03-bcbf-3af2c8b65cf9"
      },
      "outputs": [
        {
          "output_type": "execute_result",
          "data": {
            "text/plain": [
              "0 Annotations               Score CR Author A CR Author B  \\\n",
              "1           E  1.0600323698207732  politifact  politifact   \n",
              "2           E  1.0352840978838664  politifact  politifact   \n",
              "3           E  1.0317306315751822  politifact  politifact   \n",
              "4          E*   1.015787087104142  politifact  politifact   \n",
              "5          ST  1.0157590702428527  politifact  politifact   \n",
              "\n",
              "0                                       Review URL A  \\\n",
              "1  http://www.politifact.com/wisconsin/statements...   \n",
              "2  http://www.politifact.com/wisconsin/statements...   \n",
              "3  http://www.politifact.com/wisconsin/statements...   \n",
              "4  http://www.politifact.com/truth-o-meter/statem...   \n",
              "5  http://www.politifact.com/truth-o-meter/statem...   \n",
              "\n",
              "0                                       Review URL B  \\\n",
              "1  http://www.politifact.com/wisconsin/statements...   \n",
              "2  http://www.politifact.com/wisconsin/statements...   \n",
              "3  http://www.politifact.com/wisconsin/statements...   \n",
              "4  http://www.politifact.com/truth-o-meter/statem...   \n",
              "5  http://www.politifact.com/truth-o-meter/statem...   \n",
              "\n",
              "0                                   Text Fragments A  \\\n",
              "1  Milwaukee County Executive Chris Abele says co...   \n",
              "2  Milwaukee County executive candidate Chris Abe...   \n",
              "3  Tom Barrett says gubernatorial rival Scott Wal...   \n",
              "4  Mitt Romney says Barack Obama 'could have gott...   \n",
              "5  Newt Gingrich says Freddie Mac, electric co-op...   \n",
              "\n",
              "0                                   Text Fragments B  \\\n",
              "1  Milwaukee County Executive Chris Abele says co...   \n",
              "2  Milwaukee County executive candidate Chris Abe...   \n",
              "3  Tom Barrett says gubernatorial rival Scott Wal...   \n",
              "4  Paul Ryan says the Obama administration ‘water...   \n",
              "5  Gingrich repeats claim that Freddie Mac, credi...   \n",
              "\n",
              "0                                         Entities A  \\\n",
              "1     David_Clarke_(sheriff);Chris_Abele;Chris_Abele   \n",
              "2  Chris_Abele;Scott_Walker_(politician);Scott_Wa...   \n",
              "3  Tom_Barrett_(Wisconsin_politician);Scott_Walke...   \n",
              "4  Mitt_Romney;Barack_Obama;Hezbollah;Hamas;Iran;...   \n",
              "5  Newt_Gingrich;Freddie_Mac;Ron_Paul;Michele_Bac...   \n",
              "\n",
              "0                                         Entities B Keywords A Keywords B  \\\n",
              "1     David_Clarke_(sheriff);Chris_Abele;Chris_Abele        NaN        NaN   \n",
              "2  Chris_Abele;Scott_Walker_(politician);Scott_Wa...        NaN        NaN   \n",
              "3  Tom_Barrett_(Wisconsin_politician);Scott_Walke...        NaN        NaN   \n",
              "4  Barack_Obama;Paul_Ryan;Joe_Biden;Martha_Raddat...        NaN        NaN   \n",
              "5  Freddie_Mac;Newt_Gingrich;PolitiFact;Governmen...        NaN        NaN   \n",
              "\n",
              "0                                        Citations A  \\\n",
              "1  http://www.cbs58.com/news/local-news/More-Bus-...   \n",
              "2  https://www.youtube.com/watch?v=Nkjmoht6RXo&fe...   \n",
              "3  https://www.youtube.com/watch?v=PZOuufgoMFI, h...   \n",
              "4  http://www.fas.org/sgp/crs/mideast/RS20871.pdf...   \n",
              "5  http://www.nreca.coop/Pages/default.aspx, http...   \n",
              "\n",
              "0                                        Citations B  \\\n",
              "1  http://www.cbs58.com/news/local-news/More-Bus-...   \n",
              "2  https://www.youtube.com/watch?v=Nkjmoht6RXo&fe...   \n",
              "3  https://www.youtube.com/watch?v=PZOuufgoMFI, h...   \n",
              "4  http://www.c-spanvideo.org/clip/4027905, http:...   \n",
              "5  https://www.politifact.com/truth-o-meter/state...   \n",
              "\n",
              "0                                              URI A  \\\n",
              "1  http://data.gesis.org/claimskg/creative_work/3...   \n",
              "2  http://data.gesis.org/claimskg/creative_work/7...   \n",
              "3  http://data.gesis.org/claimskg/creative_work/f...   \n",
              "4  http://data.gesis.org/claimskg/creative_work/f...   \n",
              "5  http://data.gesis.org/claimskg/creative_work/8...   \n",
              "\n",
              "0                                              URI B  \n",
              "1  http://data.gesis.org/claimskg/creative_work/3...  \n",
              "2  http://data.gesis.org/claimskg/creative_work/7...  \n",
              "3  http://data.gesis.org/claimskg/creative_work/f...  \n",
              "4  http://data.gesis.org/claimskg/creative_work/d...  \n",
              "5  http://data.gesis.org/claimskg/creative_work/8...  "
            ],
            "text/html": [
              "\n",
              "  <div id=\"df-3ba12200-6847-4d63-823f-5bd236c7bbab\">\n",
              "    <div class=\"colab-df-container\">\n",
              "      <div>\n",
              "<style scoped>\n",
              "    .dataframe tbody tr th:only-of-type {\n",
              "        vertical-align: middle;\n",
              "    }\n",
              "\n",
              "    .dataframe tbody tr th {\n",
              "        vertical-align: top;\n",
              "    }\n",
              "\n",
              "    .dataframe thead th {\n",
              "        text-align: right;\n",
              "    }\n",
              "</style>\n",
              "<table border=\"1\" class=\"dataframe\">\n",
              "  <thead>\n",
              "    <tr style=\"text-align: right;\">\n",
              "      <th></th>\n",
              "      <th>Annotations</th>\n",
              "      <th>Score</th>\n",
              "      <th>CR Author A</th>\n",
              "      <th>CR Author B</th>\n",
              "      <th>Review URL A</th>\n",
              "      <th>Review URL B</th>\n",
              "      <th>Text Fragments A</th>\n",
              "      <th>Text Fragments B</th>\n",
              "      <th>Entities A</th>\n",
              "      <th>Entities B</th>\n",
              "      <th>Keywords A</th>\n",
              "      <th>Keywords B</th>\n",
              "      <th>Citations A</th>\n",
              "      <th>Citations B</th>\n",
              "      <th>URI A</th>\n",
              "      <th>URI B</th>\n",
              "    </tr>\n",
              "  </thead>\n",
              "  <tbody>\n",
              "    <tr>\n",
              "      <th>1</th>\n",
              "      <td>E</td>\n",
              "      <td>1.0600323698207732</td>\n",
              "      <td>politifact</td>\n",
              "      <td>politifact</td>\n",
              "      <td>http://www.politifact.com/wisconsin/statements...</td>\n",
              "      <td>http://www.politifact.com/wisconsin/statements...</td>\n",
              "      <td>Milwaukee County Executive Chris Abele says co...</td>\n",
              "      <td>Milwaukee County Executive Chris Abele says co...</td>\n",
              "      <td>David_Clarke_(sheriff);Chris_Abele;Chris_Abele</td>\n",
              "      <td>David_Clarke_(sheriff);Chris_Abele;Chris_Abele</td>\n",
              "      <td>NaN</td>\n",
              "      <td>NaN</td>\n",
              "      <td>http://www.cbs58.com/news/local-news/More-Bus-...</td>\n",
              "      <td>http://www.cbs58.com/news/local-news/More-Bus-...</td>\n",
              "      <td>http://data.gesis.org/claimskg/creative_work/3...</td>\n",
              "      <td>http://data.gesis.org/claimskg/creative_work/3...</td>\n",
              "    </tr>\n",
              "    <tr>\n",
              "      <th>2</th>\n",
              "      <td>E</td>\n",
              "      <td>1.0352840978838664</td>\n",
              "      <td>politifact</td>\n",
              "      <td>politifact</td>\n",
              "      <td>http://www.politifact.com/wisconsin/statements...</td>\n",
              "      <td>http://www.politifact.com/wisconsin/statements...</td>\n",
              "      <td>Milwaukee County executive candidate Chris Abe...</td>\n",
              "      <td>Milwaukee County executive candidate Chris Abe...</td>\n",
              "      <td>Chris_Abele;Scott_Walker_(politician);Scott_Wa...</td>\n",
              "      <td>Chris_Abele;Scott_Walker_(politician);Scott_Wa...</td>\n",
              "      <td>NaN</td>\n",
              "      <td>NaN</td>\n",
              "      <td>https://www.youtube.com/watch?v=Nkjmoht6RXo&amp;fe...</td>\n",
              "      <td>https://www.youtube.com/watch?v=Nkjmoht6RXo&amp;fe...</td>\n",
              "      <td>http://data.gesis.org/claimskg/creative_work/7...</td>\n",
              "      <td>http://data.gesis.org/claimskg/creative_work/7...</td>\n",
              "    </tr>\n",
              "    <tr>\n",
              "      <th>3</th>\n",
              "      <td>E</td>\n",
              "      <td>1.0317306315751822</td>\n",
              "      <td>politifact</td>\n",
              "      <td>politifact</td>\n",
              "      <td>http://www.politifact.com/wisconsin/statements...</td>\n",
              "      <td>http://www.politifact.com/wisconsin/statements...</td>\n",
              "      <td>Tom Barrett says gubernatorial rival Scott Wal...</td>\n",
              "      <td>Tom Barrett says gubernatorial rival Scott Wal...</td>\n",
              "      <td>Tom_Barrett_(Wisconsin_politician);Scott_Walke...</td>\n",
              "      <td>Tom_Barrett_(Wisconsin_politician);Scott_Walke...</td>\n",
              "      <td>NaN</td>\n",
              "      <td>NaN</td>\n",
              "      <td>https://www.youtube.com/watch?v=PZOuufgoMFI, h...</td>\n",
              "      <td>https://www.youtube.com/watch?v=PZOuufgoMFI, h...</td>\n",
              "      <td>http://data.gesis.org/claimskg/creative_work/f...</td>\n",
              "      <td>http://data.gesis.org/claimskg/creative_work/f...</td>\n",
              "    </tr>\n",
              "    <tr>\n",
              "      <th>4</th>\n",
              "      <td>E*</td>\n",
              "      <td>1.015787087104142</td>\n",
              "      <td>politifact</td>\n",
              "      <td>politifact</td>\n",
              "      <td>http://www.politifact.com/truth-o-meter/statem...</td>\n",
              "      <td>http://www.politifact.com/truth-o-meter/statem...</td>\n",
              "      <td>Mitt Romney says Barack Obama 'could have gott...</td>\n",
              "      <td>Paul Ryan says the Obama administration ‘water...</td>\n",
              "      <td>Mitt_Romney;Barack_Obama;Hezbollah;Hamas;Iran;...</td>\n",
              "      <td>Barack_Obama;Paul_Ryan;Joe_Biden;Martha_Raddat...</td>\n",
              "      <td>NaN</td>\n",
              "      <td>NaN</td>\n",
              "      <td>http://www.fas.org/sgp/crs/mideast/RS20871.pdf...</td>\n",
              "      <td>http://www.c-spanvideo.org/clip/4027905, http:...</td>\n",
              "      <td>http://data.gesis.org/claimskg/creative_work/f...</td>\n",
              "      <td>http://data.gesis.org/claimskg/creative_work/d...</td>\n",
              "    </tr>\n",
              "    <tr>\n",
              "      <th>5</th>\n",
              "      <td>ST</td>\n",
              "      <td>1.0157590702428527</td>\n",
              "      <td>politifact</td>\n",
              "      <td>politifact</td>\n",
              "      <td>http://www.politifact.com/truth-o-meter/statem...</td>\n",
              "      <td>http://www.politifact.com/truth-o-meter/statem...</td>\n",
              "      <td>Newt Gingrich says Freddie Mac, electric co-op...</td>\n",
              "      <td>Gingrich repeats claim that Freddie Mac, credi...</td>\n",
              "      <td>Newt_Gingrich;Freddie_Mac;Ron_Paul;Michele_Bac...</td>\n",
              "      <td>Freddie_Mac;Newt_Gingrich;PolitiFact;Governmen...</td>\n",
              "      <td>NaN</td>\n",
              "      <td>NaN</td>\n",
              "      <td>http://www.nreca.coop/Pages/default.aspx, http...</td>\n",
              "      <td>https://www.politifact.com/truth-o-meter/state...</td>\n",
              "      <td>http://data.gesis.org/claimskg/creative_work/8...</td>\n",
              "      <td>http://data.gesis.org/claimskg/creative_work/8...</td>\n",
              "    </tr>\n",
              "  </tbody>\n",
              "</table>\n",
              "</div>\n",
              "      <button class=\"colab-df-convert\" onclick=\"convertToInteractive('df-3ba12200-6847-4d63-823f-5bd236c7bbab')\"\n",
              "              title=\"Convert this dataframe to an interactive table.\"\n",
              "              style=\"display:none;\">\n",
              "        \n",
              "  <svg xmlns=\"http://www.w3.org/2000/svg\" height=\"24px\"viewBox=\"0 0 24 24\"\n",
              "       width=\"24px\">\n",
              "    <path d=\"M0 0h24v24H0V0z\" fill=\"none\"/>\n",
              "    <path d=\"M18.56 5.44l.94 2.06.94-2.06 2.06-.94-2.06-.94-.94-2.06-.94 2.06-2.06.94zm-11 1L8.5 8.5l.94-2.06 2.06-.94-2.06-.94L8.5 2.5l-.94 2.06-2.06.94zm10 10l.94 2.06.94-2.06 2.06-.94-2.06-.94-.94-2.06-.94 2.06-2.06.94z\"/><path d=\"M17.41 7.96l-1.37-1.37c-.4-.4-.92-.59-1.43-.59-.52 0-1.04.2-1.43.59L10.3 9.45l-7.72 7.72c-.78.78-.78 2.05 0 2.83L4 21.41c.39.39.9.59 1.41.59.51 0 1.02-.2 1.41-.59l7.78-7.78 2.81-2.81c.8-.78.8-2.07 0-2.86zM5.41 20L4 18.59l7.72-7.72 1.47 1.35L5.41 20z\"/>\n",
              "  </svg>\n",
              "      </button>\n",
              "      \n",
              "  <style>\n",
              "    .colab-df-container {\n",
              "      display:flex;\n",
              "      flex-wrap:wrap;\n",
              "      gap: 12px;\n",
              "    }\n",
              "\n",
              "    .colab-df-convert {\n",
              "      background-color: #E8F0FE;\n",
              "      border: none;\n",
              "      border-radius: 50%;\n",
              "      cursor: pointer;\n",
              "      display: none;\n",
              "      fill: #1967D2;\n",
              "      height: 32px;\n",
              "      padding: 0 0 0 0;\n",
              "      width: 32px;\n",
              "    }\n",
              "\n",
              "    .colab-df-convert:hover {\n",
              "      background-color: #E2EBFA;\n",
              "      box-shadow: 0px 1px 2px rgba(60, 64, 67, 0.3), 0px 1px 3px 1px rgba(60, 64, 67, 0.15);\n",
              "      fill: #174EA6;\n",
              "    }\n",
              "\n",
              "    [theme=dark] .colab-df-convert {\n",
              "      background-color: #3B4455;\n",
              "      fill: #D2E3FC;\n",
              "    }\n",
              "\n",
              "    [theme=dark] .colab-df-convert:hover {\n",
              "      background-color: #434B5C;\n",
              "      box-shadow: 0px 1px 3px 1px rgba(0, 0, 0, 0.15);\n",
              "      filter: drop-shadow(0px 1px 2px rgba(0, 0, 0, 0.3));\n",
              "      fill: #FFFFFF;\n",
              "    }\n",
              "  </style>\n",
              "\n",
              "      <script>\n",
              "        const buttonEl =\n",
              "          document.querySelector('#df-3ba12200-6847-4d63-823f-5bd236c7bbab button.colab-df-convert');\n",
              "        buttonEl.style.display =\n",
              "          google.colab.kernel.accessAllowed ? 'block' : 'none';\n",
              "\n",
              "        async function convertToInteractive(key) {\n",
              "          const element = document.querySelector('#df-3ba12200-6847-4d63-823f-5bd236c7bbab');\n",
              "          const dataTable =\n",
              "            await google.colab.kernel.invokeFunction('convertToInteractive',\n",
              "                                                     [key], {});\n",
              "          if (!dataTable) return;\n",
              "\n",
              "          const docLinkHtml = 'Like what you see? Visit the ' +\n",
              "            '<a target=\"_blank\" href=https://colab.research.google.com/notebooks/data_table.ipynb>data table notebook</a>'\n",
              "            + ' to learn more about interactive tables.';\n",
              "          element.innerHTML = '';\n",
              "          dataTable['output_type'] = 'display_data';\n",
              "          await google.colab.output.renderOutput(dataTable, element);\n",
              "          const docLink = document.createElement('div');\n",
              "          docLink.innerHTML = docLinkHtml;\n",
              "          element.appendChild(docLink);\n",
              "        }\n",
              "      </script>\n",
              "    </div>\n",
              "  </div>\n",
              "  "
            ]
          },
          "metadata": {},
          "execution_count": 4
        }
      ],
      "source": [
        "df.head()"
      ]
    },
    {
      "cell_type": "code",
      "execution_count": null,
      "metadata": {
        "colab": {
          "base_uri": "https://localhost:8080/",
          "height": 54
        },
        "id": "ObTrwp9-YWlG",
        "outputId": "c7f15b78-0c14-41ba-9674-293035649bff"
      },
      "outputs": [
        {
          "data": {
            "application/vnd.google.colaboratory.intrinsic+json": {
              "type": "string"
            },
            "text/plain": [
              "'Tom Barrett says gubernatorial rival Scott Walker eliminated economic development office during recession'"
            ]
          },
          "execution_count": 5,
          "metadata": {},
          "output_type": "execute_result"
        }
      ],
      "source": [
        "df['Text Fragments A'][3]"
      ]
    },
    {
      "cell_type": "code",
      "execution_count": null,
      "metadata": {
        "colab": {
          "base_uri": "https://localhost:8080/",
          "height": 54
        },
        "id": "JNX0T6FHZkDY",
        "outputId": "752a1250-e453-45a3-a30b-ac87cc6b2523"
      },
      "outputs": [
        {
          "data": {
            "application/vnd.google.colaboratory.intrinsic+json": {
              "type": "string"
            },
            "text/plain": [
              "'Tom Barrett says gubernatorial rival Scott Walker eliminated economic development office during recession'"
            ]
          },
          "execution_count": 6,
          "metadata": {},
          "output_type": "execute_result"
        }
      ],
      "source": [
        "df['Text Fragments B'][3]"
      ]
    },
    {
      "cell_type": "markdown",
      "metadata": {
        "id": "E5U7f6qUoJQJ"
      },
      "source": [
        "## Fonctions "
      ]
    },
    {
      "cell_type": "code",
      "execution_count": 7,
      "metadata": {
        "id": "O1cF2DdVr-qU"
      },
      "outputs": [],
      "source": [
        "import numpy as np\n",
        "def levenshtein_ratio_and_distance(s,t,ratio_calc=False):\n",
        "  rows=len(s)+1\n",
        "  cols=len(t)+1\n",
        "  distance=np.zeros((rows,cols), dtype=int)\n",
        "\n",
        "  for i in range(1,rows):\n",
        "    for k in range(1,cols):\n",
        "      distance[i][0]=i\n",
        "      distance[0][k]=k\n",
        "\n",
        "  for col in range(1, cols):\n",
        "    for row in range(1, rows):\n",
        "      if s[row-1]==t[col-1]:\n",
        "        cost=0\n",
        "      else:\n",
        "        if ratio_calc==True:\n",
        "          cost=2\n",
        "        else:\n",
        "          cost=1\n",
        "      distance[row][col]=min(distance[row-1][col]+1,\n",
        "                           distance[row][col-1]+1,\n",
        "                           distance[row-1][col-1]+cost)\n",
        "    \n",
        "  if ratio_calc==True:\n",
        "    Ratio=((len(s)+len(t))-distance[row][col])/(len(s)+len(t))\n",
        "    return Ratio\n",
        "  else:\n",
        "    return format(distance[row][col])"
      ]
    },
    {
      "cell_type": "code",
      "execution_count": 8,
      "metadata": {
        "id": "2RK5diJVr2kA"
      },
      "outputs": [],
      "source": [
        "def jaccard(list1, list2):\n",
        "    intersection = len(list(set(list1).intersection(list2)))\n",
        "    union = (len(set(list1)) + len(set(list2))) - intersection\n",
        "    return float(intersection) / union"
      ]
    },
    {
      "cell_type": "code",
      "execution_count": 9,
      "metadata": {
        "id": "Q6lNDD30oM6S"
      },
      "outputs": [],
      "source": [
        "def lcs(X, Y):\n",
        "    # find the length of the strings\n",
        "    m = len(X)\n",
        "    n = len(Y)\n",
        "  \n",
        "    # declaring the array for storing the dp values\n",
        "    L = [[None]*(n + 1) for i in range(m + 1)]\n",
        "    for i in range(m + 1):\n",
        "        for j in range(n + 1):\n",
        "            if i == 0 or j == 0 :\n",
        "                L[i][j] = 0\n",
        "            elif X[i-1] == Y[j-1]:\n",
        "                L[i][j] = L[i-1][j-1]+1\n",
        "            else:\n",
        "                L[i][j] = max(L[i-1][j], L[i][j-1])\n",
        "  \n",
        "    # L[m][n] contains the length of LCS of X[0..n-1] & Y[0..m-1]\n",
        "    return L[m][n]"
      ]
    },
    {
      "cell_type": "markdown",
      "metadata": {
        "id": "8TENCumLa96Q"
      },
      "source": [
        "## Traitement des données"
      ]
    },
    {
      "cell_type": "markdown",
      "metadata": {
        "id": "7BCntehajiAp"
      },
      "source": [
        "Visualisation des données références avec levenshtein\n",
        "\n",
        "---\n",
        "\n"
      ]
    },
    {
      "cell_type": "markdown",
      "metadata": {
        "id": "HAVbby-fdmbo"
      },
      "source": [
        "### E= même texte même auteur "
      ]
    },
    {
      "cell_type": "code",
      "execution_count": null,
      "metadata": {
        "colab": {
          "base_uri": "https://localhost:8080/"
        },
        "id": "8qNWi0ZXZ6ew",
        "outputId": "624c66d2-14a3-4694-966a-aec6103c873d"
      },
      "outputs": [
        {
          "name": "stdout",
          "output_type": "stream",
          "text": [
            "1.0 0 E\n"
          ]
        }
      ],
      "source": [
        "s1=df['Text Fragments A'][1]\n",
        "s2=df['Text Fragments B'][1]\n",
        "s3=df['Annotations'][1]\n",
        "Distance=levenshtein_ratio_and_distance(s1,s2)\n",
        "Ratio=levenshtein_ratio_and_distance(s1,s2,ratio_calc=True)\n",
        "print(Ratio,Distance,s3)"
      ]
    },
    {
      "cell_type": "markdown",
      "metadata": {
        "id": "FmJzX9iabEG0"
      },
      "source": [
        "Si correpondance Exacte on a Ratio = 1 ET Distance = 0 "
      ]
    },
    {
      "cell_type": "code",
      "source": [
        "s1=df['Text Fragments A'][2]\n",
        "s2=df['Text Fragments B'][2]\n",
        "s3=df['Annotations'][2]\n",
        "Distance=levenshtein_ratio_and_distance(s1,s2)\n",
        "Ratio=levenshtein_ratio_and_distance(s1,s2,ratio_calc=True)\n",
        "print(Ratio,Distance,s3)"
      ],
      "metadata": {
        "colab": {
          "base_uri": "https://localhost:8080/"
        },
        "id": "ZqZGXbxphyNW",
        "outputId": "18b84bd1-48ee-4d80-f139-76de4f18003c"
      },
      "execution_count": null,
      "outputs": [
        {
          "output_type": "stream",
          "name": "stdout",
          "text": [
            "1.0 0 E\n"
          ]
        }
      ]
    },
    {
      "cell_type": "code",
      "execution_count": null,
      "metadata": {
        "colab": {
          "base_uri": "https://localhost:8080/"
        },
        "id": "n_lIqJ-7fgoo",
        "outputId": "1358b05b-37e7-4762-922a-e94887e5bc27"
      },
      "outputs": [
        {
          "data": {
            "text/plain": [
              "1         David_Clarke_(sheriff);Chris_Abele;Chris_Abele\n",
              "2      Chris_Abele;Scott_Walker_(politician);Scott_Wa...\n",
              "3      Tom_Barrett_(Wisconsin_politician);Scott_Walke...\n",
              "4      Mitt_Romney;Barack_Obama;Hezbollah;Hamas;Iran;...\n",
              "5      Newt_Gingrich;Freddie_Mac;Ron_Paul;Michele_Bac...\n",
              "                             ...                        \n",
              "580    Scott_Walker_(politician);Brett_Hulsey;Jim_Doy...\n",
              "581    Scott_Walker_(politician);Renewable_Fuel_Stand...\n",
              "582    U.S._News_&amp;_World_Report;Scott_Walker_(pol...\n",
              "583    Mark_Twain;John_Robitaille;PolitiFact;Andrew_B...\n",
              "584    Gina_Raimondo;Angel_Taveras;PolitiFact;PolitiF...\n",
              "Name: Entities A, Length: 584, dtype: object"
            ]
          },
          "execution_count": 11,
          "metadata": {},
          "output_type": "execute_result"
        }
      ],
      "source": [
        "df['Entities A']"
      ]
    },
    {
      "cell_type": "code",
      "execution_count": null,
      "metadata": {
        "colab": {
          "base_uri": "https://localhost:8080/",
          "height": 37
        },
        "id": "MLb-fAZnfkLx",
        "outputId": "486e651b-e83a-4a44-c3ae-44e037893807"
      },
      "outputs": [
        {
          "data": {
            "application/vnd.google.colaboratory.intrinsic+json": {
              "type": "string"
            },
            "text/plain": [
              "'David_Clarke_(sheriff);Chris_Abele;Chris_Abele'"
            ]
          },
          "execution_count": 12,
          "metadata": {},
          "output_type": "execute_result"
        }
      ],
      "source": [
        "df['Entities B'][1]"
      ]
    },
    {
      "cell_type": "code",
      "execution_count": null,
      "metadata": {
        "colab": {
          "base_uri": "https://localhost:8080/"
        },
        "id": "7RDQKAt5asAv",
        "outputId": "6d7a08ea-d120-4d22-98bb-c80439ecee02"
      },
      "outputs": [
        {
          "name": "stdout",
          "output_type": "stream",
          "text": [
            "1.0 0 E\n"
          ]
        }
      ],
      "source": [
        "s1=df['Entities A'][1]\n",
        "s2=df['Entities B'][1]\n",
        "s3=df['Annotations'][1]\n",
        "Distance=levenshtein_ratio_and_distance(s1,s2)\n",
        "Ratio=levenshtein_ratio_and_distance(s1,s2,ratio_calc=True)\n",
        "print(Ratio,Distance,s3)"
      ]
    },
    {
      "cell_type": "markdown",
      "metadata": {
        "id": "MvO7kRL4bfKq"
      },
      "source": [
        "On a Ratio = 1 et distance = 0 pour les auteurs pareil"
      ]
    },
    {
      "cell_type": "markdown",
      "source": [
        "Jaccard\n",
        "\n",
        "---\n",
        "\n"
      ],
      "metadata": {
        "id": "IA_zvFbLiTtn"
      }
    },
    {
      "cell_type": "code",
      "source": [
        "s1=df['Text Fragments A'][1]\n",
        "s2=df['Text Fragments B'][1]\n",
        "s3=df['Annotations'][1]\n",
        "\n",
        "jaccard(s1,s2),s3"
      ],
      "metadata": {
        "colab": {
          "base_uri": "https://localhost:8080/"
        },
        "id": "9PmwB2OgiVcx",
        "outputId": "40866ec0-3bac-4af8-a395-baf65a3b3c84"
      },
      "execution_count": null,
      "outputs": [
        {
          "output_type": "execute_result",
          "data": {
            "text/plain": [
              "(1.0, 'E')"
            ]
          },
          "metadata": {},
          "execution_count": 45
        }
      ]
    },
    {
      "cell_type": "code",
      "source": [
        "s1=df['Text Fragments A'][2]\n",
        "s2=df['Text Fragments B'][2]\n",
        "s3=df['Annotations'][2]\n",
        "\n",
        "jaccard(s1,s2),s3"
      ],
      "metadata": {
        "colab": {
          "base_uri": "https://localhost:8080/"
        },
        "id": "07fieYd3ihTM",
        "outputId": "08724871-eec2-4755-a305-b81426839e5a"
      },
      "execution_count": null,
      "outputs": [
        {
          "output_type": "execute_result",
          "data": {
            "text/plain": [
              "(1.0, 'E')"
            ]
          },
          "metadata": {},
          "execution_count": 46
        }
      ]
    },
    {
      "cell_type": "markdown",
      "source": [
        "LCS"
      ],
      "metadata": {
        "id": "7kUBRGkUu7N8"
      }
    },
    {
      "cell_type": "code",
      "source": [
        "s1=df['Text Fragments A'][1]\n",
        "s2=df['Text Fragments B'][1]\n",
        "s3=df['Annotations'][1]\n",
        "lcs=lcs(s1,s2)\n",
        "print(lcs,s3)"
      ],
      "metadata": {
        "colab": {
          "base_uri": "https://localhost:8080/"
        },
        "id": "AUlq7YSgu9Vf",
        "outputId": "924f2697-f0b1-46c7-ede4-ac8abce74f6f"
      },
      "execution_count": 19,
      "outputs": [
        {
          "output_type": "stream",
          "name": "stdout",
          "text": [
            "100 E\n"
          ]
        }
      ]
    },
    {
      "cell_type": "code",
      "source": [
        "s1=df['Text Fragments A'][2]\n",
        "s2=df['Text Fragments B'][2]\n",
        "s3=df['Annotations'][2]\n",
        "lcs=lcs(s1,s2)\n",
        "print(lcs,s3)"
      ],
      "metadata": {
        "colab": {
          "base_uri": "https://localhost:8080/"
        },
        "id": "U8D0Sd9-vktC",
        "outputId": "e8b282b2-6365-4e54-9c7f-a1ad781a14a5"
      },
      "execution_count": 22,
      "outputs": [
        {
          "output_type": "stream",
          "name": "stdout",
          "text": [
            "88 E\n"
          ]
        }
      ]
    },
    {
      "cell_type": "markdown",
      "metadata": {
        "id": "uI8hUf0Vdq2w"
      },
      "source": [
        "### E*= meme texte pas meme auteur \n"
      ]
    },
    {
      "cell_type": "code",
      "execution_count": null,
      "metadata": {
        "colab": {
          "base_uri": "https://localhost:8080/"
        },
        "id": "H-LG_Ebjdv0x",
        "outputId": "0afbce77-7ef0-45ac-fdd7-ed18a669ca0d"
      },
      "outputs": [
        {
          "name": "stdout",
          "output_type": "stream",
          "text": [
            "0.5348837209302325 55 E*\n",
            "0.7122040072859745 261 E*\n"
          ]
        }
      ],
      "source": [
        "s1=df['Text Fragments A'][4]\n",
        "s2=df['Text Fragments B'][4]\n",
        "s3=df['Annotations'][4]\n",
        "Distance=levenshtein_ratio_and_distance(s1,s2)\n",
        "Ratio=levenshtein_ratio_and_distance(s1,s2,ratio_calc=True)\n",
        "print(Ratio,Distance,s3)\n",
        "\n",
        "s1=df['Entities A'][4]\n",
        "s2=df['Entities B'][4]\n",
        "s3=df['Annotations'][4]\n",
        "Distance=levenshtein_ratio_and_distance(s1,s2)\n",
        "Ratio=levenshtein_ratio_and_distance(s1,s2,ratio_calc=True)\n",
        "print(Ratio,Distance,s3)"
      ]
    },
    {
      "cell_type": "code",
      "execution_count": null,
      "metadata": {
        "colab": {
          "base_uri": "https://localhost:8080/"
        },
        "id": "auoZHBLbeSsq",
        "outputId": "1e033b5c-134f-455f-c533-d398c876f24d"
      },
      "outputs": [
        {
          "name": "stdout",
          "output_type": "stream",
          "text": [
            "0.48484848484848486 59 E*\n",
            "0.8920521945432978 64 E*\n"
          ]
        }
      ],
      "source": [
        "s1=df['Text Fragments A'][11]\n",
        "s2=df['Text Fragments B'][11]\n",
        "s3=df['Annotations'][11]\n",
        "Distance=levenshtein_ratio_and_distance(s1,s2)\n",
        "Ratio=levenshtein_ratio_and_distance(s1,s2,ratio_calc=True)\n",
        "print(Ratio,Distance,s3)\n",
        "\n",
        "s1=df['Entities A'][11]\n",
        "s2=df['Entities B'][11]\n",
        "s3=df['Annotations'][11]\n",
        "Distance=levenshtein_ratio_and_distance(s1,s2)\n",
        "Ratio=levenshtein_ratio_and_distance(s1,s2,ratio_calc=True)\n",
        "print(Ratio,Distance,s3)"
      ]
    },
    {
      "cell_type": "code",
      "execution_count": null,
      "metadata": {
        "colab": {
          "base_uri": "https://localhost:8080/"
        },
        "id": "5u0obgHuku3T",
        "outputId": "c1f42560-3a00-4335-8fd6-a45e8e3923e1"
      },
      "outputs": [
        {
          "name": "stdout",
          "output_type": "stream",
          "text": [
            "0.7339449541284404 22 E*\n",
            "0.8963855421686747 43 E*\n"
          ]
        }
      ],
      "source": [
        "s1=df['Text Fragments A'][13]\n",
        "s2=df['Text Fragments B'][13]\n",
        "s3=df['Annotations'][13]\n",
        "Distance=levenshtein_ratio_and_distance(s1,s2)\n",
        "Ratio=levenshtein_ratio_and_distance(s1,s2,ratio_calc=True)\n",
        "print(Ratio,Distance,s3)\n",
        "\n",
        "s1=df['Entities A'][13]\n",
        "s2=df['Entities B'][13]\n",
        "s3=df['Annotations'][13]\n",
        "Distance=levenshtein_ratio_and_distance(s1,s2)\n",
        "Ratio=levenshtein_ratio_and_distance(s1,s2,ratio_calc=True)\n",
        "print(Ratio,Distance,s3)"
      ]
    },
    {
      "cell_type": "code",
      "execution_count": null,
      "metadata": {
        "colab": {
          "base_uri": "https://localhost:8080/"
        },
        "id": "QvpZL9wblAqN",
        "outputId": "8d27c3ef-173f-4bf1-813b-8031ecc27fea"
      },
      "outputs": [
        {
          "name": "stdout",
          "output_type": "stream",
          "text": [
            "0.6835443037974683 24 E*\n",
            "0.8964732650739476 76 E*\n"
          ]
        }
      ],
      "source": [
        "s1=df['Text Fragments A'][16]\n",
        "s2=df['Text Fragments B'][16]\n",
        "s3=df['Annotations'][16]\n",
        "Distance=levenshtein_ratio_and_distance(s1,s2)\n",
        "Ratio=levenshtein_ratio_and_distance(s1,s2,ratio_calc=True)\n",
        "print(Ratio,Distance,s3)\n",
        "\n",
        "s1=df['Entities A'][16]\n",
        "s2=df['Entities B'][16]\n",
        "s3=df['Annotations'][16]\n",
        "Distance=levenshtein_ratio_and_distance(s1,s2)\n",
        "Ratio=levenshtein_ratio_and_distance(s1,s2,ratio_calc=True)\n",
        "print(Ratio,Distance,s3)"
      ]
    },
    {
      "cell_type": "markdown",
      "source": [
        "Jaccard\n",
        "\n",
        "---\n",
        "\n"
      ],
      "metadata": {
        "id": "hYyxB86tim6u"
      }
    },
    {
      "cell_type": "code",
      "source": [
        "s1=df['Text Fragments A'][4]\n",
        "s2=df['Text Fragments B'][4]\n",
        "s3=df['Annotations'][4]\n",
        "\n",
        "jaccard(s1,s2),s3"
      ],
      "metadata": {
        "colab": {
          "base_uri": "https://localhost:8080/"
        },
        "id": "DztHdhmNimLy",
        "outputId": "8cca1daf-4e44-4702-8197-ba5f92d17418"
      },
      "execution_count": null,
      "outputs": [
        {
          "output_type": "execute_result",
          "data": {
            "text/plain": [
              "(0.6363636363636364, 'E*')"
            ]
          },
          "metadata": {},
          "execution_count": 47
        }
      ]
    },
    {
      "cell_type": "code",
      "source": [
        "s1=df['Text Fragments A'][11]\n",
        "s2=df['Text Fragments B'][11]\n",
        "s3=df['Annotations'][11]\n",
        "\n",
        "jaccard(s1,s2),s3"
      ],
      "metadata": {
        "colab": {
          "base_uri": "https://localhost:8080/"
        },
        "id": "UaCttpnuixMw",
        "outputId": "ac2237d2-a634-4efe-edc4-bb9037baaf6a"
      },
      "execution_count": null,
      "outputs": [
        {
          "output_type": "execute_result",
          "data": {
            "text/plain": [
              "(0.5897435897435898, 'E*')"
            ]
          },
          "metadata": {},
          "execution_count": 48
        }
      ]
    },
    {
      "cell_type": "markdown",
      "source": [
        "LCS\n",
        "\n",
        "---\n",
        "\n"
      ],
      "metadata": {
        "id": "MKqA-1KSwDt3"
      }
    },
    {
      "cell_type": "code",
      "source": [
        "df['Text Fragments B'][5]"
      ],
      "metadata": {
        "colab": {
          "base_uri": "https://localhost:8080/",
          "height": 37
        },
        "id": "s7ZcWrNowVF_",
        "outputId": "9e4955a3-4f50-45f0-f609-a3d8d1011029"
      },
      "execution_count": 15,
      "outputs": [
        {
          "output_type": "execute_result",
          "data": {
            "text/plain": [
              "'Gingrich repeats claim that Freddie Mac, credit unions are ‘government-sponsored enterprises’'"
            ],
            "application/vnd.google.colaboratory.intrinsic+json": {
              "type": "string"
            }
          },
          "metadata": {},
          "execution_count": 15
        }
      ]
    },
    {
      "cell_type": "code",
      "source": [
        "s1=df['Text Fragments A'][4]\n",
        "s2=df['Text Fragments B'][4]\n",
        "s3=df['Annotations'][4]\n",
        "lcs=lcs(s1,s2)\n",
        "print(lcs,s3)"
      ],
      "metadata": {
        "colab": {
          "base_uri": "https://localhost:8080/"
        },
        "id": "819AU6DBwFFT",
        "outputId": "be93e3c5-e1d5-4dcf-c8fc-1656400f7511"
      },
      "execution_count": 27,
      "outputs": [
        {
          "output_type": "stream",
          "name": "stdout",
          "text": [
            "46 E*\n"
          ]
        }
      ]
    },
    {
      "cell_type": "code",
      "source": [
        "s1=df['Text Fragments A'][11]\n",
        "s2=df['Text Fragments B'][11]\n",
        "s3=df['Annotations'][11]\n",
        "lcs=lcs(s1,s2)\n",
        "print(lcs,s3)"
      ],
      "metadata": {
        "colab": {
          "base_uri": "https://localhost:8080/"
        },
        "id": "X6NkG1B6xFnA",
        "outputId": "a772cadc-a7e9-4e54-f09c-b62f614fbf86"
      },
      "execution_count": 29,
      "outputs": [
        {
          "output_type": "stream",
          "name": "stdout",
          "text": [
            "40 E*\n"
          ]
        }
      ]
    },
    {
      "cell_type": "markdown",
      "metadata": {
        "id": "j9SeyfN5desj"
      },
      "source": [
        "### ST= même sujet"
      ]
    },
    {
      "cell_type": "code",
      "execution_count": null,
      "metadata": {
        "colab": {
          "base_uri": "https://localhost:8080/"
        },
        "id": "HTdzu99AeaJd",
        "outputId": "b285c576-8b19-48b2-e25a-98ac4372356c"
      },
      "outputs": [
        {
          "name": "stdout",
          "output_type": "stream",
          "text": [
            "0.5434782608695652 63 ST\n"
          ]
        }
      ],
      "source": [
        "s1=df['Text Fragments A'][5]\n",
        "s2=df['Text Fragments B'][5]\n",
        "s3=df['Annotations'][5]\n",
        "Distance=levenshtein_ratio_and_distance(s1,s2)\n",
        "Ratio=levenshtein_ratio_and_distance(s1,s2,ratio_calc=True)\n",
        "print(Ratio,Distance,s3)\n",
        "\n"
      ]
    },
    {
      "cell_type": "code",
      "execution_count": null,
      "metadata": {
        "colab": {
          "base_uri": "https://localhost:8080/"
        },
        "id": "NYban8xgbYbr",
        "outputId": "568c81c3-8596-49f2-81a1-b6ddb1d183ac"
      },
      "outputs": [
        {
          "name": "stdout",
          "output_type": "stream",
          "text": [
            "0.6197183098591549 48 ST\n"
          ]
        }
      ],
      "source": [
        "s1=df['Text Fragments A'][6]\n",
        "s2=df['Text Fragments B'][6]\n",
        "s3=df['Annotations'][6]\n",
        "Distance=levenshtein_ratio_and_distance(s1,s2)\n",
        "Ratio=levenshtein_ratio_and_distance(s1,s2,ratio_calc=True)\n",
        "print(Ratio,Distance,s3)"
      ]
    },
    {
      "cell_type": "code",
      "execution_count": null,
      "metadata": {
        "colab": {
          "base_uri": "https://localhost:8080/"
        },
        "id": "JUC8PoFUljCU",
        "outputId": "34eb6629-75be-4d6c-97d6-b8279b60c9dc"
      },
      "outputs": [
        {
          "name": "stdout",
          "output_type": "stream",
          "text": [
            "0.5032258064516129 56 ST\n"
          ]
        }
      ],
      "source": [
        "s1=df['Text Fragments A'][15]\n",
        "s2=df['Text Fragments B'][15]\n",
        "s3=df['Annotations'][15]\n",
        "Distance=levenshtein_ratio_and_distance(s1,s2)\n",
        "Ratio=levenshtein_ratio_and_distance(s1,s2,ratio_calc=True)\n",
        "print(Ratio,Distance,s3)"
      ]
    },
    {
      "cell_type": "code",
      "execution_count": null,
      "metadata": {
        "colab": {
          "base_uri": "https://localhost:8080/"
        },
        "id": "_rbpL68Ab4uP",
        "outputId": "7ec25b8c-07a1-4c03-ae45-50b5d81b45aa"
      },
      "outputs": [
        {
          "name": "stdout",
          "output_type": "stream",
          "text": [
            "0.3247863247863248 54 ST\n"
          ]
        }
      ],
      "source": [
        "s1=df['Text Fragments A'][7]\n",
        "s2=df['Text Fragments B'][7]\n",
        "s3=df['Annotations'][7]\n",
        "Distance=levenshtein_ratio_and_distance(s1,s2)\n",
        "Ratio=levenshtein_ratio_and_distance(s1,s2,ratio_calc=True)\n",
        "print(Ratio,Distance,s3)"
      ]
    },
    {
      "cell_type": "code",
      "execution_count": null,
      "metadata": {
        "colab": {
          "base_uri": "https://localhost:8080/"
        },
        "id": "AaMUi0oicW-O",
        "outputId": "05833b46-7060-4048-ff6e-7a8036b7dc62"
      },
      "outputs": [
        {
          "name": "stdout",
          "output_type": "stream",
          "text": [
            "0.7936507936507936 19 ST\n"
          ]
        }
      ],
      "source": [
        "s1=df['Text Fragments A'][23]\n",
        "s2=df['Text Fragments B'][23]\n",
        "s3=df['Annotations'][23]\n",
        "Distance=levenshtein_ratio_and_distance(s1,s2)\n",
        "Ratio=levenshtein_ratio_and_distance(s1,s2,ratio_calc=True)\n",
        "print(Ratio,Distance,s3)"
      ]
    },
    {
      "cell_type": "markdown",
      "metadata": {
        "id": "Z_HMmgHQmzgN"
      },
      "source": [
        "On passe à l'utilisation de Jaccard en comparaison les resultats avec deux textes qui n'ont aucun rapport\n",
        "\n",
        "---\n",
        "\n"
      ]
    },
    {
      "cell_type": "code",
      "execution_count": null,
      "metadata": {
        "colab": {
          "base_uri": "https://localhost:8080/"
        },
        "id": "eN1qCO8Zmszo",
        "outputId": "eb32063f-3463-444b-bd82-6dc3dc328c84"
      },
      "outputs": [
        {
          "output_type": "execute_result",
          "data": {
            "text/plain": [
              "(0.7586206896551724, 'ST')"
            ]
          },
          "metadata": {},
          "execution_count": 49
        }
      ],
      "source": [
        "s1=df['Text Fragments A'][5]\n",
        "s2=df['Text Fragments B'][5]\n",
        "s3=df['Annotations'][5]\n",
        "\n",
        "jaccard(s1,s2),s3"
      ]
    },
    {
      "cell_type": "code",
      "execution_count": null,
      "metadata": {
        "colab": {
          "base_uri": "https://localhost:8080/"
        },
        "id": "3lFeF24ynSoi",
        "outputId": "9a3e6cba-a13d-4f61-b91b-09895bc5314b"
      },
      "outputs": [
        {
          "output_type": "execute_result",
          "data": {
            "text/plain": [
              "(0.8, 'ST')"
            ]
          },
          "metadata": {},
          "execution_count": 50
        }
      ],
      "source": [
        "s1=df['Text Fragments A'][6]\n",
        "s2=df['Text Fragments B'][6]\n",
        "s3=df['Annotations'][6]\n",
        "\n",
        "jaccard(s1,s2),s3"
      ]
    },
    {
      "cell_type": "code",
      "execution_count": null,
      "metadata": {
        "colab": {
          "base_uri": "https://localhost:8080/"
        },
        "id": "vmOVAjANnjIl",
        "outputId": "ae67985f-28ab-464b-8218-613c71f8d381"
      },
      "outputs": [
        {
          "data": {
            "text/plain": [
              "(0.68, 'ST')"
            ]
          },
          "execution_count": 25,
          "metadata": {},
          "output_type": "execute_result"
        }
      ],
      "source": [
        "s1=df['Text Fragments A'][15]\n",
        "s2=df['Text Fragments B'][15]\n",
        "s3=df['Annotations'][15]\n",
        "\n",
        "jaccard(s1,s2),s3"
      ]
    },
    {
      "cell_type": "markdown",
      "metadata": {
        "id": "JkTah-5_oo9H"
      },
      "source": [
        "Calcul avec la plus grande sous sequence \n",
        "\n",
        "---\n",
        "\n"
      ]
    },
    {
      "cell_type": "code",
      "execution_count": 32,
      "metadata": {
        "colab": {
          "base_uri": "https://localhost:8080/"
        },
        "id": "2isRc8-joo9I",
        "outputId": "19c9949e-81fc-4842-e5ad-0d3c338e7cfb"
      },
      "outputs": [
        {
          "output_type": "execute_result",
          "data": {
            "text/plain": [
              "(50, 'ST')"
            ]
          },
          "metadata": {},
          "execution_count": 32
        }
      ],
      "source": [
        "s1=df['Text Fragments A'][5]\n",
        "s2=df['Text Fragments B'][5]\n",
        "s3=df['Annotations'][5]\n",
        "\n",
        "\n",
        "lcs(s1,s2),s3"
      ]
    },
    {
      "cell_type": "code",
      "execution_count": 34,
      "metadata": {
        "colab": {
          "base_uri": "https://localhost:8080/"
        },
        "id": "XUYWXDvboo9K",
        "outputId": "6b6e218f-3774-4c17-ac6b-54556d1b4583"
      },
      "outputs": [
        {
          "output_type": "execute_result",
          "data": {
            "text/plain": [
              "(44, 'ST')"
            ]
          },
          "metadata": {},
          "execution_count": 34
        }
      ],
      "source": [
        "s1=df['Text Fragments A'][6]\n",
        "s2=df['Text Fragments B'][6]\n",
        "s3=df['Annotations'][6]\n",
        "\n",
        "\n",
        "lcs(s1,s2),s3"
      ]
    },
    {
      "cell_type": "code",
      "execution_count": null,
      "metadata": {
        "colab": {
          "base_uri": "https://localhost:8080/"
        },
        "id": "u3k-Dsiroo9M",
        "outputId": "f422627d-26d3-4685-a971-2759def1d1ea"
      },
      "outputs": [
        {
          "data": {
            "text/plain": [
              "(39, 'ST')"
            ]
          },
          "execution_count": 28,
          "metadata": {},
          "output_type": "execute_result"
        }
      ],
      "source": [
        "s1=df['Text Fragments A'][15]\n",
        "s2=df['Text Fragments B'][15]\n",
        "s3=df['Annotations'][15]\n",
        "\n",
        "\n",
        "lcs(s1,s2),s3"
      ]
    },
    {
      "cell_type": "markdown",
      "metadata": {
        "id": "XtL_atgfo7Ik"
      },
      "source": [
        "### N="
      ]
    },
    {
      "cell_type": "code",
      "source": [
        "s1=df['Text Fragments A'][255]\n",
        "s2=df['Text Fragments B'][255]\n",
        "s3=df['Annotations'][255]\n",
        "Distance=levenshtein_ratio_and_distance(s1,s2)\n",
        "Ratio=levenshtein_ratio_and_distance(s1,s2,ratio_calc=True)\n",
        "print(Ratio,Distance,s3)"
      ],
      "metadata": {
        "colab": {
          "base_uri": "https://localhost:8080/"
        },
        "id": "NrRowmtEhD3y",
        "outputId": "eaf7eae4-2e6c-4cab-c122-065ecd926bce"
      },
      "execution_count": null,
      "outputs": [
        {
          "output_type": "stream",
          "name": "stdout",
          "text": [
            "0.5130434782608696 89 N\n"
          ]
        }
      ]
    },
    {
      "cell_type": "code",
      "source": [
        "s1=df['Text Fragments A'][258]\n",
        "s2=df['Text Fragments B'][258]\n",
        "s3=df['Annotations'][258]\n",
        "Distance=levenshtein_ratio_and_distance(s1,s2)\n",
        "Ratio=levenshtein_ratio_and_distance(s1,s2,ratio_calc=True)\n",
        "print(Ratio,Distance,s3)"
      ],
      "metadata": {
        "colab": {
          "base_uri": "https://localhost:8080/"
        },
        "id": "dZldf42KhRas",
        "outputId": "d7619438-9678-4927-e7ec-d46cfa56172c"
      },
      "execution_count": null,
      "outputs": [
        {
          "output_type": "stream",
          "name": "stdout",
          "text": [
            "0.4095238095238095 83 N\n"
          ]
        }
      ]
    },
    {
      "cell_type": "markdown",
      "metadata": {
        "id": "3xPOOHoYo9gA"
      },
      "source": [
        "Calcul avec Jaccard\n",
        "\n",
        "---\n",
        "\n"
      ]
    },
    {
      "cell_type": "code",
      "execution_count": null,
      "metadata": {
        "colab": {
          "base_uri": "https://localhost:8080/"
        },
        "id": "qa2-Z4oUnsTm",
        "outputId": "b2f30888-e2c2-4d12-f5cc-006be8a6df3a"
      },
      "outputs": [
        {
          "data": {
            "text/plain": [
              "(0.7714285714285715, 'N')"
            ]
          },
          "execution_count": 29,
          "metadata": {},
          "output_type": "execute_result"
        }
      ],
      "source": [
        "s1=df['Text Fragments A'][255]\n",
        "s2=df['Text Fragments B'][255]\n",
        "s3=df['Annotations'][255]\n",
        "\n",
        "jaccard(s1,s2),s3"
      ]
    },
    {
      "cell_type": "code",
      "source": [
        "s1=df['Text Fragments A'][258]\n",
        "s2=df['Text Fragments B'][258]\n",
        "s3=df['Annotations'][258]\n",
        "\n",
        "jaccard(s1,s2),s3"
      ],
      "metadata": {
        "colab": {
          "base_uri": "https://localhost:8080/"
        },
        "id": "gGdYuadVjUu9",
        "outputId": "8e7e237d-e5fc-4e10-a92f-c9d08c068184"
      },
      "execution_count": null,
      "outputs": [
        {
          "output_type": "execute_result",
          "data": {
            "text/plain": [
              "(0.5945945945945946, 'N')"
            ]
          },
          "metadata": {},
          "execution_count": 51
        }
      ]
    },
    {
      "cell_type": "markdown",
      "metadata": {
        "id": "ioopMXpXpBma"
      },
      "source": [
        "Calcul avec la plus grande sous sequence \n",
        "\n",
        "---\n",
        "\n"
      ]
    },
    {
      "cell_type": "code",
      "execution_count": null,
      "metadata": {
        "colab": {
          "base_uri": "https://localhost:8080/"
        },
        "id": "8Vwi6aCtpBmd",
        "outputId": "b6cf0cde-fa68-43e8-906b-c262afe5fc0d"
      },
      "outputs": [
        {
          "data": {
            "text/plain": [
              "(59, 'N')"
            ]
          },
          "execution_count": 30,
          "metadata": {},
          "output_type": "execute_result"
        }
      ],
      "source": [
        "s1=df['Text Fragments A'][255]\n",
        "s2=df['Text Fragments B'][255]\n",
        "s3=df['Annotations'][255]\n",
        "\n",
        "\n",
        "lcs(s1,s2),s3"
      ]
    },
    {
      "cell_type": "code",
      "execution_count": null,
      "metadata": {
        "colab": {
          "base_uri": "https://localhost:8080/"
        },
        "id": "9m5Chx-QpBmg",
        "outputId": "43f0c27e-f60f-4694-bb75-ff97a4802468"
      },
      "outputs": [
        {
          "data": {
            "text/plain": [
              "(43, 'N')"
            ]
          },
          "execution_count": 31,
          "metadata": {},
          "output_type": "execute_result"
        }
      ],
      "source": [
        "s1=df['Text Fragments A'][258]\n",
        "s2=df['Text Fragments B'][258]\n",
        "s3=df['Annotations'][258]\n",
        "\n",
        "\n",
        "lcs(s1,s2),s3"
      ]
    },
    {
      "cell_type": "markdown",
      "metadata": {
        "id": "8hL3AhaOnCuI"
      },
      "source": [
        "## \"Allègement\" du texte brut "
      ]
    },
    {
      "cell_type": "markdown",
      "metadata": {
        "id": "oflEoSWbneFB"
      },
      "source": [
        "### Mot inutile"
      ]
    },
    {
      "cell_type": "markdown",
      "metadata": {
        "id": "SPS9hrldoImZ"
      },
      "source": [
        "On passe à la suppression des mots inutiles \n",
        "\n",
        "\n",
        "\n",
        "---\n",
        "\n",
        "\n"
      ]
    },
    {
      "cell_type": "code",
      "execution_count": 2,
      "metadata": {
        "id": "7zx0AZV_og2h"
      },
      "outputs": [],
      "source": [
        "def modif(a):\n",
        "  compter=0\n",
        "  characters = \"\\'\\\"\"\n",
        "  determinant=[\" the \", \" a \",  \" of \", \" this \", \" these \" ,\" my \", \" his \", \" your \", \" to \", \" in \", \" for \", \" with \",\" or \",\" and \",\" for \",\" not \",\" yet \",\" so \",\" but \",\" an \",\" her \",\" your \",\" these \",\" that \",\" those \",\" if \",\" since \",\" although \", \" as \", \" because \", \" before \", \" after \", \" how \", \" if \", \" once \", \" though \", \" than \", \" that \", \" till \", \" until \", \" when \", \" where \", \" while \",\" he \",\" she \",\" you \",\" I \",\" you \", \" our \", \" we \",\" they \" ] \n",
        "  Determinant=[\"The \", \"A \",  \"Of \", \"This \", \"These \" ,\"My \", \"His \", \"Your \", \"To \", \"In \", \"For \", \"With \",\"Or \",\"And \",\"For \",\"Not \",\"Yet \",\"So \",\"But \",\"An \",\"Her \",\"Your \",\"These \",\"That \",\"Those \",\"If \",\"Since \",\"Although \", \"As \", \"Because \", \"Before \", \"After \", \"How \", \"Once \", \"Though \", \"Than \", \"That \", \"Till \", \"Until \", \"When \", \"Where \", \"While \"] \n",
        "  for x in range(len(characters)):\n",
        "     a = a.replace(characters[x],\"\")\n",
        "  for x in range(len(determinant)):\n",
        "     a = a.replace(determinant[x],\" \")\n",
        "  for i in a:\n",
        "   return a"
      ]
    },
    {
      "cell_type": "code",
      "execution_count": null,
      "metadata": {
        "colab": {
          "base_uri": "https://localhost:8080/",
          "height": 37
        },
        "id": "vVtdWdnso1Lj",
        "outputId": "ca38f054-16ce-4962-8a17-7048c203b3f2"
      },
      "outputs": [
        {
          "data": {
            "application/vnd.google.colaboratory.intrinsic+json": {
              "type": "string"
            },
            "text/plain": [
              "'Hillary Clinton says she helped usher Iran to the negotiating table'"
            ]
          },
          "execution_count": 33,
          "metadata": {},
          "output_type": "execute_result"
        }
      ],
      "source": [
        "df['Text Fragments A'][15]"
      ]
    },
    {
      "cell_type": "code",
      "execution_count": null,
      "metadata": {
        "colab": {
          "base_uri": "https://localhost:8080/",
          "height": 37
        },
        "id": "qGNW2K-kotNz",
        "outputId": "f185fc0a-c1d0-4dc5-bb00-199c907d0930"
      },
      "outputs": [
        {
          "data": {
            "application/vnd.google.colaboratory.intrinsic+json": {
              "type": "string"
            },
            "text/plain": [
              "'Hillary Clinton says helped usher Iran negotiating table'"
            ]
          },
          "execution_count": 34,
          "metadata": {},
          "output_type": "execute_result"
        }
      ],
      "source": [
        "modif(df['Text Fragments A'][15])"
      ]
    },
    {
      "cell_type": "markdown",
      "metadata": {
        "id": "HIFxw6CdqHtu"
      },
      "source": [
        "On teste maintenat jaccard sans les mots inutiles\n",
        "\n",
        "---\n",
        "\n"
      ]
    },
    {
      "cell_type": "code",
      "execution_count": null,
      "metadata": {
        "colab": {
          "base_uri": "https://localhost:8080/"
        },
        "id": "sawSnhwCqOOD",
        "outputId": "b1d95aae-da2e-4d2c-9a5d-3c9465504f6c"
      },
      "outputs": [
        {
          "data": {
            "text/plain": [
              "(0.7083333333333334, 'ST')"
            ]
          },
          "execution_count": 35,
          "metadata": {},
          "output_type": "execute_result"
        }
      ],
      "source": [
        "s1=df['Text Fragments A'][15]\n",
        "s2=df['Text Fragments B'][15]\n",
        "s3=df['Annotations'][15]\n",
        "\n",
        "s1= modif(s1)\n",
        "s2=modif(s2)\n",
        "jaccard(s1,s2),s3"
      ]
    },
    {
      "cell_type": "code",
      "execution_count": null,
      "metadata": {
        "colab": {
          "base_uri": "https://localhost:8080/"
        },
        "id": "FqhrIRJdqc0g",
        "outputId": "9a369347-83b7-47cd-9a34-b43e86d11edb"
      },
      "outputs": [
        {
          "data": {
            "text/plain": [
              "(0.7142857142857143, 'N')"
            ]
          },
          "execution_count": 36,
          "metadata": {},
          "output_type": "execute_result"
        }
      ],
      "source": [
        "s1=df['Text Fragments A'][255]\n",
        "s2=df['Text Fragments B'][255]\n",
        "s3=df['Annotations'][255]\n",
        "\n",
        "s1= modif(s1)\n",
        "s2=modif(s2)\n",
        "jaccard(s1,s2),s3"
      ]
    },
    {
      "cell_type": "markdown",
      "metadata": {
        "id": "f6VFGwSyqkJ4"
      },
      "source": [
        "Résultat non concluant \n"
      ]
    },
    {
      "cell_type": "markdown",
      "metadata": {
        "id": "Qr8OtSupqqRH"
      },
      "source": [
        "On passe avec levenshtein sans les mots inutile\n",
        "\n",
        "---\n",
        "\n"
      ]
    },
    {
      "cell_type": "code",
      "execution_count": null,
      "metadata": {
        "colab": {
          "base_uri": "https://localhost:8080/"
        },
        "id": "9TJ_TH_bIBMy",
        "outputId": "d5b39c36-d63d-418a-baae-39782435f0a0"
      },
      "outputs": [
        {
          "name": "stdout",
          "output_type": "stream",
          "text": [
            "0.45714285714285713 62 ST\n"
          ]
        }
      ],
      "source": [
        "s1=df['Text Fragments A'][342]\n",
        "s2=df['Text Fragments B'][342]\n",
        "s3=df['Annotations'][15]\n",
        "\n",
        "s1= modif(s1)\n",
        "s2=modif(s2)\n",
        "Distance=levenshtein_ratio_and_distance(s1,s2)\n",
        "Ratio=levenshtein_ratio_and_distance(s1,s2,ratio_calc=True)\n",
        "\n",
        "print(Ratio,Distance,s3)"
      ]
    },
    {
      "cell_type": "code",
      "execution_count": null,
      "metadata": {
        "colab": {
          "base_uri": "https://localhost:8080/"
        },
        "id": "5LOmbEKHq8Br",
        "outputId": "fca6ec6c-f405-4d05-a5ec-c6878fd9d1e6"
      },
      "outputs": [
        {
          "name": "stdout",
          "output_type": "stream",
          "text": [
            "0.5333333333333333 48 ST\n"
          ]
        }
      ],
      "source": [
        "s1=df['Text Fragments A'][15]\n",
        "s2=df['Text Fragments B'][15]\n",
        "s3=df['Annotations'][15]\n",
        "\n",
        "s1= modif(s1)\n",
        "s2=modif(s2)\n",
        "Distance=levenshtein_ratio_and_distance(s1,s2)\n",
        "Ratio=levenshtein_ratio_and_distance(s1,s2,ratio_calc=True)\n",
        "\n",
        "print(Ratio,Distance,s3)"
      ]
    },
    {
      "cell_type": "code",
      "execution_count": null,
      "metadata": {
        "colab": {
          "base_uri": "https://localhost:8080/"
        },
        "id": "JtqvrO4prA3i",
        "outputId": "63dee8b0-eead-459b-9d29-e71ce60460f2"
      },
      "outputs": [
        {
          "name": "stdout",
          "output_type": "stream",
          "text": [
            "0.5454545454545454 69 N\n"
          ]
        }
      ],
      "source": [
        "s1=df['Text Fragments A'][255]\n",
        "s2=df['Text Fragments B'][255]\n",
        "s3=df['Annotations'][255]\n",
        "\n",
        "s1= modif(s1)\n",
        "s2=modif(s2)\n",
        "Distance=levenshtein_ratio_and_distance(s1,s2)\n",
        "Ratio=levenshtein_ratio_and_distance(s1,s2,ratio_calc=True)\n",
        "\n",
        "print(Ratio,Distance,s3)"
      ]
    },
    {
      "cell_type": "code",
      "execution_count": null,
      "metadata": {
        "colab": {
          "base_uri": "https://localhost:8080/"
        },
        "id": "m5hkKUE-sSkp",
        "outputId": "e21f4417-ca89-4889-9429-b112b53b447f"
      },
      "outputs": [
        {
          "name": "stdout",
          "output_type": "stream",
          "text": [
            "0.3247863247863248 54 ST\n"
          ]
        }
      ],
      "source": [
        "s1=df['Text Fragments A'][7]\n",
        "s2=df['Text Fragments B'][7]\n",
        "s3=df['Annotations'][7]\n",
        "\n",
        "s1= modif(s1)\n",
        "s2=modif(s2)\n",
        "Distance=levenshtein_ratio_and_distance(s1,s2)\n",
        "Ratio=levenshtein_ratio_and_distance(s1,s2,ratio_calc=True)\n",
        "\n",
        "print(Ratio,Distance,s3)"
      ]
    },
    {
      "cell_type": "code",
      "execution_count": null,
      "metadata": {
        "colab": {
          "base_uri": "https://localhost:8080/"
        },
        "id": "pe__RS57sbUF",
        "outputId": "8ae66074-2df9-44d1-f88b-223c20ed9da0"
      },
      "outputs": [
        {
          "name": "stdout",
          "output_type": "stream",
          "text": [
            "0.819672131147541 15 ST\n"
          ]
        }
      ],
      "source": [
        "s1=df['Text Fragments A'][23]\n",
        "s2=df['Text Fragments B'][23]\n",
        "s3=df['Annotations'][23]\n",
        "\n",
        "s1= modif(s1)\n",
        "s2=modif(s2)\n",
        "Distance=levenshtein_ratio_and_distance(s1,s2)\n",
        "Ratio=levenshtein_ratio_and_distance(s1,s2,ratio_calc=True)\n",
        "\n",
        "print(Ratio,Distance,s3)"
      ]
    },
    {
      "cell_type": "markdown",
      "metadata": {
        "id": "U4LhTyr4pYt6"
      },
      "source": [
        "LCS sans les mots inutiles\n",
        "\n",
        "---\n",
        "\n"
      ]
    },
    {
      "cell_type": "code",
      "execution_count": null,
      "metadata": {
        "colab": {
          "base_uri": "https://localhost:8080/"
        },
        "id": "vH73SC2mpYuD",
        "outputId": "65376a3a-5273-48cd-cc09-9b3cef76f602"
      },
      "outputs": [
        {
          "data": {
            "text/plain": [
              "(50, 'ST')"
            ]
          },
          "execution_count": 42,
          "metadata": {},
          "output_type": "execute_result"
        }
      ],
      "source": [
        "s1=df['Text Fragments A'][23]\n",
        "s2=df['Text Fragments B'][23]\n",
        "s3=df['Annotations'][23]\n",
        "\n",
        "s1=modif(s1)\n",
        "s2=modif(s2)\n",
        "\n",
        "lcs(s1,s2),s3"
      ]
    },
    {
      "cell_type": "code",
      "execution_count": null,
      "metadata": {
        "colab": {
          "base_uri": "https://localhost:8080/"
        },
        "id": "7UzfO5oWpYuG",
        "outputId": "0e881737-239a-4819-9ebf-634fc55c5b26"
      },
      "outputs": [
        {
          "data": {
            "text/plain": [
              "(36, 'ST')"
            ]
          },
          "execution_count": 43,
          "metadata": {},
          "output_type": "execute_result"
        }
      ],
      "source": [
        "s1=df['Text Fragments A'][15]\n",
        "s2=df['Text Fragments B'][15]\n",
        "s3=df['Annotations'][15]\n",
        "\n",
        "s1=modif(s1)\n",
        "s2=modif(s2)\n",
        "\n",
        "lcs(s1,s2),s3"
      ]
    },
    {
      "cell_type": "code",
      "execution_count": null,
      "metadata": {
        "colab": {
          "base_uri": "https://localhost:8080/"
        },
        "id": "c6gRxPyOpYuH",
        "outputId": "fc9a78e4-f1a3-48da-93fa-e464996d8485"
      },
      "outputs": [
        {
          "data": {
            "text/plain": [
              "(54, 'N')"
            ]
          },
          "execution_count": 44,
          "metadata": {},
          "output_type": "execute_result"
        }
      ],
      "source": [
        "s1=df['Text Fragments A'][255]\n",
        "s2=df['Text Fragments B'][255]\n",
        "s3=df['Annotations'][255]\n",
        "\n",
        "s1=modif(s1)\n",
        "s2=modif(s2)\n",
        "\n",
        "lcs(s1,s2),s3"
      ]
    },
    {
      "cell_type": "markdown",
      "metadata": {
        "id": "9hP3FBeppYuI"
      },
      "source": [
        "Pour l'instant résultat pas très concluant"
      ]
    },
    {
      "cell_type": "markdown",
      "metadata": {
        "id": "mjgJdumPnX_X"
      },
      "source": [
        "### Noms Propres"
      ]
    },
    {
      "cell_type": "markdown",
      "metadata": {
        "id": "rS-bTwspwc97"
      },
      "source": [
        "Reflexion autour des Noms Propres ( majuscule) pour une comparaison\n",
        "\n",
        "---\n",
        "\n"
      ]
    },
    {
      "cell_type": "code",
      "execution_count": null,
      "metadata": {
        "colab": {
          "base_uri": "https://localhost:8080/",
          "height": 54
        },
        "id": "CifobWnRwEp6",
        "outputId": "39e7fbc5-46d1-4891-9b4c-2d67a23eb35a"
      },
      "outputs": [
        {
          "output_type": "execute_result",
          "data": {
            "text/plain": [
              "'U. S. Rep. David Cicilline says that when he was mayor of Providence, the city’s internal auditor was not blocked from accessing financial records'"
            ],
            "application/vnd.google.colaboratory.intrinsic+json": {
              "type": "string"
            }
          },
          "metadata": {},
          "execution_count": 55
        }
      ],
      "source": [
        "df['Text Fragments A'][255]"
      ]
    },
    {
      "cell_type": "code",
      "execution_count": null,
      "metadata": {
        "colab": {
          "base_uri": "https://localhost:8080/",
          "height": 37
        },
        "id": "O-zA-j0jwHmi",
        "outputId": "0e1373c8-a5b0-4052-93fb-96c8928923ee"
      },
      "outputs": [
        {
          "output_type": "execute_result",
          "data": {
            "text/plain": [
              "'Alan Grayson says more Walmart employees on Medicaid, food stamps than other companies'"
            ],
            "application/vnd.google.colaboratory.intrinsic+json": {
              "type": "string"
            }
          },
          "metadata": {},
          "execution_count": 54
        }
      ],
      "source": [
        "df['Text Fragments B'][45]"
      ]
    },
    {
      "cell_type": "code",
      "execution_count": 10,
      "metadata": {
        "id": "g0uxKPxfwm-A"
      },
      "outputs": [],
      "source": [
        "def NomsPropres(a):\n",
        "  compter=0\n",
        "  a= a.split()\n",
        "  b=[]\n",
        "  string=''\n",
        "  for x in a : \n",
        "      if x[0].isupper(): \n",
        "        b.append(x)\n",
        "  for x in b: \n",
        "    string += ' ' + x\n",
        "  return string"
      ]
    },
    {
      "cell_type": "code",
      "execution_count": null,
      "metadata": {
        "colab": {
          "base_uri": "https://localhost:8080/"
        },
        "id": "-rYWRJBwwsdJ",
        "outputId": "78e85c0b-a31d-49f2-d8c4-a0ce810b0faf"
      },
      "outputs": [
        {
          "data": {
            "text/plain": [
              "(' FALSE: Attack Tony Thurmond ACLU’', 'ST')"
            ]
          },
          "execution_count": 48,
          "metadata": {},
          "output_type": "execute_result"
        }
      ],
      "source": [
        "NomsPropres(df['Text Fragments B'][23]),df['Annotations'][23]"
      ]
    },
    {
      "cell_type": "code",
      "execution_count": null,
      "metadata": {
        "colab": {
          "base_uri": "https://localhost:8080/"
        },
        "id": "TmqRurX6yfDh",
        "outputId": "da1e34ef-bb32-4df9-acb0-816fb675bed1"
      },
      "outputs": [
        {
          "data": {
            "text/plain": [
              "(' FALSE: Attack Tony Thurmond Obama', 'ST')"
            ]
          },
          "execution_count": 49,
          "metadata": {},
          "output_type": "execute_result"
        }
      ],
      "source": [
        "NomsPropres(df['Text Fragments A'][23]),df['Annotations'][23]"
      ]
    },
    {
      "cell_type": "code",
      "execution_count": null,
      "metadata": {
        "colab": {
          "base_uri": "https://localhost:8080/"
        },
        "id": "DgPIY0zMynGS",
        "outputId": "75ef0d03-1511-4be2-d1fc-aa703b3f4d78"
      },
      "outputs": [
        {
          "data": {
            "text/plain": [
              "(' Has The Uranium One Controversy Been', 'ST')"
            ]
          },
          "execution_count": 50,
          "metadata": {},
          "output_type": "execute_result"
        }
      ],
      "source": [
        "NomsPropres(df['Text Fragments B'][7]),df['Annotations'][7]"
      ]
    },
    {
      "cell_type": "code",
      "execution_count": null,
      "metadata": {
        "colab": {
          "base_uri": "https://localhost:8080/"
        },
        "id": "jDvGSFmgyqBt",
        "outputId": "9c33d1eb-768c-4cb4-b227-e07ae129c1b9"
      },
      "outputs": [
        {
          "data": {
            "text/plain": [
              "(' MSNBC Host Fact Checks Clinton Foundation Theory’', 'ST')"
            ]
          },
          "execution_count": 51,
          "metadata": {},
          "output_type": "execute_result"
        }
      ],
      "source": [
        "NomsPropres(df['Text Fragments A'][7]),df['Annotations'][7]"
      ]
    },
    {
      "cell_type": "code",
      "execution_count": null,
      "metadata": {
        "colab": {
          "base_uri": "https://localhost:8080/"
        },
        "id": "IU7M_zfNy1LU",
        "outputId": "15488f7c-4527-4449-a7a2-227316489fec"
      },
      "outputs": [
        {
          "data": {
            "text/plain": [
              "(' U. S. Rep. David Cicilline Providence,', 'N')"
            ]
          },
          "execution_count": 52,
          "metadata": {},
          "output_type": "execute_result"
        }
      ],
      "source": [
        "NomsPropres(df['Text Fragments A'][255]),df['Annotations'][255]"
      ]
    },
    {
      "cell_type": "code",
      "execution_count": null,
      "metadata": {
        "colab": {
          "base_uri": "https://localhost:8080/"
        },
        "id": "mT46QMacy4sI",
        "outputId": "312a2d9a-e12c-42ec-c3d4-2e424bc6fee1"
      },
      "outputs": [
        {
          "data": {
            "text/plain": [
              "(' U.S. Rep. David Cicilline United States', 'N')"
            ]
          },
          "execution_count": 53,
          "metadata": {},
          "output_type": "execute_result"
        }
      ],
      "source": [
        "NomsPropres(df['Text Fragments B'][255]),df['Annotations'][255]"
      ]
    },
    {
      "cell_type": "markdown",
      "metadata": {
        "id": "5btVG337zyXA"
      },
      "source": [
        "On peut essayer de faire un levenshtein entre les Noms Propres \n",
        "\n",
        "---\n",
        "\n"
      ]
    },
    {
      "cell_type": "code",
      "execution_count": null,
      "metadata": {
        "colab": {
          "base_uri": "https://localhost:8080/"
        },
        "id": "W-k66TN5z6FN",
        "outputId": "adfd9630-e8d6-46db-e4e5-68edfe5f2060"
      },
      "outputs": [
        {
          "name": "stdout",
          "output_type": "stream",
          "text": [
            "0.39080459770114945 40 ST\n"
          ]
        }
      ],
      "source": [
        "s1=df['Text Fragments A'][7]\n",
        "s2=df['Text Fragments B'][7]\n",
        "s3=df['Annotations'][7]\n",
        "\n",
        "s1= NomsPropres(s1)\n",
        "s2=NomsPropres(s2)\n",
        "Distance=levenshtein_ratio_and_distance(s1,s2)\n",
        "Ratio=levenshtein_ratio_and_distance(s1,s2,ratio_calc=True)\n",
        "\n",
        "print(Ratio,Distance,s3)"
      ]
    },
    {
      "cell_type": "code",
      "execution_count": null,
      "metadata": {
        "colab": {
          "base_uri": "https://localhost:8080/"
        },
        "id": "KnV5KhyjFXws",
        "outputId": "15243ea3-c868-4a88-967d-206b58e6b5af"
      },
      "outputs": [
        {
          "name": "stdout",
          "output_type": "stream",
          "text": [
            "0.6341463414634146 12 E*\n"
          ]
        }
      ],
      "source": [
        "s1=df['Text Fragments A'][13]\n",
        "s2=df['Text Fragments B'][13]\n",
        "s3=df['Annotations'][4]\n",
        "\n",
        "s1= NomsPropres(s1)\n",
        "s2=NomsPropres(s2)\n",
        "Distance=levenshtein_ratio_and_distance(s1,s2)\n",
        "Ratio=levenshtein_ratio_and_distance(s1,s2,ratio_calc=True)\n",
        "\n",
        "print(Ratio,Distance,s3)"
      ]
    },
    {
      "cell_type": "code",
      "execution_count": null,
      "metadata": {
        "colab": {
          "base_uri": "https://localhost:8080/"
        },
        "id": "4kLQMqUu0Gq0",
        "outputId": "272e17ba-1aea-46c4-fe95-e9a2e74eeda6"
      },
      "outputs": [
        {
          "name": "stdout",
          "output_type": "stream",
          "text": [
            "0.7450980392156863 12 N\n"
          ]
        }
      ],
      "source": [
        "s1=df['Text Fragments A'][342]\n",
        "s2=df['Text Fragments B'][342]\n",
        "s3=df['Annotations'][340]\n",
        "\n",
        "s1= NomsPropres(s1)\n",
        "s2=NomsPropres(s2)\n",
        "Distance=levenshtein_ratio_and_distance(s1,s2)\n",
        "Ratio=levenshtein_ratio_and_distance(s1,s2,ratio_calc=True)\n",
        "\n",
        "print(Ratio,Distance,s3)"
      ]
    },
    {
      "cell_type": "markdown",
      "metadata": {
        "id": "F1g9uo-YnmZa"
      },
      "source": [
        "## Création Fonction"
      ]
    },
    {
      "cell_type": "markdown",
      "metadata": {
        "id": "xy_WUi6n0ePd"
      },
      "source": [
        "Calcul des similitudes selon un programme \"simple\"\n",
        "\n",
        "---\n",
        "\n"
      ]
    },
    {
      "cell_type": "code",
      "execution_count": null,
      "metadata": {
        "id": "B7921GNw0nI8"
      },
      "outputs": [],
      "source": [
        "def similitude(a, b):\n",
        "  compter=0\n",
        "  characters = \"\\'\\\"\"\n",
        "  for x in range(len(characters)):\n",
        "    a = a.replace(characters[x],\"\")\n",
        "    b = b.replace(characters[x],\"\")\n",
        " #couper toutes les partie en caractèere \n",
        "  a= a.split()\n",
        "  b=b.split()\n",
        "  for x in a:\n",
        "      for y in b:\n",
        "            if x == y:\n",
        "                 compter=compter+1\n",
        "      \n",
        " \n",
        "       \n",
        "  return compter"
      ]
    },
    {
      "cell_type": "code",
      "execution_count": null,
      "metadata": {
        "colab": {
          "base_uri": "https://localhost:8080/"
        },
        "id": "vkBXTxYO05gd",
        "outputId": "233cdd58-d31b-422f-d4d7-a8c3c0574aa1"
      },
      "outputs": [
        {
          "data": {
            "text/plain": [
              "(8, 'ST')"
            ]
          },
          "execution_count": 58,
          "metadata": {},
          "output_type": "execute_result"
        }
      ],
      "source": [
        "s1=df['Text Fragments A'][23]\n",
        "s2=df['Text Fragments B'][23]\n",
        "s3=df['Annotations'][23]\n",
        "\n",
        "\n",
        "similitude(s1,s2),s3"
      ]
    },
    {
      "cell_type": "code",
      "execution_count": null,
      "metadata": {
        "colab": {
          "base_uri": "https://localhost:8080/"
        },
        "id": "DFhukhfN1Awm",
        "outputId": "b748148e-bf58-45ce-b063-a076b69feb5a"
      },
      "outputs": [
        {
          "data": {
            "text/plain": [
              "(0, 'ST')"
            ]
          },
          "execution_count": 59,
          "metadata": {},
          "output_type": "execute_result"
        }
      ],
      "source": [
        "s1=df['Text Fragments A'][7]\n",
        "s2=df['Text Fragments B'][7]\n",
        "s3=df['Annotations'][7]\n",
        "\n",
        "\n",
        "similitude(s1,s2),s3"
      ]
    },
    {
      "cell_type": "code",
      "execution_count": null,
      "metadata": {
        "colab": {
          "base_uri": "https://localhost:8080/"
        },
        "id": "rbPZcAQP0tsq",
        "outputId": "9b2d9ac7-f39e-43e2-ccf6-50969a5665d1"
      },
      "outputs": [
        {
          "data": {
            "text/plain": [
              "(5, 'N')"
            ]
          },
          "execution_count": 60,
          "metadata": {},
          "output_type": "execute_result"
        }
      ],
      "source": [
        "s1=df['Text Fragments A'][255]\n",
        "s2=df['Text Fragments B'][255]\n",
        "s3=df['Annotations'][255]\n",
        "\n",
        "\n",
        "similitude(s1,s2),s3"
      ]
    },
    {
      "cell_type": "markdown",
      "metadata": {
        "id": "ygz3YHup24RK"
      },
      "source": [
        "## Essaie de quelques programmes \n",
        "---\n",
        "\n"
      ]
    },
    {
      "cell_type": "markdown",
      "metadata": {
        "id": "keOwYmKGp63Z"
      },
      "source": [
        "### Travail en amont pour lier les données"
      ]
    },
    {
      "cell_type": "markdown",
      "metadata": {
        "id": "76K0k0Vn3vrS"
      },
      "source": [
        "Création d'un premier programme pour retrouver les auteurs \n",
        "\n",
        "---\n",
        "\n"
      ]
    },
    {
      "cell_type": "code",
      "execution_count": 14,
      "metadata": {
        "id": "rYybZIWb3u3D"
      },
      "outputs": [],
      "source": [
        "def auteur(a):\n",
        "  count=0\n",
        "  for i in df['Text Fragments A']: \n",
        "    count=count+1\n",
        "    if (df['Text Fragments A'][count] == a) and (df['Text Fragments B'][count] == a):\n",
        "      return df['Entities A'][count]\n",
        "    else:\n",
        "      if df['Text Fragments A'][count] == a:\n",
        "        return df[\"Entities A\"][count]\n",
        "      if df['Text Fragments B'][count] == a:\n",
        "        return df[\"Entities B\"][count]\n"
      ]
    },
    {
      "cell_type": "code",
      "execution_count": null,
      "metadata": {
        "colab": {
          "base_uri": "https://localhost:8080/",
          "height": 71
        },
        "id": "ww1qHM9m5NPs",
        "outputId": "ef8b79c6-f8c6-4f4c-90f9-8d9c27d721f4"
      },
      "outputs": [
        {
          "data": {
            "application/vnd.google.colaboratory.intrinsic+json": {
              "type": "string"
            },
            "text/plain": [
              "'Rick_Perry;Mitt_Romney;Massachusetts_health_care_reform;Massachusetts_health_care_reform;Dan_Balz;The_Washington_Post;Barack_Obama;PolitiFact;Angie_Drobnic_Holan;Laboratories_of_democracy;Rick_Perry;Mitt_Romney'"
            ]
          },
          "execution_count": 62,
          "metadata": {},
          "output_type": "execute_result"
        }
      ],
      "source": [
        "auteur(df['Text Fragments A'][30])"
      ]
    },
    {
      "cell_type": "markdown",
      "metadata": {
        "id": "uaf8sWTZ7pSb"
      },
      "source": [
        "Création d'un second programme pour vérifier si l'Annotation correspond au bon résultat\n",
        "\n",
        "---\n",
        "\n"
      ]
    },
    {
      "cell_type": "code",
      "execution_count": 11,
      "metadata": {
        "id": "GfZszDPy7m9D"
      },
      "outputs": [],
      "source": [
        "def annotation(a):\n",
        "  count=0\n",
        "  for i in df['Text Fragments A']: \n",
        "    count=count+1\n",
        "    if (df['Text Fragments A'][count] == a) or (df['Text Fragments B'][count] == a):\n",
        "      return df['Annotations'][count]"
      ]
    },
    {
      "cell_type": "code",
      "execution_count": null,
      "metadata": {
        "colab": {
          "base_uri": "https://localhost:8080/",
          "height": 37
        },
        "id": "viI6Io4x8ONf",
        "outputId": "c22786c2-4c50-4f53-f4e5-36aebb6226a6"
      },
      "outputs": [
        {
          "data": {
            "application/vnd.google.colaboratory.intrinsic+json": {
              "type": "string"
            },
            "text/plain": [
              "'E'"
            ]
          },
          "execution_count": 64,
          "metadata": {},
          "output_type": "execute_result"
        }
      ],
      "source": [
        "annotation(df['Text Fragments A'][30])"
      ]
    },
    {
      "cell_type": "markdown",
      "metadata": {
        "id": "QUzNgkIS6icR"
      },
      "source": [
        "### Création de programme \"vague\" pour retrouver niveau de correspondance \n",
        "\n",
        "---\n",
        "\n",
        "\n"
      ]
    },
    {
      "cell_type": "code",
      "execution_count": null,
      "metadata": {
        "id": "rNgACWi02_d_"
      },
      "outputs": [],
      "source": [
        "def programme1(a,b): \n",
        "  Distance=int(levenshtein_ratio_and_distance(a,b))\n",
        "  Ratio=levenshtein_ratio_and_distance(a,b,ratio_calc=True)\n",
        "  auteur1=auteur(a)\n",
        "  auteur2=auteur(b)\n",
        "  Distanceauteur=levenshtein_ratio_and_distance(auteur1,auteur2)\n",
        "  Ratioauteur=levenshtein_ratio_and_distance(auteur1,auteur2,ratio_calc=True)\n",
        "  DNP=levenshtein_ratio_and_distance(NomsPropres(a),NomsPropres(b))\n",
        "  RNP=levenshtein_ratio_and_distance(NomsPropres(a),NomsPropres(b),ratio_calc=True)\n",
        "  LCS=lcs(a,b)\n",
        "  Jaccard=jaccard(modif(a),modif(b))\n",
        "  res=[]\n",
        "  if (int(Distance) == 0) and (int(Ratio) == 1) : \n",
        "    if (int(Distanceauteur) == 0) and (int(Ratioauteur) == 1):\n",
        "      res.append('E')\n",
        "  #partie non sure \n",
        "  else : \n",
        "    if Distance > 60: \n",
        "      res.append('N')\n",
        "    if LCS >=40 and LCS <= 50:\n",
        "      res.append('E*')\n",
        "      res.append('N')\n",
        "    if LCS <20:\n",
        "       res.append('ST')\n",
        "    if Distance <60:\n",
        "      res.append('E*')\n",
        "      res.append('ST')\n",
        "    if RNP > Ratio : \n",
        "       res.append('ST')\n",
        "  if len(res)== 0: \n",
        "      res=[\"TOUS\"]\n",
        "  #print(\"Le bon résultat est : \",annotation(a))\n",
        "  return res\n",
        "\n"
      ]
    },
    {
      "cell_type": "markdown",
      "metadata": {
        "id": "6mSFxojXWA9f"
      },
      "source": [
        "Ce programme donne les bons résultats sauf pour les cas particuliers de E( 30, 36, 40, 51). \n",
        "Les résultats sont très vague mais parmi les résultats il y a la bonne réponse. Souvent en plus grande probabilité ou en probabilité égale."
      ]
    },
    {
      "cell_type": "code",
      "execution_count": null,
      "metadata": {
        "colab": {
          "base_uri": "https://localhost:8080/"
        },
        "id": "ov4JVKfr8hoi",
        "outputId": "064ee6f9-0487-492f-e769-6ba89b2ac747"
      },
      "outputs": [
        {
          "data": {
            "text/plain": [
              "['ST', 'E*', 'ST', 'ST']"
            ]
          },
          "execution_count": 66,
          "metadata": {},
          "output_type": "execute_result"
        }
      ],
      "source": [
        "programme1(df['Text Fragments A'][7],df['Text Fragments B'][7])"
      ]
    },
    {
      "cell_type": "markdown",
      "metadata": {
        "id": "OB8Gi-miYAMj"
      },
      "source": [
        "Création d'un second programme avec potentiellement moins de chance mais plus précis.\n",
        "\n",
        "---\n",
        "\n"
      ]
    },
    {
      "cell_type": "code",
      "execution_count": null,
      "metadata": {
        "id": "ciTYossUXq_j"
      },
      "outputs": [],
      "source": [
        "def programme2(a,b): \n",
        "  Distance=int(levenshtein_ratio_and_distance(a,b))\n",
        "  Ratio=levenshtein_ratio_and_distance(a,b,ratio_calc=True)\n",
        "  auteur1=auteur(a)\n",
        "  auteur2=auteur(b)\n",
        "  Distanceauteur=levenshtein_ratio_and_distance(auteur1,auteur2)\n",
        "  Ratioauteur=levenshtein_ratio_and_distance(auteur1,auteur2,ratio_calc=True)\n",
        "  DNP=levenshtein_ratio_and_distance(NomsPropres(a),NomsPropres(b))\n",
        "  RNP=levenshtein_ratio_and_distance(NomsPropres(a),NomsPropres(b),ratio_calc=True)\n",
        "  LCS=lcs(a,b)\n",
        "  Jaccard=jaccard(modif(a),modif(b))\n",
        "  Etoile=0\n",
        "  Nature=0\n",
        "  ST=0\n",
        "  res=[]\n",
        "  if (int(Distance) == 0) and (int(Ratio) == 1) : \n",
        "    if (int(Distanceauteur) == 0) and (int(Ratioauteur) == 1):\n",
        "      res.append(\"E\")\n",
        "  #partie non sure \n",
        "  else : \n",
        "    if Distance > 60: \n",
        "      Nature=Nature+1\n",
        "    if LCS >=40 and LCS <= 50:\n",
        "     Etoile=Etoile+1\n",
        "     Nature=Nature+1\n",
        "    if LCS <20:\n",
        "       ST=ST+2\n",
        "    if Distance <60:\n",
        "      Etoile=Etoile+1\n",
        "      ST=ST+1\n",
        "    if RNP > Ratio : \n",
        "       ST=ST+1\n",
        "    if Nature > Etoile and Nature > ST and ST > Etoile: \n",
        "      res.append(\"N\")\n",
        "    if Etoile > Nature and Etoile > ST  : \n",
        "      res.append(\"E*\")\n",
        "    if ST > Etoile and ST> Nature  : \n",
        "     res.append(\"ST\")\n",
        "    if len(res) == 0 : \n",
        "      res.append('AUCUN RESULTAT')\n",
        "  #print(\"le bon résultat est : \",annotation(a))\n",
        "  return res\n",
        "  "
      ]
    },
    {
      "cell_type": "code",
      "execution_count": null,
      "metadata": {
        "colab": {
          "base_uri": "https://localhost:8080/"
        },
        "id": "H8KyK8DxZdUT",
        "outputId": "2aeed9a8-8b24-4a7b-a168-9ec3c0d7b2ff"
      },
      "outputs": [
        {
          "data": {
            "text/plain": [
              "['ST']"
            ]
          },
          "execution_count": 68,
          "metadata": {},
          "output_type": "execute_result"
        }
      ],
      "source": [
        "x=22\n",
        "programme2(df['Text Fragments A'][x],df['Text Fragments B'][x])"
      ]
    },
    {
      "cell_type": "markdown",
      "metadata": {
        "id": "-urFnDQtmTqY"
      },
      "source": [
        "Calcul du pourcentage de réussite du programme 1 \n",
        "\n",
        "---\n",
        "\n"
      ]
    },
    {
      "cell_type": "code",
      "execution_count": null,
      "metadata": {
        "colab": {
          "base_uri": "https://localhost:8080/"
        },
        "id": "W7uPz6jymceg",
        "outputId": "f4463a7e-d1a8-461e-81d3-3461761a9f76"
      },
      "outputs": [
        {
          "name": "stdout",
          "output_type": "stream",
          "text": [
            "73.28767123287672  % de réussite\n"
          ]
        }
      ],
      "source": [
        "count=0\n",
        "calcul=0\n",
        "for i in df['Text Fragments A']:\n",
        "  count=count+1\n",
        "  programme=programme1(df['Text Fragments A'][count],df['Text Fragments B'][count])\n",
        "  if (annotation(df['Text Fragments A'][count]) in programme):\n",
        "    calcul=calcul+1\n",
        "\n",
        "resultat=calcul*100/len(df['Text Fragments A'])\n",
        "print(resultat,\" % de réussite\")"
      ]
    },
    {
      "cell_type": "markdown",
      "metadata": {
        "id": "g3IviMiScEdm"
      },
      "source": [
        "Calcul du pourcentage de réussite du programme 2 \n",
        "\n",
        "---\n",
        "\n"
      ]
    },
    {
      "cell_type": "code",
      "execution_count": null,
      "metadata": {
        "colab": {
          "base_uri": "https://localhost:8080/"
        },
        "id": "8WczLkqbc34v",
        "outputId": "51bf9bf4-7f8e-40aa-ed5d-2866b516750b"
      },
      "outputs": [
        {
          "name": "stdout",
          "output_type": "stream",
          "text": [
            "13.698630136986301  % de réussite\n"
          ]
        }
      ],
      "source": [
        "count=0\n",
        "calcul=0\n",
        "for i in df['Text Fragments A']:\n",
        "  count=count+1\n",
        "  programme=programme2(df['Text Fragments A'][count],df['Text Fragments B'][count])\n",
        "  if (annotation(df['Text Fragments A'][count])in programme):\n",
        "    calcul=calcul+1\n",
        "\n",
        "resultat=calcul*100/len(df['Text Fragments A'])\n",
        "print(resultat,\" % de réussite\")"
      ]
    },
    {
      "cell_type": "markdown",
      "metadata": {
        "id": "pfJHZhXrsAvh"
      },
      "source": [
        "### Programme un peu + précis (calcul à partir de point)\n",
        "\n",
        "---\n",
        "\n",
        "\n",
        "\n",
        "\n"
      ]
    },
    {
      "cell_type": "code",
      "execution_count": null,
      "metadata": {
        "id": "of6eTr9jsdKU"
      },
      "outputs": [],
      "source": [
        "def programme3(a,b): \n",
        "  Distance=int(levenshtein_ratio_and_distance(a,b))\n",
        "  Ratio=levenshtein_ratio_and_distance(a,b,ratio_calc=True)\n",
        "  auteur1=auteur(a)\n",
        "  auteur2=auteur(b)\n",
        "  Distanceauteur=levenshtein_ratio_and_distance(auteur1,auteur2)\n",
        "  Ratioauteur=levenshtein_ratio_and_distance(auteur1,auteur2,ratio_calc=True)\n",
        "  DNP=levenshtein_ratio_and_distance(NomsPropres(a),NomsPropres(b))\n",
        "  RNP=levenshtein_ratio_and_distance(NomsPropres(a),NomsPropres(b),ratio_calc=True)\n",
        "  LCS=lcs(a,b)\n",
        "  Jaccard=jaccard(modif(a),modif(b))\n",
        "  Etoile=0\n",
        "  Nature=0\n",
        "  ST=0\n",
        "  res=[]\n",
        "  if (int(Distance) == 0) and (int(Ratio) == 1) : \n",
        "    if (int(Distanceauteur) == 0) and (int(Ratioauteur) == 1):\n",
        "      res.append(\"E\")\n",
        "  #partie non sure \n",
        "  else : \n",
        "    if Distance > 60: \n",
        "      Nature=Nature+1\n",
        "    if LCS >=40 and LCS <= 50:\n",
        "     Etoile=Etoile+1\n",
        "     Nature=Nature+1\n",
        "    if LCS <20:\n",
        "       ST=ST+2\n",
        "    if Distance <60:\n",
        "      Etoile=Etoile+1\n",
        "      ST=ST+1\n",
        "    if RNP > Ratio : \n",
        "       ST=ST+1\n",
        "    if Nature > Etoile and Nature > ST and ST > Etoile: \n",
        "      res.append(\"N\")\n",
        "    if Etoile > Nature and Etoile > ST  : \n",
        "      res.append(\"E*\")\n",
        "    if ST > Etoile and ST> Nature  : \n",
        "     res.append(\"ST\")\n",
        "    if ST == Etoile or ST == Nature or Etoile ==Nature: \n",
        "      res.append(\"E*\")\n",
        "      res.append(\"ST\")\n",
        "      res.append(\"N\")\n",
        "    if len(res) == 0 : \n",
        "      res.append('AUCUN RESULTAT')\n",
        "  #print(\"le bon résultat est : \",annotation(a))\n",
        "  return res\n",
        "  \n",
        "  "
      ]
    },
    {
      "cell_type": "markdown",
      "metadata": {
        "id": "r3QgEFn9u3AP"
      },
      "source": [
        "Calcul du pourcentage de réussite du programme 3\n",
        "\n",
        "---\n",
        "\n"
      ]
    },
    {
      "cell_type": "code",
      "execution_count": null,
      "metadata": {
        "colab": {
          "base_uri": "https://localhost:8080/"
        },
        "id": "Z2sDuDlru8GF",
        "outputId": "db591fa6-ee7b-4af7-cd3d-ed4001d07918"
      },
      "outputs": [
        {
          "name": "stdout",
          "output_type": "stream",
          "text": [
            "76.54109589041096  % de réussite\n"
          ]
        }
      ],
      "source": [
        "count=0\n",
        "calcul=0\n",
        "for i in df['Text Fragments A']:\n",
        "  count=count+1\n",
        "  programme=programme3(df['Text Fragments A'][count],df['Text Fragments B'][count])\n",
        "  if (annotation(df['Text Fragments A'][count])in programme):\n",
        "    calcul=calcul+1\n",
        "\n",
        "resultat=calcul*100/len(df['Text Fragments A'])\n",
        "print(resultat,\" % de réussite\")"
      ]
    },
    {
      "cell_type": "code",
      "execution_count": 11,
      "metadata": {
        "id": "gGpZJMU-1ZbV"
      },
      "outputs": [],
      "source": [
        "def programme4(a,b): \n",
        "  Distance=int(levenshtein_ratio_and_distance(a,b))\n",
        "  Ratio=levenshtein_ratio_and_distance(a,b,ratio_calc=True)\n",
        "  auteur1=auteur(a)\n",
        "  auteur2=auteur(b)\n",
        "  Distanceauteur=levenshtein_ratio_and_distance(auteur1,auteur2)\n",
        "  Ratioauteur=levenshtein_ratio_and_distance(auteur1,auteur2,ratio_calc=True)\n",
        "  DNP=levenshtein_ratio_and_distance(NomsPropres(a),NomsPropres(b))\n",
        "  RNP=levenshtein_ratio_and_distance(NomsPropres(a),NomsPropres(b),ratio_calc=True)\n",
        "  LCS=lcs(a,b)\n",
        "  Jaccard=jaccard(modif(a),modif(b))\n",
        "  Etoile=0\n",
        "  Nature=0\n",
        "  ST=0\n",
        "  res=[]\n",
        "  if (int(Distance) == 0) and (int(Ratio) == 1) or Distance<10 : \n",
        "    if (int(Distanceauteur) == 0) and (int(Ratioauteur) == 1) or Distance<10 :\n",
        "      res.append(\"E\")\n",
        "  #partie non sure \n",
        "  else : \n",
        "    if RNP <0.40: \n",
        "      Nature=Nature+1\n",
        "      Etoile=Etoile+1\n",
        "    if RNP>0.8:\n",
        "      ST=ST+1\n",
        "    if LCS>55:\n",
        "      Nature=Nature+1\n",
        "    if Jaccard>0.8:\n",
        "      Nature=Nature+1\n",
        "      ST=ST+1\n",
        "    if int(DNP)>45:\n",
        "      Nature=Nature+1\n",
        "    if LCS >=40 and LCS <= 50:\n",
        "     Etoile=Etoile+1\n",
        "     Nature=Nature+1\n",
        "    if LCS <40:\n",
        "       ST=ST+1\n",
        "    if int(Distance) <60:\n",
        "      Etoile=Etoile+1\n",
        "      ST=ST+1\n",
        "    if RNP > Ratio : \n",
        "       ST=ST+1\n",
        "    if Ratio>0.8:\n",
        "      ST=ST+1\n",
        "    if Ratio>0.45 and Ratio <0.6:\n",
        "      Nature=Nature+1\n",
        "    if Nature > Etoile and Nature > ST and ST > Etoile: \n",
        "      res.append(\"N\")\n",
        "    if Etoile > Nature and Etoile > ST  : \n",
        "      res.append(\"E*\")\n",
        "    if ST > Etoile and ST> Nature  : \n",
        "     res.append(\"ST\")\n",
        "    if ST == Etoile :  \n",
        "       res.append(\"ST\")\n",
        "    if Nature ==ST : \n",
        "       res.append(\"N\")\n",
        "    if Etoile ==Nature: \n",
        "      res.append(\"N\")\n",
        "    if len(res) == 0 : \n",
        "      res.append('AUCUN RESULTAT')\n",
        "  #print(\"le bon résultat est : \",annotation(a))\n",
        "  return res[0]\n",
        "  \n",
        "  "
      ]
    },
    {
      "cell_type": "code",
      "execution_count": null,
      "metadata": {
        "colab": {
          "base_uri": "https://localhost:8080/",
          "height": 37
        },
        "id": "eUzG5e4nL_1U",
        "outputId": "235da841-d951-430a-da0d-9ac4dae6a553"
      },
      "outputs": [
        {
          "data": {
            "application/vnd.google.colaboratory.intrinsic+json": {
              "type": "string"
            },
            "text/plain": [
              "'ST'"
            ]
          },
          "execution_count": 74,
          "metadata": {},
          "output_type": "execute_result"
        }
      ],
      "source": [
        "programme4(df['Text Fragments A'][63],df['Text Fragments B'][63])"
      ]
    },
    {
      "cell_type": "code",
      "execution_count": null,
      "metadata": {
        "colab": {
          "base_uri": "https://localhost:8080/",
          "height": 37
        },
        "id": "FU1gescXMGGs",
        "outputId": "38f313d3-c0e2-4b37-8942-0828639ced66"
      },
      "outputs": [
        {
          "data": {
            "application/vnd.google.colaboratory.intrinsic+json": {
              "type": "string"
            },
            "text/plain": [
              "'ST'"
            ]
          },
          "execution_count": 75,
          "metadata": {},
          "output_type": "execute_result"
        }
      ],
      "source": [
        "annotation(df['Text Fragments A'][63])"
      ]
    },
    {
      "cell_type": "code",
      "execution_count": null,
      "metadata": {
        "colab": {
          "base_uri": "https://localhost:8080/"
        },
        "id": "0ZVTGl4E5fi5",
        "outputId": "7ae26878-6215-4672-9512-98fb82fdefb1"
      },
      "outputs": [
        {
          "name": "stdout",
          "output_type": "stream",
          "text": [
            "38.6986301369863  % de réussite\n"
          ]
        }
      ],
      "source": [
        "count=0\n",
        "calcul=0\n",
        "for i in df['Text Fragments A']:\n",
        "  count=count+1\n",
        "  programme=programme4(df['Text Fragments A'][count],df['Text Fragments B'][count])\n",
        "  if (annotation(df['Text Fragments A'][count])== programme):\n",
        "    calcul=calcul+1\n",
        "\n",
        "resultat=calcul*100/len(df['Text Fragments A'])\n",
        "print(resultat,\" % de réussite\")"
      ]
    },
    {
      "cell_type": "markdown",
      "metadata": {
        "id": "Xo3RYZ7-SbQX"
      },
      "source": [
        "## Etude par la moyenne "
      ]
    },
    {
      "cell_type": "markdown",
      "metadata": {
        "id": "SaC9qNGOXfJO"
      },
      "source": [
        "Trier par référence les données et calcul moyenne etc des résultats\n"
      ]
    },
    {
      "cell_type": "markdown",
      "metadata": {
        "id": "_Mg6rxLMefiV"
      },
      "source": [
        "Moyenne des résultats \n",
        "\n",
        "---\n",
        "\n",
        "\n",
        "1.   Levenshtein(Distance et ratio)\n",
        "2.   Jaccard\n",
        "\n",
        "1.   LCS\n",
        "\n",
        "\n",
        "\n",
        "\n",
        "\n",
        "\n",
        "\n",
        "\n",
        "\n"
      ]
    },
    {
      "cell_type": "code",
      "execution_count": null,
      "metadata": {
        "colab": {
          "base_uri": "https://localhost:8080/"
        },
        "id": "UwO7bQVBfGs0",
        "outputId": "a505fd62-a0be-4294-a855-15c8e90d9066"
      },
      "outputs": [
        {
          "name": "stdout",
          "output_type": "stream",
          "text": [
            "37.592592592592595  moyenne de la Distance pour E\n",
            "0.695307885003612  moyenne du Ratio pour E\n",
            "51.074074074074076  moyenne de la Distance pour E*\n",
            "0.5464496401136649  moyenne du Ratio pour E*\n",
            "58.80582524271845  moyenne de la Distance pour ST\n",
            "0.49976265254426816  moyenne du Ratio pour ST\n",
            "68.8801652892562  moyenne de la Distance pour N\n",
            "0.44966100953504706  moyenne du Ratio pour N\n"
          ]
        }
      ],
      "source": [
        "import statistics\n",
        "\n",
        "X=[\"E\",\"E*\",\"ST\",\"N\"]\n",
        "\n",
        "\n",
        "for x in X:\n",
        "  count=0\n",
        "  Distance=[]\n",
        "  Ratio=[]\n",
        "  for i in df['Text Fragments A']:\n",
        "    count=count+1\n",
        "    if (annotation(df['Text Fragments A'][count])== x):\n",
        "      Distance.append(int(levenshtein_ratio_and_distance(df['Text Fragments A'][count],df['Text Fragments B'][count])))\n",
        "      Ratio.append(levenshtein_ratio_and_distance(df['Text Fragments A'][count],df['Text Fragments B'][count],ratio_calc=True))\n",
        "  print(statistics.mean(Distance),\" moyenne de la Distance pour\",x)\n",
        "  print(statistics.mean(Ratio),\" moyenne du Ratio pour\",x)\n",
        "\n"
      ]
    },
    {
      "cell_type": "markdown",
      "metadata": {
        "id": "XRNIkNUyk0qq"
      },
      "source": [
        "Distance plus élevée pour N puis pour ST etc .."
      ]
    },
    {
      "cell_type": "code",
      "execution_count": null,
      "metadata": {
        "colab": {
          "base_uri": "https://localhost:8080/"
        },
        "id": "Sh-PaLAihvN4",
        "outputId": "a96593e2-0f8f-4c6d-e47b-71406e21619b"
      },
      "outputs": [
        {
          "name": "stdout",
          "output_type": "stream",
          "text": [
            "0.8123242936117571 moyenne de Jaccard pour E\n",
            "0.6736150763391828 moyenne de Jaccard pour E*\n",
            "0.6738462527022068 moyenne de Jaccard pour ST\n",
            "0.6467562335122258 moyenne de Jaccard pour N\n"
          ]
        }
      ],
      "source": [
        "import statistics\n",
        "\n",
        "X=[\"E\",\"E*\",\"ST\",\"N\"]\n",
        "\n",
        "\n",
        "for x in X:\n",
        "  count=0\n",
        "  Jaccard=[]\n",
        "  for i in df['Text Fragments A']:\n",
        "    count=count+1\n",
        "    if (annotation(df['Text Fragments A'][count])== x):\n",
        "      Jaccard.append(jaccard(df['Text Fragments A'][count],df['Text Fragments B'][count]))\n",
        "  print(statistics.mean(Jaccard),\"moyenne de Jaccard pour\",x)\n"
      ]
    },
    {
      "cell_type": "markdown",
      "metadata": {
        "id": "6wXqJUcUkwjj"
      },
      "source": [
        "Resultat trop proche pour E*,ST,N"
      ]
    },
    {
      "cell_type": "code",
      "execution_count": null,
      "metadata": {
        "colab": {
          "base_uri": "https://localhost:8080/"
        },
        "id": "rwQ8f2BykbiZ",
        "outputId": "0c1ad83b-18df-402f-d76b-273df269cf78"
      },
      "outputs": [
        {
          "name": "stdout",
          "output_type": "stream",
          "text": [
            "61.98148148148148 moyenne de LCS pour E\n",
            "40.96296296296296 moyenne de LCS pour E*\n",
            "40.101941747572816 moyenne de LCS pour ST\n",
            "39.33884297520661 moyenne de LCS pour N\n"
          ]
        }
      ],
      "source": [
        "import statistics\n",
        "\n",
        "X=[\"E\",\"E*\",\"ST\",\"N\"]\n",
        "\n",
        "\n",
        "for x in X:\n",
        "  count=0\n",
        "  LCS=[]\n",
        "  for i in df['Text Fragments A']:\n",
        "    count=count+1\n",
        "    if (annotation(df['Text Fragments A'][count])== x):\n",
        "      LCS.append(lcs(df['Text Fragments A'][count],df['Text Fragments B'][count]))\n",
        "  print(statistics.mean(LCS),\"moyenne de LCS pour\",x)"
      ]
    },
    {
      "cell_type": "markdown",
      "metadata": {
        "id": "ZJpdQcDSknSF"
      },
      "source": [
        "Résultat beaucoup trop proche pour différencier E*,ST,N"
      ]
    },
    {
      "cell_type": "markdown",
      "metadata": {
        "id": "cIFosp0egfNH"
      },
      "source": [
        "### Ecriture de programme à partir de ces résultats"
      ]
    },
    {
      "cell_type": "code",
      "execution_count": null,
      "metadata": {
        "id": "r3WA0GXUge3_"
      },
      "outputs": [],
      "source": [
        "def programmemoyenne(a,b): \n",
        "  Distance=int(levenshtein_ratio_and_distance(a,b))\n",
        "  Ratio=levenshtein_ratio_and_distance(a,b,ratio_calc=True)\n",
        "  auteur1=auteur(a)\n",
        "  auteur2=auteur(b)\n",
        "  Distanceauteur=levenshtein_ratio_and_distance(auteur1,auteur2)\n",
        "  Ratioauteur=levenshtein_ratio_and_distance(auteur1,auteur2,ratio_calc=True)\n",
        "  LCS=lcs(a,b)\n",
        "  Jaccard=jaccard(modif(a),modif(b))\n",
        "  res=[]\n",
        "  if (int(Distance) == 0) and (int(Ratio) == 1) : \n",
        "    if (int(Distanceauteur) == 0) and (int(Ratioauteur) == 1):\n",
        "      res.append(\"E\")\n",
        "  #partie non sure \n",
        "  else : \n",
        "    if Distance <40:\n",
        "      res.append('E')\n",
        "    if LCS>55:\n",
        "      res.append(\"E\")\n",
        "    if Distance >40 and Distance <60:\n",
        "      res.append(\"E*\")\n",
        "      res.append(\"ST\")\n",
        "    if Distance>65:\n",
        "      res.append(\"N\")\n",
        "    if Ratio > 0.65:\n",
        "      res.append('E')\n",
        "    if Ratio <0.60 and Ratio>0.50:\n",
        "      res.append(\"E*\")\n",
        "      res.append(\"ST\")\n",
        "    if Ratio<0.40:\n",
        "      res.append(\"N\")\n",
        "    if len(res) == 0 : \n",
        "      res.append('AUCUN RESULTAT')\n",
        "  #print(\"le bon résultat est : \",annotation(a))\n",
        "  return res"
      ]
    },
    {
      "cell_type": "markdown",
      "metadata": {
        "id": "2gC9ojW8nLsI"
      },
      "source": [
        "Calcul du pourcentage de réussite\n",
        "\n",
        "---\n",
        "\n"
      ]
    },
    {
      "cell_type": "code",
      "execution_count": null,
      "metadata": {
        "colab": {
          "base_uri": "https://localhost:8080/"
        },
        "id": "_6d6EaiXnKm1",
        "outputId": "41622915-4fb1-49b8-c817-c1df45f618d3"
      },
      "outputs": [
        {
          "name": "stdout",
          "output_type": "stream",
          "text": [
            "54.10958904109589  % de réussite\n"
          ]
        }
      ],
      "source": [
        "count=0\n",
        "calcul=0\n",
        "for i in df['Text Fragments A']:\n",
        "  count=count+1\n",
        "  programme=programmemoyenne(df['Text Fragments A'][count],df['Text Fragments B'][count])\n",
        "  if (annotation(df['Text Fragments A'][count])in programme):\n",
        "    calcul=calcul+1\n",
        "\n",
        "resultat=calcul*100/len(df['Text Fragments A'])\n",
        "print(resultat,\" % de réussite\")"
      ]
    },
    {
      "cell_type": "markdown",
      "metadata": {
        "id": "StxAD-jNWkrJ"
      },
      "source": [
        "## Etude par algorithme atomatisé"
      ]
    },
    {
      "cell_type": "markdown",
      "metadata": {
        "id": "CAbDo17_V_iw"
      },
      "source": [
        "\n",
        "*   Crée un algorithme qui calcul automatiquement le chiffre exact ayant le meilleur pourcentage de réussite pour chaque partie.\n",
        "*   Crée un graphe qui montre les nombres choisis en fonction des résultats données. \n",
        "\n",
        " "
      ]
    },
    {
      "cell_type": "markdown",
      "metadata": {
        "id": "Gr5pVMGmL49O"
      },
      "source": [
        "Distance\n",
        "\n",
        "---\n",
        "\n"
      ]
    },
    {
      "cell_type": "code",
      "execution_count": null,
      "metadata": {
        "colab": {
          "base_uri": "https://localhost:8080/",
          "height": 1000
        },
        "id": "JvZaenrFZVS9",
        "outputId": "8ad34b02-545f-48b0-a822-75bd6aff5450"
      },
      "outputs": [
        {
          "data": {
            "image/png": "[encoded data removed]",
            "text/plain": [
              "<Figure size 432x288 with 1 Axes>"
            ]
          },
          "metadata": {},
          "output_type": "display_data"
        },
        {
          "name": "stdout",
          "output_type": "stream",
          "text": [
            "Pourcentage maximum :  9.075342465753424\n",
            "Distance pour le pourcentage maximum :  99\n"
          ]
        },
        {
          "data": {
            "image/png": "[encoded data removed]",
            "text/plain": [
              "<Figure size 432x288 with 1 Axes>"
            ]
          },
          "metadata": {},
          "output_type": "display_data"
        },
        {
          "name": "stdout",
          "output_type": "stream",
          "text": [
            "Pourcentage maximum :  13.86986301369863\n",
            "Distance pour le pourcentage maximum :  82\n"
          ]
        },
        {
          "data": {
            "image/png": "[encoded data removed]",
            "text/plain": [
              "<Figure size 432x288 with 1 Axes>"
            ]
          },
          "metadata": {},
          "output_type": "display_data"
        },
        {
          "name": "stdout",
          "output_type": "stream",
          "text": [
            "Pourcentage maximum :  33.73287671232877\n",
            "Distance pour le pourcentage maximum :  96\n"
          ]
        },
        {
          "data": {
            "image/png": "[encoded data removed]",
            "text/plain": [
              "<Figure size 432x288 with 1 Axes>"
            ]
          },
          "metadata": {},
          "output_type": "display_data"
        },
        {
          "name": "stdout",
          "output_type": "stream",
          "text": [
            "Pourcentage maximum :  36.64383561643836\n",
            "Distance pour le pourcentage maximum :  99\n"
          ]
        },
        {
          "data": {
            "image/png": "[encoded data removed]",
            "text/plain": [
              "<Figure size 432x288 with 1 Axes>"
            ]
          },
          "metadata": {},
          "output_type": "display_data"
        },
        {
          "name": "stdout",
          "output_type": "stream",
          "text": [
            "Pourcentage maximum :  0.0\n",
            "Distance pour le pourcentage maximum :  0\n"
          ]
        }
      ],
      "source": [
        "from pylab import *\n",
        "\n",
        "possibilite=[\"E\",\"E*\",\"ST\",\"N\",\"O\"]\n",
        "for element in possibilite: \n",
        "  res=[]\n",
        "  #distance et pourcentage de reussite pour chaque element \n",
        "  resu=[]\n",
        "  distance=0\n",
        "  for i in range(100): \n",
        "    count=0\n",
        "    calcul=0\n",
        "    for i in df['Text Fragments A']:\n",
        "      count=count+1\n",
        "      Distance=int(levenshtein_ratio_and_distance(df['Text Fragments A'][count],df['Text Fragments B'][count]))\n",
        "      if Distance < distance :\n",
        "         if (element ==annotation(df['Text Fragments A'][count])):\n",
        "           calcul=calcul+1\n",
        "    resultat=calcul*100/len(df['Text Fragments A'])\n",
        "    resu.append(resultat)\n",
        "    distance=distance+1\n",
        "  #graohe pour chaque element\n",
        "  tab=[]\n",
        "  for i in range(100):\n",
        "    tab.append(i)\n",
        "\n",
        "  y = array(resu)\n",
        "  x = array(tab)\n",
        "  ylabel(\"Pourcentage de réussite\")\n",
        "  xlabel(\"Distance\")\n",
        "  title(element)\n",
        "  plot(x, y)\n",
        "\n",
        "  show()\n",
        "\n",
        "  print(\"Pourcentage maximum : \", max(resu))\n",
        "  print( \"Distance pour le pourcentage maximum : \",resu.index(max(resu)))\n",
        "\n"
      ]
    },
    {
      "cell_type": "markdown",
      "metadata": {
        "id": "o1CX8nt9eK8l"
      },
      "source": [
        "Ratio\n",
        "\n",
        "---\n",
        "\n"
      ]
    },
    {
      "cell_type": "code",
      "execution_count": null,
      "metadata": {
        "colab": {
          "base_uri": "https://localhost:8080/",
          "height": 1000
        },
        "id": "XQJmCFe5eNgO",
        "outputId": "d87a37c1-f6c4-46d6-cc00-117f3dc109a1"
      },
      "outputs": [
        {
          "data": {
            "image/png": "[encoded data removed]",
            "text/plain": [
              "<Figure size 432x288 with 1 Axes>"
            ]
          },
          "metadata": {},
          "output_type": "display_data"
        },
        {
          "name": "stdout",
          "output_type": "stream",
          "text": [
            "Pourcentage maximum :  7.02054794520548\n",
            "Ratio pour le pourcentage maximum :  95\n"
          ]
        },
        {
          "data": {
            "image/png": "[encoded data removed]",
            "text/plain": [
              "<Figure size 432x288 with 1 Axes>"
            ]
          },
          "metadata": {},
          "output_type": "display_data"
        },
        {
          "name": "stdout",
          "output_type": "stream",
          "text": [
            "Pourcentage maximum :  13.86986301369863\n",
            "Ratio pour le pourcentage maximum :  85\n"
          ]
        },
        {
          "data": {
            "image/png": "[encoded data removed]",
            "text/plain": [
              "<Figure size 432x288 with 1 Axes>"
            ]
          },
          "metadata": {},
          "output_type": "display_data"
        },
        {
          "name": "stdout",
          "output_type": "stream",
          "text": [
            "Pourcentage maximum :  35.273972602739725\n",
            "Ratio pour le pourcentage maximum :  87\n"
          ]
        },
        {
          "data": {
            "image/png": "[encoded data removed]",
            "text/plain": [
              "<Figure size 432x288 with 1 Axes>"
            ]
          },
          "metadata": {},
          "output_type": "display_data"
        },
        {
          "name": "stdout",
          "output_type": "stream",
          "text": [
            "Pourcentage maximum :  41.43835616438356\n",
            "Ratio pour le pourcentage maximum :  76\n"
          ]
        },
        {
          "data": {
            "image/png": "[encoded data removed]",
            "text/plain": [
              "<Figure size 432x288 with 1 Axes>"
            ]
          },
          "metadata": {},
          "output_type": "display_data"
        },
        {
          "name": "stdout",
          "output_type": "stream",
          "text": [
            "Pourcentage maximum :  0.0\n",
            "Ratio pour le pourcentage maximum :  0\n"
          ]
        }
      ],
      "source": [
        "from pylab import *\n",
        "\n",
        "possibilite=[\"E\",\"E*\",\"ST\",\"N\"]\n",
        "for element in possibilite: \n",
        "  res=[]\n",
        "  #distance et pourcentage de reussite pour chaque element \n",
        "  resu=[]\n",
        "  ratio=0\n",
        "  for i in range(101): \n",
        "    count=0\n",
        "    calcul=0\n",
        "    for i in df['Text Fragments A']:\n",
        "      count=count+1\n",
        "      Ratio=levenshtein_ratio_and_distance(df['Text Fragments A'][count],df['Text Fragments B'][count],ratio_calc=True)*100\n",
        "      if Ratio < ratio :\n",
        "         if (element ==annotation(df['Text Fragments A'][count])):\n",
        "           calcul=calcul+1\n",
        "    resultat=calcul*100/len(df['Text Fragments A'])\n",
        "    resu.append(resultat)\n",
        "    ratio=ratio+1\n",
        "  #graohe pour chaque element\n",
        "  tab=[]\n",
        "  for i in range(101):\n",
        "    tab.append(i)\n",
        "\n",
        "  y = array(resu)\n",
        "  x = array(tab)\n",
        "  ylabel(\"Pourcentage de réussite\")\n",
        "  xlabel(\"Ratio\")\n",
        "  title(element)\n",
        "  plot(x, y)\n",
        "\n",
        "  show()\n",
        "\n",
        "  print(\"Pourcentage maximum : \", max(resu))\n",
        "  print( \"Ratio pour le pourcentage maximum : \",resu.index(max(resu)))\n",
        "\n",
        "\n",
        "\n",
        "\n"
      ]
    },
    {
      "cell_type": "markdown",
      "metadata": {
        "id": "_mLtHJdFq3sJ"
      },
      "source": [
        "## Programme final"
      ]
    },
    {
      "cell_type": "markdown",
      "metadata": {
        "id": "pylxDCniWvEC"
      },
      "source": [
        "Matrice de confusion \n",
        "\n",
        "\n",
        "\n",
        "---\n",
        "Inspiré du programme 4 mais un seul résultat\n",
        "\n",
        "\n"
      ]
    },
    {
      "cell_type": "code",
      "source": [
        "def programmefinal(a,b): \n",
        "  Distance=int(levenshtein_ratio_and_distance(a,b))\n",
        "  Ratio=levenshtein_ratio_and_distance(a,b,ratio_calc=True)\n",
        "  auteur1=auteur(a)\n",
        "  auteur2=auteur(b)\n",
        "  Distanceauteur=levenshtein_ratio_and_distance(auteur1,auteur2)\n",
        "  Ratioauteur=levenshtein_ratio_and_distance(auteur1,auteur2,ratio_calc=True)\n",
        "  DNP=levenshtein_ratio_and_distance(NomsPropres(a),NomsPropres(b))\n",
        "  RNP=levenshtein_ratio_and_distance(NomsPropres(a),NomsPropres(b),ratio_calc=True)\n",
        "  LCS=lcs(a,b)\n",
        "  Jaccard=jaccard(modif(a),modif(b))\n",
        "  Etoile=0\n",
        "  Nature=0\n",
        "  ST=0\n",
        "  res=[]\n",
        "  if (int(Distance) == 0) and (int(Ratio) == 1) or Distance<10 : \n",
        "    if (int(Distanceauteur) == 0) and (int(Ratioauteur) == 1) or Distance<10 :\n",
        "      res.append(\"E\")\n",
        "  #partie non sure \n",
        "  else : \n",
        "    if RNP <0.40: \n",
        "      Nature=Nature+1\n",
        "      Etoile=Etoile+1\n",
        "    if RNP>0.8:\n",
        "      ST=ST+1\n",
        "    if LCS>55:\n",
        "      Nature=Nature+1\n",
        "    if Jaccard>0.8:\n",
        "      Nature=Nature+1\n",
        "      ST=ST+1\n",
        "    if int(DNP)>45:\n",
        "      Nature=Nature+1\n",
        "    if LCS >=40 and LCS <= 50:\n",
        "     Etoile=Etoile+1\n",
        "     Nature=Nature+1\n",
        "    if LCS <40:\n",
        "       ST=ST+1\n",
        "    if int(Distance) <60:\n",
        "      Etoile=Etoile+1\n",
        "      ST=ST+1\n",
        "    if RNP > Ratio : \n",
        "       ST=ST+1\n",
        "    if Ratio>0.8:\n",
        "      ST=ST+1\n",
        "    if Ratio>0.45 and Ratio <0.6:\n",
        "      Nature=Nature+1\n",
        "    if Nature > Etoile and Nature > ST and ST > Etoile: \n",
        "      res.append(\"N\")\n",
        "    if Etoile > Nature and Etoile > ST  : \n",
        "      res.append(\"E*\")\n",
        "    if ST > Etoile and ST> Nature  : \n",
        "     res.append(\"ST\")\n",
        "    if ST == Etoile :  \n",
        "       res.append(\"ST\")\n",
        "    if Nature ==ST : \n",
        "       res.append(\"N\")\n",
        "    if Etoile ==Nature: \n",
        "      res.append(\"N\")\n",
        "    if len(res) == 0 : \n",
        "      res.append('ST')\n",
        "  #print(\"le bon résultat est : \",annotation(a))\n",
        "  if res.count('E')==0 and res.count('ST')> res.count('E*') or res.count('ST')> res.count('N'):\n",
        "    res[0]==\"ST\"\n",
        "  if res.count('E')==0 and res.count('N')>res.count('ST') or res.count('N')>res.count('E*'):\n",
        "    res[0]==\"N\"\n",
        "  return res[0]\n",
        "  "
      ],
      "metadata": {
        "id": "OrrqUgarZyXc"
      },
      "execution_count": 12,
      "outputs": []
    },
    {
      "cell_type": "code",
      "source": [
        "programmefinal(df['Text Fragments A'][1],df['Text Fragments B'][1])"
      ],
      "metadata": {
        "colab": {
          "base_uri": "https://localhost:8080/",
          "height": 54
        },
        "id": "2PdNyD3ybKSG",
        "outputId": "ae74d695-edaf-48f0-b9b6-f09e9a088e94"
      },
      "execution_count": 51,
      "outputs": [
        {
          "output_type": "stream",
          "name": "stdout",
          "text": [
            "le bon résultat est :  E\n"
          ]
        },
        {
          "output_type": "execute_result",
          "data": {
            "text/plain": [
              "'E'"
            ],
            "application/vnd.google.colaboratory.intrinsic+json": {
              "type": "string"
            }
          },
          "metadata": {},
          "execution_count": 51
        }
      ]
    },
    {
      "cell_type": "code",
      "execution_count": 15,
      "metadata": {
        "id": "-SP2oqWTW0qC"
      },
      "outputs": [],
      "source": [
        "import pandas as pd\n",
        "\n",
        "count=0\n",
        "calcul=0\n",
        "resultat=[]\n",
        "realite=[]\n",
        "\n",
        "for i in df['Text Fragments A']:\n",
        "  count=count+1\n",
        "  resultat.append(programmefinal(df['Text Fragments A'][count],df['Text Fragments B'][count]))\n",
        "  realite.append(annotation(df['Text Fragments A'][count]))\n",
        "  calcul=calcul+1\n",
        "\n",
        "y_actu = pd.Series(resultat, name='Actual')\n",
        "y_pred = pd.Series(realite, name='Predicted')\n",
        "df_confusion = pd.crosstab(y_actu, y_pred)\n",
        "\n",
        "\n"
      ]
    },
    {
      "cell_type": "code",
      "execution_count": 16,
      "metadata": {
        "colab": {
          "base_uri": "https://localhost:8080/"
        },
        "id": "Oqftb5rwVVql",
        "outputId": "255955dc-e5a7-4165-ac25-e8447abf457d"
      },
      "outputs": [
        {
          "output_type": "stream",
          "name": "stdout",
          "text": [
            "Predicted   E  E*    N   ST\n",
            "Actual                     \n",
            "E          15   0    0    1\n",
            "E*          0   5    0    2\n",
            "N          10   8   38   31\n",
            "ST         29  68  204  172\n"
          ]
        }
      ],
      "source": [
        "print(df_confusion)"
      ]
    },
    {
      "cell_type": "code",
      "execution_count": 17,
      "metadata": {
        "colab": {
          "base_uri": "https://localhost:8080/",
          "height": 261
        },
        "id": "0JoPzeYT0DrY",
        "outputId": "d3cda7c4-e3ad-4b25-b1ea-7ad24d7860ad"
      },
      "outputs": [
        {
          "output_type": "display_data",
          "data": {
            "text/plain": [
              "<Figure size 288x288 with 2 Axes>"
            ],
            "image/png": "[encoded data removed]"
          },
          "metadata": {
            "needs_background": "light"
          }
        }
      ],
      "source": [
        "import matplotlib.pyplot as plt\n",
        "def plot_confusion_matrix(df_confusion, title='Confusion matrix', cmap=plt.cm.gray_r):\n",
        "    plt.matshow(df_confusion, cmap=cmap) # imshow\n",
        "    #plt.title(title)\n",
        "    plt.colorbar()\n",
        "    tick_marks = np.arange(len(df_confusion.columns))\n",
        "    plt.xticks(tick_marks, df_confusion.columns, rotation=45)\n",
        "    plt.yticks(tick_marks, df_confusion.index)\n",
        "    #plt.tight_layout()\n",
        "    plt.ylabel(df_confusion.index.name)\n",
        "    plt.xlabel(df_confusion.columns.name)\n",
        "\n",
        "plot_confusion_matrix(df_confusion)"
      ]
    },
    {
      "cell_type": "code",
      "execution_count": 22,
      "metadata": {
        "colab": {
          "base_uri": "https://localhost:8080/",
          "height": 404
        },
        "id": "Xzv1zJTUzHEH",
        "outputId": "d28a209a-49d2-4b68-ab14-c75474e03047"
      },
      "outputs": [
        {
          "output_type": "stream",
          "name": "stdout",
          "text": [
            "precision: [0.27777778 0.0617284  0.15702479 0.83495146 0.        ]\n",
            "recall: [0.9375     0.71428571 0.43678161 0.3628692  0.        ]\n",
            "fscore: [0.42857143 0.11363636 0.23100304 0.50588235 0.        ]\n",
            "support: [ 16   7  87 474   0]\n"
          ]
        },
        {
          "output_type": "stream",
          "name": "stderr",
          "text": [
            "/usr/local/lib/python3.7/dist-packages/sklearn/metrics/_classification.py:1318: UndefinedMetricWarning: Recall and F-score are ill-defined and being set to 0.0 in labels with no true samples. Use `zero_division` parameter to control this behavior.\n",
            "  _warn_prf(average, modifier, msg_start, len(result))\n"
          ]
        },
        {
          "output_type": "execute_result",
          "data": {
            "text/plain": [
              "[<matplotlib.lines.Line2D at 0x7ff1380f6d50>]"
            ]
          },
          "metadata": {},
          "execution_count": 22
        },
        {
          "output_type": "display_data",
          "data": {
            "text/plain": [
              "<Figure size 432x288 with 1 Axes>"
            ],
            "image/png": "[encoded data removed]"
          },
          "metadata": {
            "needs_background": "light"
          }
        }
      ],
      "source": [
        "\n",
        "from sklearn.metrics import precision_recall_fscore_support as score\n",
        "\n",
        "precision, recall, fscore, support = score(resultat, realite)\n",
        "\n",
        "print('precision: {}'.format(precision))\n",
        "print('recall: {}'.format(recall))\n",
        "print('fscore: {}'.format(fscore))\n",
        "print('support: {}'.format(support))\n",
        "\n",
        "\n",
        "plt.plot(recall,\"o-\")\n"
      ]
    },
    {
      "cell_type": "code",
      "source": [
        "plt.plot(precision,\"o-\")"
      ],
      "metadata": {
        "colab": {
          "base_uri": "https://localhost:8080/",
          "height": 282
        },
        "id": "phBxuTlYmrIA",
        "outputId": "6df9099e-254b-45ab-aa65-7d3900f76a50"
      },
      "execution_count": 23,
      "outputs": [
        {
          "output_type": "execute_result",
          "data": {
            "text/plain": [
              "[<matplotlib.lines.Line2D at 0x7ff138069a50>]"
            ]
          },
          "metadata": {},
          "execution_count": 23
        },
        {
          "output_type": "display_data",
          "data": {
            "text/plain": [
              "<Figure size 432x288 with 1 Axes>"
            ],
            "image/png": "[encoded data removed]"
          },
          "metadata": {
            "needs_background": "light"
          }
        }
      ]
    },
    {
      "cell_type": "code",
      "source": [
        "plt.plot(fscore,\"o-\")"
      ],
      "metadata": {
        "colab": {
          "base_uri": "https://localhost:8080/",
          "height": 282
        },
        "id": "wH1tsI9FmveJ",
        "outputId": "80f42deb-3248-4bf6-f027-7d10fda44d5f"
      },
      "execution_count": 24,
      "outputs": [
        {
          "output_type": "execute_result",
          "data": {
            "text/plain": [
              "[<matplotlib.lines.Line2D at 0x7ff137fe11d0>]"
            ]
          },
          "metadata": {},
          "execution_count": 24
        },
        {
          "output_type": "display_data",
          "data": {
            "text/plain": [
              "<Figure size 432x288 with 1 Axes>"
            ],
            "image/png": "[encoded data removed]"
          },
          "metadata": {
            "needs_background": "light"
          }
        }
      ]
    },
    {
      "cell_type": "markdown",
      "metadata": {
        "id": "M9lZ6B4OJ8iA"
      },
      "source": [
        "Performance temps de calcul\n",
        "\n",
        "---\n",
        "\n"
      ]
    },
    {
      "cell_type": "markdown",
      "metadata": {
        "id": "ogglim1YKABa"
      },
      "source": [
        "Temps de calcul entre 1H30 et 1h45\n",
        "\n",
        "\n"
      ]
    },
    {
      "cell_type": "markdown",
      "metadata": {
        "id": "heHglrimlTJk"
      },
      "source": [
        "# Partie 2-  Sur les données Clef"
      ]
    },
    {
      "cell_type": "markdown",
      "metadata": {
        "id": "KgjBKboilTJm"
      },
      "source": [
        "## Téléchargement des données"
      ]
    },
    {
      "cell_type": "markdown",
      "metadata": {
        "id": "Ui9NXBB6lTJn"
      },
      "source": [
        "1) Importation des modules"
      ]
    },
    {
      "cell_type": "code",
      "execution_count": 1,
      "metadata": {
        "id": "KIP_gQM9lTJn"
      },
      "outputs": [],
      "source": [
        "import warnings\n",
        "warnings.filterwarnings(\"ignore\", category=FutureWarning)\n",
        "\n",
        "import pandas as pd\n",
        "import seaborn as sns\n",
        "import matplotlib.pyplot as plt\n",
        "import sys\n",
        "import os\n",
        "import numpy as np "
      ]
    },
    {
      "cell_type": "markdown",
      "metadata": {
        "id": "uks0oMH8lTJp"
      },
      "source": [
        "2) Chargement du disque, connexion au répertoire"
      ]
    },
    {
      "cell_type": "code",
      "execution_count": 2,
      "metadata": {
        "colab": {
          "base_uri": "https://localhost:8080/"
        },
        "id": "q3ygPCdmlTJp",
        "outputId": "136750fb-b058-43f7-b8ca-99b02271df7c"
      },
      "outputs": [
        {
          "output_type": "stream",
          "name": "stdout",
          "text": [
            "Mounted at /content/gdrive/\n"
          ]
        }
      ],
      "source": [
        "from google.colab import drive\n",
        "drive.mount('/content/gdrive/')"
      ]
    },
    {
      "cell_type": "code",
      "execution_count": 3,
      "metadata": {
        "colab": {
          "base_uri": "https://localhost:8080/"
        },
        "id": "uvVEM0yUlTJr",
        "outputId": "b73cc901-83f2-45aa-e5f5-9bd3d7a403a2"
      },
      "outputs": [
        {
          "output_type": "stream",
          "name": "stdout",
          "text": [
            "/content/gdrive/MyDrive/v1\n",
            "dev\t iclaims.queries  namess  train.tsv    tweets-train-dev.tsv   vclaims\n",
            "dev.tsv  names\t\t  train   transcripts  tweets-train-dev.xlsx\n"
          ]
        }
      ],
      "source": [
        "my_local_drive=\"/content/gdrive/MyDrive/v1\"\n",
        "sys.path.append(my_local_drive)\n",
        "%cd $my_local_drive\n",
        "! ls"
      ]
    },
    {
      "cell_type": "markdown",
      "metadata": {
        "id": "TNglcP-LlTJs"
      },
      "source": [
        "3.1) Enregistrement des claims"
      ]
    },
    {
      "cell_type": "code",
      "execution_count": 4,
      "metadata": {
        "colab": {
          "base_uri": "https://localhost:8080/",
          "height": 136
        },
        "id": "iuwMFs5DlTJt",
        "outputId": "f4cceeeb-8398-4929-ea1a-f051b2719f61"
      },
      "outputs": [
        {
          "output_type": "stream",
          "name": "stdout",
          "text": [
            "vclaims\n"
          ]
        },
        {
          "output_type": "display_data",
          "data": {
            "text/plain": [
              "title        In Wake of Election, Obama Passes Executive Or...\n",
              "subtitle     A story that the President is banning all fake...\n",
              "author                                                Dan Evon\n",
              "date                                          29 November 2016\n",
              "vclaim_id    vclaim-sno-in-wake-of-election-obama-passes-ex...\n",
              "dtype: object"
            ]
          },
          "metadata": {}
        }
      ],
      "source": [
        "##columns=['Tweet Id','Username','Timestamp','Followers','Friends','Retweets','Favorites','Entities','Sentiment','Mentions','HashTags','URLs']\n",
        "dir=\"vclaims\"\n",
        "if os.path.isdir(dir):\n",
        "  print(dir)\n",
        "  i=0\n",
        "  for file in os.listdir(dir):\n",
        "    if i==0:\n",
        "      claims=pd.read_json(dir+\"/\"+file,typ='dictionary')\n",
        "      i+=1\n",
        "    else:\n",
        "      claims=claims.append(pd.read_json(dir+\"/\"+file,typ='dictionary'))\n",
        "   # print(file)\n",
        "display(claims.head())"
      ]
    },
    {
      "cell_type": "code",
      "execution_count": null,
      "metadata": {
        "colab": {
          "base_uri": "https://localhost:8080/",
          "height": 221
        },
        "id": "hiEG_Sy_lTJu",
        "outputId": "fd069127-5b32-4373-86e8-7cc78f90a25e"
      },
      "outputs": [
        {
          "data": {
            "text/plain": [
              "vclaim    President Barack Obama signed an executive ord...\n",
              "vclaim    Donald Trump's son Eric said that Hispanic peo...\n",
              "vclaim    A photograph shows a man holding a 13-pound bu...\n",
              "vclaim    Actor Samuel L. Jackson tweeted a lament about...\n",
              "vclaim    An Elgin, Illinois man simultaneously impregna...\n",
              "                                ...                        \n",
              "vclaim    Photographs depict then-model Melania Trump (n...\n",
              "vclaim    U.S. President Donald Trump brandished his mid...\n",
              "vclaim    A Colorado school's female students were force...\n",
              "vclaim    Photographs show watermelons that have been gr...\n",
              "vclaim    A Royal Caribbean vessel fired upon and sank a...\n",
              "Length: 13825, dtype: object"
            ]
          },
          "metadata": {},
          "output_type": "display_data"
        }
      ],
      "source": [
        "claims.size\n",
        "display(claims[\"vclaim\"])"
      ]
    },
    {
      "cell_type": "markdown",
      "metadata": {
        "id": "VXeFN7NPlTJv"
      },
      "source": [
        "3.2) Enregistrement des Tweets"
      ]
    },
    {
      "cell_type": "code",
      "execution_count": 5,
      "metadata": {
        "colab": {
          "base_uri": "https://localhost:8080/",
          "height": 204
        },
        "id": "ll39D50QlTJw",
        "outputId": "a7123b35-ade3-4fe0-c7e9-bd70d2ca18fe"
      },
      "outputs": [
        {
          "output_type": "display_data",
          "data": {
            "text/plain": [
              "            id                                               text\n",
              "0  tweet-sno-0  How are butterflies surviving the #AustralianF...\n",
              "1  tweet-sno-1  Trump needs to immediately divest from his bus...\n",
              "2  tweet-sno-2  A number of fraudulent text messages informing...\n",
              "3  tweet-sno-3  Fact check: The U.S. Army is NOT contacting an...\n",
              "4  tweet-sno-4  The US drone attack on #Soleimani caught on ca..."
            ],
            "text/html": [
              "\n",
              "  <div id=\"df-6968cc67-76f4-4a71-84a6-016531587667\">\n",
              "    <div class=\"colab-df-container\">\n",
              "      <div>\n",
              "<style scoped>\n",
              "    .dataframe tbody tr th:only-of-type {\n",
              "        vertical-align: middle;\n",
              "    }\n",
              "\n",
              "    .dataframe tbody tr th {\n",
              "        vertical-align: top;\n",
              "    }\n",
              "\n",
              "    .dataframe thead th {\n",
              "        text-align: right;\n",
              "    }\n",
              "</style>\n",
              "<table border=\"1\" class=\"dataframe\">\n",
              "  <thead>\n",
              "    <tr style=\"text-align: right;\">\n",
              "      <th></th>\n",
              "      <th>id</th>\n",
              "      <th>text</th>\n",
              "    </tr>\n",
              "  </thead>\n",
              "  <tbody>\n",
              "    <tr>\n",
              "      <th>0</th>\n",
              "      <td>tweet-sno-0</td>\n",
              "      <td>How are butterflies surviving the #AustralianF...</td>\n",
              "    </tr>\n",
              "    <tr>\n",
              "      <th>1</th>\n",
              "      <td>tweet-sno-1</td>\n",
              "      <td>Trump needs to immediately divest from his bus...</td>\n",
              "    </tr>\n",
              "    <tr>\n",
              "      <th>2</th>\n",
              "      <td>tweet-sno-2</td>\n",
              "      <td>A number of fraudulent text messages informing...</td>\n",
              "    </tr>\n",
              "    <tr>\n",
              "      <th>3</th>\n",
              "      <td>tweet-sno-3</td>\n",
              "      <td>Fact check: The U.S. Army is NOT contacting an...</td>\n",
              "    </tr>\n",
              "    <tr>\n",
              "      <th>4</th>\n",
              "      <td>tweet-sno-4</td>\n",
              "      <td>The US drone attack on #Soleimani caught on ca...</td>\n",
              "    </tr>\n",
              "  </tbody>\n",
              "</table>\n",
              "</div>\n",
              "      <button class=\"colab-df-convert\" onclick=\"convertToInteractive('df-6968cc67-76f4-4a71-84a6-016531587667')\"\n",
              "              title=\"Convert this dataframe to an interactive table.\"\n",
              "              style=\"display:none;\">\n",
              "        \n",
              "  <svg xmlns=\"http://www.w3.org/2000/svg\" height=\"24px\"viewBox=\"0 0 24 24\"\n",
              "       width=\"24px\">\n",
              "    <path d=\"M0 0h24v24H0V0z\" fill=\"none\"/>\n",
              "    <path d=\"M18.56 5.44l.94 2.06.94-2.06 2.06-.94-2.06-.94-.94-2.06-.94 2.06-2.06.94zm-11 1L8.5 8.5l.94-2.06 2.06-.94-2.06-.94L8.5 2.5l-.94 2.06-2.06.94zm10 10l.94 2.06.94-2.06 2.06-.94-2.06-.94-.94-2.06-.94 2.06-2.06.94z\"/><path d=\"M17.41 7.96l-1.37-1.37c-.4-.4-.92-.59-1.43-.59-.52 0-1.04.2-1.43.59L10.3 9.45l-7.72 7.72c-.78.78-.78 2.05 0 2.83L4 21.41c.39.39.9.59 1.41.59.51 0 1.02-.2 1.41-.59l7.78-7.78 2.81-2.81c.8-.78.8-2.07 0-2.86zM5.41 20L4 18.59l7.72-7.72 1.47 1.35L5.41 20z\"/>\n",
              "  </svg>\n",
              "      </button>\n",
              "      \n",
              "  <style>\n",
              "    .colab-df-container {\n",
              "      display:flex;\n",
              "      flex-wrap:wrap;\n",
              "      gap: 12px;\n",
              "    }\n",
              "\n",
              "    .colab-df-convert {\n",
              "      background-color: #E8F0FE;\n",
              "      border: none;\n",
              "      border-radius: 50%;\n",
              "      cursor: pointer;\n",
              "      display: none;\n",
              "      fill: #1967D2;\n",
              "      height: 32px;\n",
              "      padding: 0 0 0 0;\n",
              "      width: 32px;\n",
              "    }\n",
              "\n",
              "    .colab-df-convert:hover {\n",
              "      background-color: #E2EBFA;\n",
              "      box-shadow: 0px 1px 2px rgba(60, 64, 67, 0.3), 0px 1px 3px 1px rgba(60, 64, 67, 0.15);\n",
              "      fill: #174EA6;\n",
              "    }\n",
              "\n",
              "    [theme=dark] .colab-df-convert {\n",
              "      background-color: #3B4455;\n",
              "      fill: #D2E3FC;\n",
              "    }\n",
              "\n",
              "    [theme=dark] .colab-df-convert:hover {\n",
              "      background-color: #434B5C;\n",
              "      box-shadow: 0px 1px 3px 1px rgba(0, 0, 0, 0.15);\n",
              "      filter: drop-shadow(0px 1px 2px rgba(0, 0, 0, 0.3));\n",
              "      fill: #FFFFFF;\n",
              "    }\n",
              "  </style>\n",
              "\n",
              "      <script>\n",
              "        const buttonEl =\n",
              "          document.querySelector('#df-6968cc67-76f4-4a71-84a6-016531587667 button.colab-df-convert');\n",
              "        buttonEl.style.display =\n",
              "          google.colab.kernel.accessAllowed ? 'block' : 'none';\n",
              "\n",
              "        async function convertToInteractive(key) {\n",
              "          const element = document.querySelector('#df-6968cc67-76f4-4a71-84a6-016531587667');\n",
              "          const dataTable =\n",
              "            await google.colab.kernel.invokeFunction('convertToInteractive',\n",
              "                                                     [key], {});\n",
              "          if (!dataTable) return;\n",
              "\n",
              "          const docLinkHtml = 'Like what you see? Visit the ' +\n",
              "            '<a target=\"_blank\" href=https://colab.research.google.com/notebooks/data_table.ipynb>data table notebook</a>'\n",
              "            + ' to learn more about interactive tables.';\n",
              "          element.innerHTML = '';\n",
              "          dataTable['output_type'] = 'display_data';\n",
              "          await google.colab.output.renderOutput(dataTable, element);\n",
              "          const docLink = document.createElement('div');\n",
              "          docLink.innerHTML = docLinkHtml;\n",
              "          element.appendChild(docLink);\n",
              "        }\n",
              "      </script>\n",
              "    </div>\n",
              "  </div>\n",
              "  "
            ]
          },
          "metadata": {}
        }
      ],
      "source": [
        "columns=[\"id\",\"text\"]\n",
        "tweets=pd.read_csv('tweets-train-dev.tsv', sep='\\t',names=columns) ## On ajoute l'optiokn pour supprimer les mauvaises lignes\n",
        "display(tweets.head())"
      ]
    },
    {
      "cell_type": "code",
      "execution_count": null,
      "metadata": {
        "colab": {
          "base_uri": "https://localhost:8080/",
          "height": 51
        },
        "id": "wzIFoP-TlTJx",
        "outputId": "f8d2aec3-13d4-4b51-a619-52203ffa8009"
      },
      "outputs": [
        {
          "data": {
            "text/plain": [
              "13825"
            ]
          },
          "metadata": {},
          "output_type": "display_data"
        },
        {
          "data": {
            "text/plain": [
              "2392"
            ]
          },
          "metadata": {},
          "output_type": "display_data"
        }
      ],
      "source": [
        "display(claims[\"vclaim\"].size)\n",
        "display(tweets.size)"
      ]
    },
    {
      "cell_type": "code",
      "execution_count": null,
      "metadata": {
        "colab": {
          "base_uri": "https://localhost:8080/"
        },
        "id": "nzqv-8LylTJy",
        "outputId": "6b55f335-9b99-4554-82c6-724376217fbb"
      },
      "outputs": [
        {
          "data": {
            "text/plain": [
              "0       How are butterflies surviving the #AustralianF...\n",
              "1       Trump needs to immediately divest from his bus...\n",
              "2       A number of fraudulent text messages informing...\n",
              "3       Fact check: The U.S. Army is NOT contacting an...\n",
              "4       The US drone attack on #Soleimani caught on ca...\n",
              "                              ...                        \n",
              "1191    You got us, there’s no Eggplant condom! But wh...\n",
              "1192    A bit of rain and Eid and the roads run red wi...\n",
              "1193    @andersoncooper@HillaryClinton why did WABC NY...\n",
              "1194    As a medical doctor of course I support vaccin...\n",
              "1195    Is Chanel No.5 being discontinued?! https://t....\n",
              "Name: text, Length: 1196, dtype: object"
            ]
          },
          "execution_count": 96,
          "metadata": {},
          "output_type": "execute_result"
        }
      ],
      "source": [
        "tweets[\"text\"]"
      ]
    },
    {
      "cell_type": "markdown",
      "metadata": {
        "id": "8oX6pw9alTJz"
      },
      "source": [
        "## Analyse Syntaxique"
      ]
    },
    {
      "cell_type": "code",
      "execution_count": null,
      "metadata": {
        "colab": {
          "base_uri": "https://localhost:8080/",
          "height": 88
        },
        "id": "MNUdjlqllTJz",
        "outputId": "b560df4c-69d1-46e5-8d9a-975d20fe77d5"
      },
      "outputs": [
        {
          "data": {
            "application/vnd.google.colaboratory.intrinsic+json": {
              "type": "string"
            },
            "text/plain": [
              "\"A letter from California authorities warns that residents who receive state assistance benefits will no longer be eligible for them if they don't get tested for COVID-19; further, if parents test positive, children in their household who test negative will be placed in temporary foster care until their parents/guardians recover.\""
            ]
          },
          "execution_count": 97,
          "metadata": {},
          "output_type": "execute_result"
        }
      ],
      "source": [
        "claims[\"vclaim\"][66]"
      ]
    },
    {
      "cell_type": "code",
      "execution_count": null,
      "metadata": {
        "colab": {
          "base_uri": "https://localhost:8080/",
          "height": 54
        },
        "id": "sgWHO8gelTJ0",
        "outputId": "b87b0d30-b939-44bd-e564-5c86653ced0e"
      },
      "outputs": [
        {
          "data": {
            "application/vnd.google.colaboratory.intrinsic+json": {
              "type": "string"
            },
            "text/plain": [
              "'A number of fraudulent text messages informing individuals they have been selected for a military draft have circulated throughout the country this week.'"
            ]
          },
          "execution_count": 98,
          "metadata": {},
          "output_type": "execute_result"
        }
      ],
      "source": [
        "tweets[\"text\"][2]"
      ]
    },
    {
      "cell_type": "markdown",
      "metadata": {
        "id": "hq9DDQzkrh49"
      },
      "source": [
        "### Création méthode"
      ]
    },
    {
      "cell_type": "markdown",
      "metadata": {
        "id": "2UeLBLNzlTJ4"
      },
      "source": [
        "Création d'une méthode qui récupère la date d'un claim\n",
        "\n",
        "---\n",
        "\n"
      ]
    },
    {
      "cell_type": "code",
      "execution_count": 32,
      "metadata": {
        "id": "2CpV4tQFlTJ5"
      },
      "outputs": [],
      "source": [
        "#pour claim : modifier une date en séparant chaque année mois et jour\n",
        "def dateclaim(a):\n",
        " #couper toutes les parties en caractèere pour keyword il faut mettre virgule et pour text espace \n",
        "  a= a.split()\n",
        "  for i in a:\n",
        "   return a\n",
        "  if len(a)==0:\n",
        "    a=['None','None','None']\n",
        "    return a"
      ]
    },
    {
      "cell_type": "code",
      "execution_count": null,
      "metadata": {
        "colab": {
          "base_uri": "https://localhost:8080/"
        },
        "id": "we0reDkZlTJ6",
        "outputId": "f3852610-21a4-4edb-8813-7a783629326e"
      },
      "outputs": [
        {
          "data": {
            "text/plain": [
              "['None', 'None', 'None']"
            ]
          },
          "execution_count": 100,
          "metadata": {},
          "output_type": "execute_result"
        }
      ],
      "source": [
        "dateclaim(claims[\"date\"][25])"
      ]
    },
    {
      "cell_type": "markdown",
      "metadata": {
        "id": "PWiYfKEplTJ7"
      },
      "source": [
        "Création d'une méthode qui récupère la date d'un tweet\n",
        "\n",
        "---\n",
        "\n"
      ]
    },
    {
      "cell_type": "code",
      "execution_count": 27,
      "metadata": {
        "id": "FqTfmdMIlTJ7"
      },
      "outputs": [],
      "source": [
        "def datetweet(a):\n",
        "  compter=0\n",
        "  mois=[\"January\",\"February\",\"March\",\"April\",\"May\",\"June\",\"July\",\"August\",\"September\",\"October\",\"November\",\"December\"]\n",
        "  a= a.split()\n",
        "  b=[]\n",
        "  for x in a :\n",
        "    if x.isdigit():\n",
        "      if len(x) <2 :\n",
        "          b.append(x)\n",
        "  if len(b)==0:\n",
        "      b.append('NULL')\n",
        "  for x in a : \n",
        "      if x in mois: \n",
        "        b.append(x)\n",
        "  if len(b)==1:\n",
        "      b.append('NULL')\n",
        "\n",
        "  for x in a : \n",
        "    if x.isdigit():\n",
        "      if len(x) ==4:\n",
        "          b.append(x)\n",
        "  if len(b)==2:\n",
        "      b.append('NULL')\n",
        " \n",
        "  return b\n",
        "      "
      ]
    },
    {
      "cell_type": "code",
      "execution_count": null,
      "metadata": {
        "colab": {
          "base_uri": "https://localhost:8080/"
        },
        "id": "E2kG5kKvlTJ8",
        "outputId": "49d2ad97-8ea1-4425-d74d-e35a44f18dba"
      },
      "outputs": [
        {
          "data": {
            "text/plain": [
              "['NULL', 'June', '2019']"
            ]
          },
          "execution_count": 102,
          "metadata": {},
          "output_type": "execute_result"
        }
      ],
      "source": [
        "datetweet(tweets[\"text\"][109])"
      ]
    },
    {
      "cell_type": "markdown",
      "metadata": {
        "id": "FZM3ARqbs2h2"
      },
      "source": [
        "Création d'une méthode qui permet de déterminer la date d'un claim\n",
        "\n",
        "---\n",
        "\n"
      ]
    },
    {
      "cell_type": "code",
      "execution_count": 28,
      "metadata": {
        "id": "oF8i8dsts2iE"
      },
      "outputs": [],
      "source": [
        "def lieclaim(a):\n",
        "  count=-1\n",
        "  for i in claims: \n",
        "    count=count+1\n",
        "    if claims[\"vclaim\"][count] == a :\n",
        "      return claims[\"date\"][count]"
      ]
    },
    {
      "cell_type": "code",
      "execution_count": null,
      "metadata": {
        "colab": {
          "base_uri": "https://localhost:8080/",
          "height": 37
        },
        "id": "NEjuNzEZs2iG",
        "outputId": "36eb0722-07f1-4e41-ba7a-3bfd9bc52662"
      },
      "outputs": [
        {
          "data": {
            "application/vnd.google.colaboratory.intrinsic+json": {
              "type": "string"
            },
            "text/plain": [
              "'24 May 2016'"
            ]
          },
          "execution_count": 104,
          "metadata": {},
          "output_type": "execute_result"
        }
      ],
      "source": [
        "lieclaim(claims[\"vclaim\"][1])"
      ]
    },
    {
      "cell_type": "code",
      "execution_count": null,
      "metadata": {
        "colab": {
          "base_uri": "https://localhost:8080/"
        },
        "id": "hpSLxPu-s2iJ",
        "outputId": "1cc253d5-5863-4af2-f8e2-79025e6a572a"
      },
      "outputs": [
        {
          "data": {
            "text/plain": [
              "['24', 'May', '2016']"
            ]
          },
          "execution_count": 105,
          "metadata": {},
          "output_type": "execute_result"
        }
      ],
      "source": [
        "dateclaim(lieclaim(claims[\"vclaim\"][1]))"
      ]
    },
    {
      "cell_type": "markdown",
      "metadata": {
        "id": "4vJjNrkXlTJ9"
      },
      "source": [
        "Création d'une mthode qui récupère les Noms Propres (en majuscule)\n",
        "\n",
        "---\n",
        "\n"
      ]
    },
    {
      "cell_type": "code",
      "execution_count": 35,
      "metadata": {
        "id": "R35UaW51lTJ-"
      },
      "outputs": [],
      "source": [
        "def NomPropres(a):\n",
        "  compter=0\n",
        "  mois=[\"January\",\"February\",\"March\",\"April\",\"May\",\"June\",\"July\",\"August\",\"September\",\"October\",\"November\",\"December\"]\n",
        " \n",
        "  a= a.split()\n",
        "  b=[]\n",
        "  for x in a : \n",
        "      if x[0].isupper(): \n",
        "        b.append(x)\n",
        "      #j'enleve le mois\n",
        "      if x in mois:\n",
        "        b.remove(x)\n",
        "  return b"
      ]
    },
    {
      "cell_type": "code",
      "execution_count": null,
      "metadata": {
        "colab": {
          "base_uri": "https://localhost:8080/"
        },
        "id": "SmRGBeSylTJ-",
        "outputId": "e31294f9-f7fd-4b2a-cbdd-a782378cf230"
      },
      "outputs": [
        {
          "data": {
            "text/plain": [
              "['Fact',\n",
              " 'The',\n",
              " 'U.S.',\n",
              " 'Army',\n",
              " 'NOT',\n",
              " 'If',\n",
              " 'U.S.',\n",
              " 'Army',\n",
              " 'U.S.',\n",
              " 'Army',\n",
              " 'CGSC']"
            ]
          },
          "execution_count": 107,
          "metadata": {},
          "output_type": "execute_result"
        }
      ],
      "source": [
        "NomPropres(tweets[\"text\"][3])"
      ]
    },
    {
      "cell_type": "code",
      "execution_count": null,
      "metadata": {
        "colab": {
          "base_uri": "https://localhost:8080/"
        },
        "id": "FqbTAX6glTJ_",
        "outputId": "4cb348f8-56cf-40ad-bada-8b1bbd67a376"
      },
      "outputs": [
        {
          "data": {
            "text/plain": [
              "['U.S.', 'President', 'Bill', 'Clinton', 'U.S.', 'Senate']"
            ]
          },
          "execution_count": 108,
          "metadata": {},
          "output_type": "execute_result"
        }
      ],
      "source": [
        "NomPropres(claims[\"vclaim\"][46])"
      ]
    },
    {
      "cell_type": "code",
      "execution_count": null,
      "metadata": {
        "colab": {
          "base_uri": "https://localhost:8080/"
        },
        "id": "demHa8MslTKA",
        "outputId": "84077333-2c2f-4ce4-97f6-dc6d94389bf9"
      },
      "outputs": [
        {
          "data": {
            "text/plain": [
              "date    29 November 2016\n",
              "date         24 May 2016\n",
              "date         26 May 2017\n",
              "date          3 May 2018\n",
              "date    19 December 2018\n",
              "              ...       \n",
              "date         23 May 2016\n",
              "date     23 October 2019\n",
              "date     3 February 2016\n",
              "date      20 August 2007\n",
              "date        21 July 2017\n",
              "Length: 13825, dtype: object"
            ]
          },
          "execution_count": 109,
          "metadata": {},
          "output_type": "execute_result"
        }
      ],
      "source": [
        "claims[\"date\"]"
      ]
    },
    {
      "cell_type": "markdown",
      "metadata": {
        "id": "oa5TccYmsTY6"
      },
      "source": [
        "### Application fonctions sur les données claims /tweets"
      ]
    },
    {
      "cell_type": "markdown",
      "metadata": {
        "id": "sbqyxr6MlTKN"
      },
      "source": [
        "Application de Levenshtein sur toutes les données\n",
        "\n",
        "---\n",
        "\n"
      ]
    },
    {
      "cell_type": "code",
      "execution_count": null,
      "metadata": {
        "colab": {
          "base_uri": "https://localhost:8080/"
        },
        "id": "rg9VC9kllTKO",
        "outputId": "af3fe6a5-1a9f-4fc0-9979-88d1904da8b9"
      },
      "outputs": [
        {
          "name": "stdout",
          "output_type": "stream",
          "text": [
            "1 0.27167630057803466 231\n",
            "2 0.1901840490797546 247\n",
            "3 0.30851063829787234 223\n",
            "4 0.2981029810298103 227\n",
            "5 0.205607476635514 244\n",
            "6 0.27450980392156865 228\n",
            "7 0.3163265306122449 221\n",
            "8 0.28895184135977336 229\n",
            "9 0.26301369863013696 231\n",
            "10 0.26666666666666666 233\n",
            "11 0.33980582524271846 214\n",
            "12 0.3225806451612903 216\n",
            "13 0.2958904109589041 225\n",
            "14 0.19937694704049844 245\n",
            "15 0.27011494252873564 231\n",
            "16 0.281767955801105 228\n",
            "17 0.2770083102493075 229\n",
            "18 0.34606741573033706 215\n",
            "19 0.2647887323943662 235\n",
            "20 0.33890214797136037 216\n",
            "21 0.39201451905626133 227\n",
            "22 0.24188790560471976 238\n",
            "23 0.32904884318766064 218\n",
            "24 0.2809917355371901 230\n",
            "25 0.27548209366391185 232\n",
            "26 0.22941176470588234 239\n",
            "27 0.3253333333333333 219\n",
            "28 0.28493150684931506 227\n",
            "29 0.29081632653061223 227\n",
            "30 0.31958762886597936 220\n",
            "31 0.3092269326683292 219\n",
            "32 0.2880886426592798 229\n",
            "33 0.2909090909090909 224\n",
            "34 0.29859154929577464 226\n",
            "35 0.2621082621082621 232\n",
            "36 0.2849462365591398 228\n",
            "37 0.2768361581920904 231\n",
            "38 0.27298050139275765 230\n",
            "39 0.26436781609195403 231\n",
            "40 0.25842696629213485 231\n",
            "41 0.2777777777777778 230\n",
            "42 0.2784090909090909 229\n",
            "43 0.2697947214076246 232\n",
            "44 0.2742857142857143 231\n",
            "45 0.29110512129380056 223\n",
            "46 0.2596685082872928 231\n",
            "47 0.32105263157894737 219\n",
            "48 0.3394255874673629 218\n",
            "49 0.29842931937172773 223\n",
            "50 0.21148036253776434 245\n",
            "51 0.23976608187134502 237\n",
            "52 0.23668639053254437 239\n",
            "53 0.2659279778393352 230\n",
            "54 0.24571428571428572 237\n",
            "55 0.34782608695652173 214\n",
            "56 0.23170731707317074 239\n",
            "57 0.2543352601156069 234\n",
            "58 0.21238938053097345 242\n",
            "59 0.287292817679558 227\n",
            "60 0.24929178470254956 236\n",
            "61 0.288135593220339 228\n",
            "62 0.25882352941176473 235\n",
            "63 0.3471882640586797 214\n",
            "64 0.2521489971346705 235\n",
            "65 0.24705882352941178 236\n",
            "66 0.37543859649122807 237\n",
            "67 0.30434782608695654 224\n",
            "68 0.291005291005291 229\n",
            "69 0.24855491329479767 235\n",
            "70 0.25 235\n",
            "71 0.2640449438202247 231\n",
            "72 0.3569682151589242 211\n",
            "73 0.27350427350427353 230\n",
            "74 0.2913165266106443 226\n",
            "75 0.2785515320334262 227\n",
            "76 0.32978723404255317 218\n",
            "77 0.3224043715846995 220\n",
            "78 0.2962962962962963 223\n",
            "79 0.3120567375886525 216\n",
            "80 0.3220779220779221 221\n",
            "81 0.18808777429467086 248\n",
            "82 0.32 219\n",
            "83 0.30319148936170215 227\n",
            "84 0.2756756756756757 229\n",
            "85 0.29708222811671087 223\n",
            "86 0.33587786259541985 219\n",
            "87 0.2717391304347826 229\n",
            "88 0.2905027932960894 227\n",
            "89 0.22551928783382788 239\n",
            "90 0.27071823204419887 231\n",
            "91 0.30848329048843187 223\n",
            "92 0.2857142857142857 229\n",
            "93 0.3474576271186441 210\n",
            "94 0.30933333333333335 223\n",
            "95 0.25882352941176473 233\n",
            "96 0.22289156626506024 242\n",
            "97 0.27011494252873564 231\n",
            "98 0.28337874659400547 228\n",
            "99 0.3116883116883117 221\n",
            "100 0.3383838383838384 219\n",
            "101 0.25842696629213485 234\n",
            "102 0.34352941176470586 216\n",
            "103 0.2261904761904762 241\n",
            "104 0.25287356321839083 234\n",
            "105 0.30687830687830686 222\n",
            "106 0.28337874659400547 229\n",
            "107 0.273972602739726 229\n",
            "108 0.24855491329479767 235\n",
            "109 0.22560975609756098 241\n",
            "110 0.34660421545667447 212\n",
            "111 0.2648648648648649 231\n",
            "112 0.17721518987341772 249\n",
            "113 0.2803234501347709 226\n",
            "114 0.30569948186528495 222\n",
            "115 0.25149700598802394 236\n",
            "116 0.2155688622754491 241\n",
            "117 0.2785515320334262 231\n",
            "118 0.29041095890410956 227\n",
            "119 0.2994652406417112 223\n",
            "120 0.24260355029585798 236\n",
            "121 0.2955145118733509 224\n",
            "122 0.21621621621621623 242\n",
            "123 0.2054380664652568 244\n",
            "124 0.3357664233576642 216\n",
            "125 0.33093525179856115 215\n",
            "126 0.18633540372670807 247\n",
            "127 0.29896907216494845 222\n",
            "128 0.3085399449035813 224\n",
            "129 0.31362467866323906 220\n",
            "130 0.34498834498834496 214\n",
            "131 0.23391812865497075 237\n",
            "132 0.273224043715847 229\n",
            "133 0.23880597014925373 238\n",
            "134 0.28337874659400547 227\n",
            "135 0.2681564245810056 230\n",
            "136 0.19875776397515527 246\n",
            "137 0.2359882005899705 237\n",
            "138 0.21604938271604937 243\n",
            "139 0.3171355498721228 221\n",
            "140 0.3719806763285024 209\n",
            "141 0.24855491329479767 235\n",
            "142 0.2917771883289125 224\n",
            "143 0.24489795918367346 236\n",
            "144 0.2677595628415301 232\n",
            "145 0.28735632183908044 228\n",
            "146 0.23391812865497075 237\n",
            "147 0.2801120448179272 228\n",
            "148 0.16822429906542055 250\n",
            "149 0.24096385542168675 237\n",
            "150 0.22686567164179106 239\n",
            "151 0.3113456464379947 220\n",
            "152 0.2784090909090909 229\n",
            "153 0.2420749279538905 236\n",
            "154 0.24925816023738873 236\n",
            "155 0.21951219512195122 241\n",
            "156 0.29333333333333333 226\n",
            "157 0.2054380664652568 243\n",
            "158 0.2992125984251969 222\n",
            "159 0.3374083129584352 216\n",
            "160 0.35872235872235875 209\n",
            "161 0.2693409742120344 230\n",
            "162 0.3036649214659686 221\n",
            "163 0.24260355029585798 238\n",
            "164 0.2037037037037037 244\n",
            "165 0.25806451612903225 234\n",
            "166 0.3299492385786802 216\n",
            "167 0.33649289099526064 216\n",
            "168 0.27717391304347827 227\n",
            "169 0.28732394366197184 228\n",
            "170 0.2786885245901639 227\n",
            "171 0.30927835051546393 220\n",
            "172 0.2903981264637002 223\n",
            "173 0.3358024691358025 214\n",
            "174 0.28969359331476324 228\n",
            "175 0.30727762803234504 222\n",
            "176 0.29775280898876405 227\n",
            "177 0.3036649214659686 221\n",
            "178 0.2903225806451613 226\n",
            "179 0.23214285714285715 240\n",
            "180 0.29444444444444445 225\n",
            "181 0.26857142857142857 233\n",
            "182 0.2809917355371901 229\n",
            "183 0.2195845697329377 241\n",
            "184 0.23323615160349853 237\n",
            "185 0.34146341463414637 215\n",
            "186 0.30238726790450926 226\n",
            "187 0.26822157434402333 232\n",
            "188 0.23493975903614459 239\n",
            "189 0.3230769230769231 220\n",
            "190 0.31978319783197834 221\n",
            "191 0.25787965616045844 234\n",
            "192 0.29015544041450775 229\n",
            "193 0.25 236\n",
            "194 0.2997275204359673 222\n",
            "195 0.33070866141732286 215\n",
            "196 0.2880886426592798 226\n",
            "197 0.26744186046511625 232\n",
            "198 0.29649595687331537 226\n",
            "199 0.332541567695962 219\n",
            "200 0.29461756373937675 227\n",
            "201 0.21341463414634146 242\n",
            "202 0.3258145363408521 219\n",
            "203 0.3016759776536313 225\n",
            "204 0.3105263157894737 222\n",
            "205 0.28350515463917525 225\n",
            "206 0.3064066852367688 225\n",
            "207 0.27089337175792505 231\n",
            "208 0.3669724770642202 215\n",
            "209 0.3064066852367688 224\n",
            "210 0.28804347826086957 230\n",
            "211 0.23837209302325582 238\n",
            "212 0.30612244897959184 223\n",
            "213 0.2872628726287263 227\n",
            "214 0.2598870056497175 231\n",
            "215 0.32558139534883723 218\n",
            "216 0.2478386167146974 234\n",
            "217 0.2287390029325513 240\n",
            "218 0.2655367231638418 231\n",
            "219 0.19135802469135801 246\n",
            "220 0.23008849557522124 240\n",
            "221 0.3279445727482679 215\n",
            "222 0.2287390029325513 240\n",
            "223 0.29310344827586204 228\n",
            "224 0.2737430167597765 229\n",
            "225 0.20958083832335328 242\n",
            "226 0.31216931216931215 223\n",
            "227 0.3765281173594132 207\n",
            "228 0.23738872403560832 238\n",
            "229 0.2175226586102719 242\n",
            "230 0.2275449101796407 239\n",
            "231 0.2857142857142857 229\n",
            "232 0.2571428571428571 233\n",
            "233 0.2727272727272727 230\n",
            "234 0.24773413897280966 236\n",
            "235 0.27472527472527475 228\n",
            "236 0.2779291553133515 227\n",
            "237 0.18518518518518517 247\n",
            "238 0.34 217\n",
            "239 0.20923076923076922 243\n",
            "240 0.2314540059347181 239\n",
            "241 0.25895316804407714 233\n",
            "242 0.3133159268929504 219\n",
            "243 0.2536873156342183 234\n",
            "244 0.26666666666666666 231\n",
            "245 0.2888283378746594 226\n",
            "246 0.2841225626740947 230\n",
            "247 0.3076923076923077 225\n",
            "248 0.3282828282828283 218\n",
            "249 0.34183673469387754 212\n",
            "250 0.2849740932642487 227\n",
            "251 0.2556818181818182 235\n",
            "252 0.3047091412742382 225\n",
            "253 0.22699386503067484 240\n",
            "254 0.23529411764705882 237\n",
            "255 0.2596685082872928 232\n",
            "256 0.2195845697329377 243\n",
            "257 0.30927835051546393 219\n",
            "258 0.2724795640326976 231\n",
            "259 0.24571428571428572 238\n",
            "260 0.23768115942028986 238\n",
            "261 0.29743589743589743 220\n",
            "262 0.3064935064935065 221\n",
            "263 0.27089337175792505 230\n",
            "264 0.3036649214659686 220\n",
            "265 0.3155339805825243 218\n",
            "266 0.23255813953488372 238\n",
            "267 0.3002680965147453 226\n",
            "268 0.29533678756476683 223\n",
            "269 0.2542372881355932 233\n",
            "270 0.281767955801105 229\n",
            "271 0.28205128205128205 226\n",
            "272 0.25936599423631124 235\n",
            "273 0.29765013054830286 227\n",
            "274 0.22822822822822822 239\n",
            "275 0.22608695652173913 240\n",
            "276 0.3010752688172043 225\n",
            "277 0.24929178470254956 234\n",
            "278 0.23952095808383234 237\n",
            "279 0.3172043010752688 223\n",
            "280 0.3 226\n",
            "281 0.28337874659400547 227\n",
            "282 0.3316062176165803 217\n",
            "283 0.29708222811671087 224\n",
            "284 0.32189973614775724 219\n",
            "285 0.32057416267942584 218\n",
            "286 0.37735849056603776 209\n",
            "287 0.18181818181818182 248\n",
            "288 0.2917771883289125 223\n",
            "289 0.27298050139275765 230\n",
            "290 0.32275132275132273 220\n",
            "291 0.2696629213483146 232\n",
            "292 0.2598870056497175 232\n",
            "293 0.32923832923832924 219\n",
            "294 0.2719546742209632 231\n",
            "295 0.23008849557522124 240\n",
            "296 0.2636103151862464 233\n",
            "297 0.20121951219512196 244\n",
            "298 0.31351351351351353 223\n",
            "299 0.2962962962962963 224\n",
            "300 0.31024930747922436 224\n",
            "301 0.31496062992125984 222\n",
            "302 0.3648351648351648 205\n",
            "303 0.3081232492997199 223\n",
            "304 0.3299492385786802 219\n",
            "305 0.2037037037037037 244\n",
            "306 0.1568627450980392 253\n",
            "307 0.330749354005168 218\n",
            "308 0.2809917355371901 227\n",
            "309 0.20625 244\n",
            "310 0.2972972972972973 225\n",
            "311 0.2864864864864865 228\n",
            "312 0.24705882352941178 235\n",
            "313 0.3140495867768595 222\n",
            "314 0.29120879120879123 227\n",
            "315 0.2658959537572254 232\n",
            "316 0.2964824120603015 224\n",
            "317 0.24188790560471976 237\n",
            "318 0.2235294117647059 242\n",
            "319 0.35964912280701755 213\n",
            "320 0.2640449438202247 233\n",
            "321 0.2958904109589041 226\n",
            "322 0.2835820895522388 224\n",
            "323 0.2894736842105263 224\n",
            "324 0.2925531914893617 226\n",
            "325 0.22988505747126436 237\n",
            "326 0.22485207100591717 239\n",
            "327 0.3168831168831169 220\n",
            "328 0.3140495867768595 222\n",
            "329 0.31876606683804626 219\n",
            "330 0.30386740331491713 224\n",
            "331 0.3510392609699769 213\n",
            "332 0.229607250755287 240\n",
            "333 0.31805929919137466 220\n",
            "334 0.2571428571428571 232\n",
            "335 0.22413793103448276 241\n",
            "336 0.30446194225721784 221\n",
            "337 0.25895316804407714 233\n",
            "338 0.340632603406326 216\n",
            "339 0.3178082191780822 223\n",
            "340 0.28415300546448086 227\n",
            "341 0.2573099415204678 235\n",
            "342 0.30726256983240224 225\n",
            "343 0.2636103151862464 232\n",
            "344 0.25210084033613445 234\n",
            "345 0.2880886426592798 227\n",
            "346 0.28254847645429365 229\n",
            "347 0.2564102564102564 233\n",
            "348 0.23563218390804597 238\n",
            "349 0.22740524781341107 239\n",
            "350 0.2992125984251969 225\n",
            "351 0.25072886297376096 235\n",
            "352 0.29891304347826086 224\n",
            "353 0.30256410256410254 220\n",
            "354 0.3105263157894737 220\n",
            "355 0.28493150684931506 228\n",
            "356 0.26011560693641617 233\n",
            "357 0.2785515320334262 229\n",
            "358 0.19814241486068113 246\n",
            "359 0.27450980392156865 234\n",
            "360 0.25219941348973607 236\n",
            "361 0.2776203966005666 230\n",
            "362 0.25219941348973607 236\n",
            "363 0.3333333333333333 213\n",
            "364 0.245014245014245 236\n",
            "365 0.29842931937172773 225\n",
            "366 0.2659279778393352 231\n",
            "367 0.29708222811671087 224\n",
            "368 0.22023809523809523 241\n",
            "369 0.30978260869565216 223\n",
            "370 0.28651685393258425 228\n",
            "371 0.3576158940397351 210\n",
            "372 0.2972972972972973 227\n",
            "373 0.26900584795321636 232\n",
            "374 0.35545023696682465 212\n",
            "375 0.3356643356643357 215\n",
            "376 0.2717391304347826 229\n",
            "377 0.33078880407124683 218\n",
            "378 0.2997275204359673 227\n",
            "379 0.19631901840490798 246\n",
            "380 0.2658959537572254 234\n",
            "381 0.2888283378746594 225\n",
            "382 0.2564102564102564 232\n",
            "383 0.2986666666666667 224\n",
            "384 0.2900763358778626 225\n",
            "385 0.19375 246\n",
            "386 0.3333333333333333 222\n",
            "387 0.2615803814713896 231\n",
            "388 0.2571428571428571 233\n",
            "389 0.32345013477088946 221\n",
            "390 0.2949061662198391 224\n",
            "391 0.24277456647398843 235\n",
            "392 0.2287390029325513 240\n",
            "393 0.2548476454293629 234\n",
            "394 0.2972972972972973 226\n",
            "395 0.3526570048309179 213\n",
            "396 0.27298050139275765 230\n",
            "397 0.29444444444444445 226\n",
            "398 0.3657957244655582 209\n",
            "399 0.24188790560471976 237\n",
            "400 0.28651685393258425 228\n",
            "401 0.2420749279538905 237\n",
            "402 0.3002680965147453 226\n",
            "403 0.22287390029325513 239\n",
            "404 0.28160919540229884 230\n",
            "405 0.29120879120879123 225\n",
            "406 0.24705882352941178 236\n",
            "407 0.3448275862068966 215\n",
            "408 0.350253807106599 214\n",
            "409 0.2840909090909091 231\n",
            "410 0.30392156862745096 222\n",
            "411 0.30730478589420657 221\n",
            "412 0.3033419023136247 222\n",
            "413 0.33707865168539325 214\n",
            "414 0.2195845697329377 240\n",
            "415 0.272 228\n",
            "416 0.2608695652173913 232\n",
            "417 0.2857142857142857 227\n",
            "418 0.2925531914893617 228\n",
            "419 0.23076923076923078 240\n",
            "420 0.31496062992125984 220\n",
            "421 0.2896174863387978 225\n",
            "422 0.36043956043956044 210\n",
            "423 0.25360230547550433 233\n",
            "424 0.2888283378746594 228\n",
            "425 0.26857142857142857 231\n",
            "426 0.26744186046511625 232\n",
            "427 0.24778761061946902 237\n",
            "428 0.3220779220779221 224\n",
            "429 0.30933333333333335 224\n",
            "430 0.27472527472527475 229\n",
            "431 0.2689075630252101 232\n",
            "432 0.30939226519337015 225\n",
            "433 0.29896907216494845 223\n",
            "434 0.3127962085308057 218\n",
            "435 0.17575757575757575 248\n",
            "436 0.2913165266106443 227\n",
            "437 0.3007915567282322 224\n",
            "438 0.33093525179856115 216\n",
            "439 0.2492753623188406 236\n",
            "440 0.3247422680412371 221\n",
            "441 0.24571428571428572 235\n",
            "442 0.25862068965517243 233\n",
            "443 0.20245398773006135 245\n",
            "444 0.2777777777777778 230\n",
            "445 0.21212121212121213 243\n",
            "446 0.2955145118733509 225\n",
            "447 0.37969094922737306 202\n",
            "448 0.2967032967032967 225\n",
            "449 0.29213483146067415 226\n",
            "450 0.19692307692307692 245\n",
            "451 0.28328611898017 228\n",
            "452 0.2621082621082621 234\n",
            "453 0.26011560693641617 234\n",
            "454 0.24561403508771928 236\n",
            "455 0.26628895184135976 232\n",
            "456 0.2485207100591716 236\n",
            "457 0.27717391304347827 228\n",
            "458 0.23323615160349853 239\n",
            "459 0.28804347826086957 226\n",
            "460 0.2955145118733509 223\n",
            "461 0.3237597911227154 218\n",
            "462 0.2770083102493075 229\n",
            "463 0.19937694704049844 245\n",
            "464 0.21148036253776434 242\n",
            "465 0.3460559796437659 212\n",
            "466 0.3053435114503817 220\n",
            "467 0.21671826625386997 242\n",
            "468 0.28272251308900526 224\n",
            "469 0.2949061662198391 227\n",
            "470 0.2849162011173184 227\n",
            "471 0.304 223\n",
            "472 0.25787965616045844 234\n",
            "473 0.2699724517906336 231\n",
            "474 0.2978723404255319 224\n",
            "475 0.27728613569321536 234\n",
            "476 0.2864721485411141 226\n",
            "477 0.22023809523809523 240\n",
            "478 0.1949685534591195 246\n",
            "479 0.31746031746031744 219\n",
            "480 0.26436781609195403 232\n",
            "481 0.3394495412844037 214\n",
            "482 0.19571865443425077 246\n",
            "483 0.26548672566371684 233\n",
            "484 0.2824858757062147 229\n",
            "485 0.22551928783382788 240\n",
            "486 0.17307692307692307 250\n",
            "487 0.2634730538922156 235\n",
            "488 0.30303030303030304 223\n",
            "489 0.3076923076923077 224\n",
            "490 0.25895316804407714 232\n",
            "491 0.29362880886426596 227\n",
            "492 0.2359882005899705 238\n",
            "493 0.27298050139275765 233\n",
            "494 0.26373626373626374 232\n",
            "495 0.27932960893854747 228\n",
            "496 0.2777777777777778 228\n",
            "497 0.25936599423631124 235\n",
            "498 0.2678062678062678 232\n",
            "499 0.2644628099173554 230\n",
            "500 0.25360230547550433 234\n",
            "501 0.26822157434402333 231\n",
            "502 0.33978494623655914 214\n",
            "503 0.2659279778393352 233\n",
            "504 0.3085399449035813 225\n",
            "505 0.2 244\n",
            "506 0.3237597911227154 220\n",
            "507 0.3341404358353511 215\n",
            "508 0.3160621761658031 219\n",
            "509 0.27945205479452057 226\n",
            "510 0.29649595687331537 227\n",
            "511 0.3022670025188917 220\n",
            "512 0.35 214\n",
            "513 0.3157894736842105 222\n",
            "514 0.22608695652173913 239\n",
            "515 0.28116710875331563 225\n",
            "516 0.2534435261707989 233\n",
            "517 0.2978723404255319 224\n",
            "518 0.1949685534591195 247\n",
            "519 0.23668639053254437 237\n",
            "520 0.3708609271523179 207\n",
            "521 0.27932960893854747 232\n",
            "522 0.23529411764705882 238\n",
            "523 0.25360230547550433 234\n",
            "524 0.34196891191709844 214\n",
            "525 0.315035799522673 217\n",
            "526 0.2712765957446808 228\n",
            "527 0.288 226\n",
            "528 0.25770308123249297 233\n",
            "529 0.24277456647398843 236\n",
            "530 0.32189973614775724 219\n",
            "531 0.2647887323943662 232\n",
            "532 0.21637426900584794 241\n",
            "533 0.27605633802816903 230\n",
            "534 0.28493150684931506 228\n",
            "535 0.30434782608695654 222\n",
            "536 0.23880597014925373 237\n",
            "537 0.3316062176165803 216\n",
            "538 0.24624624624624625 238\n",
            "539 0.23460410557184752 238\n",
            "540 0.3229166666666667 218\n",
            "541 0.2413793103448276 236\n",
            "542 0.2404692082111437 237\n",
            "543 0.29362880886426596 225\n",
            "544 0.36929460580912865 212\n",
            "545 0.2949061662198391 225\n",
            "546 0.2864864864864865 230\n",
            "547 0.2969187675070028 225\n",
            "548 0.30563002680965146 221\n",
            "549 0.3208020050125313 219\n",
            "550 0.3197969543147208 220\n",
            "551 0.2127659574468085 242\n",
            "552 0.287292817679558 228\n",
            "553 0.3815789473684211 205\n",
            "554 0.27071823204419887 231\n",
            "555 0.3224181360201511 220\n",
            "556 0.2692307692307692 229\n",
            "557 0.31265508684863524 220\n",
            "558 0.3033419023136247 225\n",
            "559 0.26330532212885155 231\n",
            "560 0.32160804020100503 219\n",
            "561 0.23076923076923078 239\n",
            "562 0.35933806146572106 210\n",
            "563 0.2708333333333333 229\n",
            "564 0.27298050139275765 230\n",
            "565 0.2433234421364985 237\n",
            "566 0.2981029810298103 225\n",
            "567 0.25806451612903225 233\n",
            "568 0.22289156626506024 240\n",
            "569 0.29201101928374656 226\n",
            "570 0.22023809523809523 240\n",
            "571 0.2647887323943662 232\n",
            "572 0.3424317617866005 217\n",
            "573 0.26285714285714284 232\n",
            "574 0.23214285714285715 238\n",
            "575 0.2982005141388175 224\n",
            "576 0.3374083129584352 213\n",
            "577 0.27624309392265195 227\n",
            "578 0.18012422360248448 248\n",
            "579 0.32857142857142857 217\n",
            "580 0.31746031746031744 219\n",
            "581 0.34673366834170855 215\n",
            "582 0.2441860465116279 235\n",
            "583 0.3357664233576642 213\n",
            "584 0.27906976744186046 226\n",
            "585 0.3256997455470738 222\n",
            "586 0.35 213\n",
            "587 0.27298050139275765 228\n",
            "588 0.2857142857142857 229\n",
            "589 0.2621082621082621 233\n",
            "590 0.2727272727272727 230\n",
            "591 0.3384615384615385 216\n",
            "592 0.25360230547550433 235\n",
            "593 0.2692307692307692 231\n",
            "594 0.27605633802816903 228\n",
            "595 0.28651685393258425 229\n",
            "596 0.2986666666666667 225\n",
            "597 0.36496350364963503 206\n",
            "598 0.2571428571428571 232\n",
            "599 0.28651685393258425 226\n",
            "600 0.2565597667638484 234\n",
            "601 0.3541666666666667 211\n",
            "602 0.3081232492997199 224\n",
            "603 0.30927835051546393 219\n",
            "604 0.26011560693641617 234\n",
            "605 0.32653061224489793 218\n",
            "606 0.32273838630806845 218\n",
            "607 0.2492753623188406 235\n",
            "608 0.36693548387096775 210\n",
            "609 0.2420749279538905 238\n",
            "610 0.3333333333333333 215\n",
            "611 0.2692307692307692 230\n",
            "612 0.28328611898017 229\n",
            "613 0.24571428571428572 236\n",
            "614 0.2689075630252101 230\n",
            "615 0.19435736677115986 247\n",
            "616 0.24705882352941178 235\n",
            "617 0.16560509554140126 251\n",
            "618 0.3526570048309179 210\n",
            "619 0.2752808988764045 230\n",
            "620 0.2840909090909091 228\n",
            "621 0.2411764705882353 237\n",
            "622 0.350109409190372 214\n",
            "623 0.2888283378746594 224\n",
            "624 0.2992125984251969 225\n",
            "625 0.30446194225721784 226\n",
            "626 0.2905027932960894 227\n",
            "627 0.32545931758530183 217\n",
            "628 0.36065573770491804 209\n",
            "629 0.29362880886426596 224\n",
            "630 0.29457364341085274 226\n",
            "631 0.25071225071225073 236\n",
            "632 0.29110512129380056 226\n",
            "633 0.29201101928374656 226\n",
            "634 0.3197969543147208 222\n",
            "635 0.2359882005899705 239\n",
            "636 0.17252396166134185 250\n",
            "637 0.29473684210526313 223\n",
            "638 0.26900584795321636 234\n",
            "639 0.2967032967032967 227\n",
            "640 0.2819843342036554 224\n",
            "641 0.2392638036809816 238\n",
            "642 0.2777777777777778 230\n",
            "643 0.2598870056497175 234\n",
            "644 0.2992125984251969 227\n",
            "645 0.3890160183066362 207\n",
            "646 0.2742857142857143 229\n",
            "647 0.26330532212885155 233\n",
            "648 0.33014354066985646 214\n",
            "649 0.29396325459317585 223\n",
            "650 0.2556818181818182 234\n",
            "651 0.30386740331491713 224\n",
            "652 0.2978723404255319 226\n",
            "653 0.328042328042328 218\n",
            "654 0.32524271844660196 220\n",
            "655 0.2864864864864865 226\n",
            "656 0.30517711171662126 224\n",
            "657 0.33157894736842103 218\n",
            "658 0.2826086956521739 226\n",
            "659 0.22988505747126436 238\n",
            "660 0.25842696629213485 232\n",
            "661 0.27146814404432135 228\n",
            "662 0.21604938271604937 242\n",
            "663 0.15384615384615385 253\n",
            "664 0.239067055393586 236\n",
            "665 0.2752808988764045 228\n",
            "666 0.2776203966005666 231\n",
            "667 0.28342245989304815 227\n",
            "668 0.32418952618453867 219\n",
            "669 0.3566265060240964 209\n",
            "670 0.21341463414634146 243\n",
            "671 0.31362467866323906 220\n",
            "672 0.2222222222222222 241\n",
            "673 0.23563218390804597 236\n",
            "674 0.2636103151862464 233\n",
            "675 0.32195121951219513 220\n",
            "676 0.27507163323782235 230\n",
            "677 0.24778761061946902 235\n",
            "678 0.32727272727272727 219\n",
            "679 0.33505154639175255 214\n",
            "680 0.28342245989304815 227\n",
            "681 0.18125 248\n",
            "682 0.3354564755838641 215\n",
            "683 0.29362880886426596 227\n",
            "684 0.28184281842818426 229\n",
            "685 0.20481927710843373 244\n",
            "686 0.2711864406779661 230\n",
            "687 0.3147208121827411 220\n",
            "688 0.3230769230769231 219\n",
            "689 0.2681564245810056 230\n",
            "690 0.29295774647887324 227\n",
            "691 0.24431818181818182 234\n",
            "692 0.2571428571428571 233\n",
            "693 0.2195845697329377 240\n",
            "694 0.3309692671394799 218\n",
            "695 0.28337874659400547 228\n",
            "696 0.32390745501285345 216\n",
            "697 0.2802197802197802 228\n",
            "698 0.27011494252873564 231\n",
            "699 0.27246376811594203 231\n",
            "700 0.2916666666666667 226\n",
            "701 0.2318840579710145 238\n",
            "702 0.3480392156862745 215\n",
            "703 0.37104072398190047 210\n",
            "704 0.291005291005291 223\n",
            "705 0.3007915567282322 224\n",
            "706 0.1901840490797546 247\n",
            "707 0.33246753246753247 217\n",
            "708 0.2849162011173184 226\n",
            "709 0.2441860465116279 236\n",
            "710 0.29608938547486036 224\n",
            "711 0.23391812865497075 238\n",
            "712 0.27624309392265195 228\n",
            "713 0.2864721485411141 228\n",
            "714 0.3027027027027027 223\n",
            "715 0.23098591549295774 238\n",
            "716 0.29396325459317585 225\n",
            "717 0.18012422360248448 249\n",
            "718 0.23668639053254437 239\n",
            "719 0.2441860465116279 236\n",
            "720 0.3224043715846995 221\n",
            "721 0.3415841584158416 212\n",
            "722 0.29023746701846964 225\n",
            "723 0.23008849557522124 239\n",
            "724 0.26392961876832843 235\n",
            "725 0.28254847645429365 228\n",
            "726 0.3155216284987277 219\n",
            "727 0.29461756373937675 228\n",
            "728 0.17088607594936708 250\n",
            "729 0.22018348623853212 242\n",
            "730 0.27807486631016043 227\n",
            "731 0.2865013774104683 230\n",
            "732 0.3144963144963145 220\n",
            "733 0.2900763358778626 224\n",
            "734 0.2824207492795389 229\n",
            "735 0.30687830687830686 222\n",
            "736 0.25936599423631124 233\n",
            "737 0.22598870056497175 238\n",
            "738 0.23423423423423423 238\n",
            "739 0.2704225352112676 232\n",
            "740 0.33587786259541985 220\n",
            "741 0.34120734908136485 215\n",
            "742 0.22740524781341107 240\n",
            "743 0.18867924528301888 248\n",
            "744 0.36548223350253806 210\n",
            "745 0.2492753623188406 234\n",
            "746 0.23563218390804597 238\n",
            "747 0.2478386167146974 236\n",
            "748 0.27932960893854747 228\n",
            "749 0.3316582914572864 217\n",
            "750 0.31466666666666665 220\n",
            "751 0.24277456647398843 237\n",
            "752 0.2918918918918919 225\n",
            "753 0.27586206896551724 232\n",
            "754 0.3005181347150259 224\n",
            "755 0.2636103151862464 233\n",
            "756 0.2492753623188406 236\n",
            "757 0.19571865443425077 245\n",
            "758 0.2543352601156069 235\n",
            "759 0.3036649214659686 221\n",
            "760 0.22941176470588234 238\n",
            "761 0.32 220\n",
            "762 0.20958083832335328 244\n",
            "763 0.27350427350427353 230\n",
            "764 0.28969359331476324 228\n",
            "765 0.20317460317460317 246\n",
            "766 0.324468085106383 220\n",
            "767 0.3160621761658031 218\n",
            "768 0.28191489361702127 227\n",
            "769 0.3431952662721893 218\n",
            "770 0.3114754098360656 222\n",
            "771 0.2918918918918919 227\n",
            "772 0.29765013054830286 223\n",
            "773 0.2777777777777778 229\n",
            "774 0.304 224\n",
            "775 0.2888283378746594 225\n",
            "776 0.3333333333333333 218\n",
            "777 0.3299492385786802 216\n",
            "778 0.25595238095238093 235\n",
            "779 0.25882352941176473 234\n",
            "780 0.3002680965147453 223\n",
            "781 0.2568306010928962 232\n",
            "782 0.25862068965517243 232\n",
            "783 0.28169014084507044 233\n",
            "784 0.2918918918918919 224\n",
            "785 0.337468982630273 213\n",
            "786 0.32345013477088946 219\n",
            "787 0.3368421052631579 216\n",
            "788 0.2536873156342183 237\n",
            "789 0.30412371134020616 225\n",
            "790 0.2997275204359673 224\n",
            "791 0.26038781163434904 233\n",
            "792 0.22551928783382788 240\n",
            "793 0.35323383084577115 210\n",
            "794 0.3133159268929504 222\n",
            "795 0.31496062992125984 221\n",
            "796 0.3308641975308642 216\n",
            "797 0.25 235\n",
            "798 0.31978319783197834 223\n",
            "799 0.2693409742120344 233\n",
            "800 0.3157894736842105 219\n",
            "801 0.3057644110275689 221\n",
            "802 0.3482142857142857 208\n",
            "803 0.3392405063291139 216\n",
            "804 0.24157303370786518 234\n",
            "805 0.2692307692307692 230\n",
            "806 0.2689075630252101 230\n",
            "807 0.3392405063291139 218\n",
            "808 0.2926829268292683 227\n",
            "809 0.3105263157894737 222\n",
            "810 0.32418952618453867 219\n",
            "811 0.3076923076923077 222\n",
            "812 0.25507246376811593 235\n",
            "813 0.22429906542056074 241\n",
            "814 0.2529411764705882 235\n",
            "815 0.21739130434782608 242\n",
            "816 0.11295681063122924 260\n",
            "817 0.3080684596577017 221\n",
            "818 0.33415233415233414 218\n",
            "819 0.28804347826086957 227\n",
            "820 0.25219941348973607 235\n",
            "821 0.33480176211453744 213\n",
            "822 0.281767955801105 229\n",
            "823 0.26512968299711814 233\n",
            "824 0.14012738853503184 256\n",
            "825 0.27605633802816903 231\n",
            "826 0.1625 251\n",
            "827 0.28160919540229884 231\n",
            "828 0.32160804020100503 219\n",
            "829 0.32663316582914576 219\n",
            "830 0.32891246684350134 219\n",
            "831 0.2918918918918919 226\n",
            "832 0.3309692671394799 213\n",
            "833 0.2905027932960894 228\n",
            "834 0.2175226586102719 242\n",
            "835 0.22822822822822822 239\n",
            "836 0.25895316804407714 230\n",
            "837 0.3231850117096019 217\n",
            "838 0.29533678756476683 226\n",
            "839 0.2840909090909091 227\n",
            "840 0.2608695652173913 233\n",
            "841 0.31382978723404253 223\n",
            "842 0.32041343669250644 218\n",
            "843 0.3492822966507177 213\n",
            "844 0.22922636103151864 238\n",
            "845 0.30851063829787234 222\n",
            "846 0.3389830508474576 214\n",
            "847 0.3018867924528302 223\n",
            "848 0.2849162011173184 228\n",
            "849 0.23283582089552238 239\n",
            "850 0.3240506329113924 218\n",
            "851 0.2994652406417112 226\n",
            "852 0.2289156626506024 239\n",
            "853 0.19631901840490798 246\n",
            "854 0.296875 226\n",
            "855 0.2644628099173554 231\n",
            "856 0.28653295128939826 229\n",
            "857 0.3488943488943489 213\n",
            "858 0.3298429319371728 218\n",
            "859 0.26666666666666666 234\n",
            "860 0.27605633802816903 231\n",
            "861 0.2776203966005666 229\n",
            "862 0.24188790560471976 236\n",
            "863 0.21341463414634146 243\n",
            "864 0.24705882352941178 236\n",
            "865 0.2872628726287263 227\n",
            "866 0.32020997375328086 218\n",
            "867 0.25 233\n",
            "868 0.25842696629213485 233\n",
            "869 0.2289156626506024 241\n",
            "870 0.22492401215805471 241\n",
            "871 0.3372365339578454 216\n",
            "872 0.3152454780361757 218\n",
            "873 0.3197969543147208 221\n",
            "874 0.25936599423631124 234\n",
            "875 0.2275449101796407 240\n",
            "876 0.22356495468277945 242\n",
            "877 0.21341463414634146 242\n",
            "878 0.2983425414364641 223\n",
            "879 0.24277456647398843 236\n",
            "880 0.2737430167597765 231\n",
            "881 0.31016042780748665 223\n",
            "882 0.29649595687331537 226\n",
            "883 0.3291139240506329 219\n",
            "884 0.29213483146067415 227\n",
            "885 0.36065573770491804 208\n",
            "886 0.28184281842818426 227\n",
            "887 0.3316582914572864 218\n",
            "888 0.3628865979381443 212\n",
            "889 0.3795918367346939 206\n",
            "890 0.30337078651685395 226\n",
            "891 0.20496894409937888 244\n",
            "892 0.2986666666666667 227\n",
            "893 0.2833333333333333 228\n",
            "894 0.2784090909090909 230\n",
            "895 0.26330532212885155 231\n",
            "896 0.3013698630136986 225\n",
            "897 0.2689075630252101 233\n",
            "898 0.2776203966005666 230\n",
            "899 0.2896174863387978 227\n",
            "900 0.3064516129032258 222\n",
            "901 0.3252032520325203 220\n",
            "902 0.2824858757062147 231\n",
            "903 0.25146198830409355 234\n",
            "904 0.2647887323943662 232\n",
            "905 0.2085889570552147 244\n",
            "906 0.30939226519337015 222\n",
            "907 0.26740947075208915 229\n",
            "908 0.23214285714285715 238\n",
            "909 0.2949061662198391 224\n",
            "910 0.28337874659400547 229\n",
            "911 0.22018348623853212 242\n",
            "912 0.23008849557522124 240\n",
            "913 0.29533678756476683 224\n",
            "914 0.3109919571045576 221\n",
            "915 0.2619047619047619 233\n",
            "916 0.3128205128205128 225\n",
            "917 0.2689075630252101 232\n",
            "918 0.14426229508196722 255\n",
            "919 0.30517711171662126 222\n",
            "920 0.27440633245382584 230\n",
            "921 0.2565597667638484 235\n",
            "922 0.26740947075208915 231\n",
            "923 0.30517711171662126 224\n",
            "924 0.2556818181818182 233\n",
            "925 0.3436754176610978 214\n",
            "926 0.22418879056047197 240\n",
            "927 0.21084337349397592 242\n",
            "928 0.31202046035805625 224\n",
            "929 0.21114369501466276 241\n",
            "930 0.22485207100591717 241\n",
            "931 0.2779291553133515 229\n",
            "932 0.22839506172839505 241\n",
            "933 0.3333333333333333 219\n",
            "934 0.25071225071225073 235\n",
            "935 0.3225806451612903 216\n",
            "936 0.19814241486068113 245\n",
            "937 0.32020997375328086 220\n",
            "938 0.2711864406779661 231\n",
            "939 0.30569948186528495 221\n",
            "940 0.2175226586102719 241\n",
            "941 0.2752808988764045 230\n",
            "942 0.2768361581920904 229\n",
            "943 0.28328611898017 227\n",
            "944 0.2742857142857143 231\n",
            "945 0.34192037470725994 212\n",
            "946 0.2689075630252101 231\n",
            "947 0.2565597667638484 234\n",
            "948 0.2872628726287263 227\n",
            "949 0.2719546742209632 231\n",
            "950 0.315 219\n",
            "951 0.3408521303258145 215\n",
            "952 0.30687830687830686 221\n",
            "953 0.26256983240223464 233\n",
            "954 0.20178041543026706 243\n",
            "955 0.2404692082111437 237\n",
            "956 0.25142857142857145 235\n",
            "957 0.2926829268292683 225\n",
            "958 0.32545931758530183 217\n",
            "959 0.26330532212885155 231\n",
            "960 0.2736842105263158 228\n",
            "961 0.2981029810298103 225\n",
            "962 0.334841628959276 216\n",
            "963 0.26136363636363635 233\n",
            "964 0.3392405063291139 216\n",
            "965 0.2809917355371901 228\n",
            "966 0.2413793103448276 235\n",
            "967 0.31466666666666665 221\n",
            "968 0.24867724867724866 233\n",
            "969 0.3240506329113924 218\n",
            "970 0.32978723404255317 216\n",
            "971 0.2636103151862464 234\n",
            "972 0.31738035264483627 220\n",
            "973 0.3308270676691729 217\n",
            "974 0.10884353741496598 261\n",
            "975 0.2324159021406728 239\n",
            "976 0.25 236\n",
            "977 0.23353293413173654 239\n",
            "978 0.34942528735632183 211\n",
            "979 0.3673469387755102 212\n",
            "980 0.26301369863013696 230\n",
            "981 0.3220779220779221 219\n",
            "982 0.24277456647398843 236\n",
            "983 0.2994652406417112 223\n",
            "984 0.2824858757062147 229\n",
            "985 0.23493975903614459 239\n",
            "986 0.3012987012987013 223\n",
            "987 0.31738035264483627 219\n",
            "988 0.23952095808383234 237\n",
            "989 0.32545931758530183 215\n",
            "990 0.27586206896551724 232\n",
            "991 0.3421686746987952 216\n",
            "992 0.3064935064935065 224\n",
            "993 0.26062322946175637 233\n",
            "994 0.25787965616045844 234\n",
            "995 0.22988505747126436 240\n",
            "996 0.3096446700507614 221\n",
            "997 0.32323232323232326 219\n",
            "998 0.32663316582914576 215\n",
            "999 0.31958762886597936 219\n",
            "1000 0.3325740318906606 222\n",
            "1001 0.30569948186528495 220\n",
            "1002 0.24561403508771928 236\n",
            "1003 0.2535211267605634 233\n",
            "1004 0.2967032967032967 226\n",
            "1005 0.26704545454545453 232\n",
            "1006 0.30179028132992325 221\n",
            "1007 0.33078880407124683 219\n",
            "1008 0.2420749279538905 239\n",
            "1009 0.3492822966507177 215\n",
            "1010 0.30687830687830686 222\n",
            "1011 0.3112244897959184 220\n",
            "1012 0.18808777429467086 247\n",
            "1013 0.24260355029585798 237\n",
            "1014 0.2786885245901639 229\n",
            "1015 0.33249370277078083 216\n",
            "1016 0.23460410557184752 238\n",
            "1017 0.23661971830985915 236\n",
            "1018 0.21621621621621623 241\n",
            "1019 0.26512968299711814 233\n",
            "1020 0.3462414578587699 212\n",
            "1021 0.32989690721649484 223\n",
            "1022 0.30727762803234504 223\n",
            "1023 0.2909090909090909 225\n",
            "1024 0.26011560693641617 234\n",
            "1025 0.31088082901554404 221\n",
            "1026 0.2905027932960894 225\n",
            "1027 0.30933333333333335 220\n",
            "1028 0.2956989247311828 224\n",
            "1029 0.2900763358778626 221\n",
            "1030 0.30939226519337015 228\n",
            "1031 0.2596685082872928 233\n",
            "1032 0.21238938053097345 242\n",
            "1033 0.21406727828746178 242\n",
            "1034 0.29201101928374656 230\n",
            "1035 0.2896174863387978 227\n",
            "1036 0.356234096692112 216\n",
            "1037 0.27450980392156865 231\n",
            "1038 0.32367149758454106 217\n",
            "1039 0.289544235924933 228\n",
            "1040 0.26256983240223464 234\n",
            "1041 0.34328358208955223 215\n",
            "1042 0.3064935064935065 223\n",
            "1043 0.30434782608695654 225\n",
            "1044 0.276657060518732 231\n",
            "1045 0.2925531914893617 226\n",
            "1046 0.36009732360097324 212\n",
            "1047 0.3057644110275689 222\n",
            "1048 0.2471264367816092 234\n",
            "1049 0.26436781609195403 235\n",
            "1050 0.30158730158730157 223\n",
            "1051 0.3020833333333333 227\n",
            "1052 0.26822157434402333 233\n",
            "1053 0.20307692307692307 245\n",
            "1054 0.28254847645429365 229\n",
            "1055 0.289544235924933 226\n",
            "1056 0.3076923076923077 221\n",
            "1057 0.25146198830409355 234\n",
            "1058 0.2536873156342183 235\n",
            "1059 0.28328611898017 227\n",
            "1060 0.22289156626506024 240\n",
            "1061 0.23595505617977527 236\n",
            "1062 0.27167630057803466 232\n",
            "1063 0.25753424657534246 232\n",
            "1064 0.24561403508771928 237\n",
            "1065 0.29891304347826086 226\n",
            "1066 0.23076923076923078 239\n",
            "1067 0.2857142857142857 227\n",
            "1068 0.2770083102493075 231\n",
            "1069 0.31876606683804626 224\n",
            "1070 0.3198090692124105 219\n",
            "1071 0.21818181818181817 242\n",
            "1072 0.3163265306122449 219\n",
            "1073 0.2175226586102719 242\n",
            "1074 0.27350427350427353 232\n",
            "1075 0.19814241486068113 245\n",
            "1076 0.2782608695652174 231\n",
            "1077 0.23384615384615384 239\n",
            "1078 0.2254335260115607 240\n",
            "1079 0.32124352331606215 217\n",
            "1080 0.3470319634703196 210\n",
            "1081 0.29427792915531337 227\n",
            "1082 0.23323615160349853 240\n",
            "1083 0.35909090909090907 212\n",
            "1084 0.21406727828746178 242\n",
            "1085 0.3139240506329114 222\n",
            "1086 0.30978260869565216 224\n",
            "1087 0.21951219512195122 242\n",
            "1088 0.26330532212885155 232\n",
            "1089 0.32061068702290074 216\n",
            "1090 0.2880886426592798 228\n",
            "1091 0.21428571428571427 242\n",
            "1092 0.2849162011173184 227\n",
            "1093 0.2849002849002849 228\n",
            "1094 0.20298507462686566 244\n",
            "1095 0.3139240506329114 222\n",
            "1096 0.330188679245283 216\n",
            "1097 0.3106267029972752 222\n",
            "1098 0.31197771587743733 222\n",
            "1099 0.31876606683804626 221\n",
            "1100 0.3064935064935065 221\n",
            "1101 0.3016759776536313 228\n",
            "1102 0.3035230352303523 223\n",
            "1103 0.23976608187134502 238\n",
            "1104 0.3076923076923077 221\n",
            "1105 0.28421052631578947 226\n",
            "1106 0.2865013774104683 226\n",
            "1107 0.24705882352941178 236\n",
            "1108 0.24633431085043989 235\n",
            "1109 0.34606741573033706 212\n",
            "1110 0.3408521303258145 218\n",
            "1111 0.2188449848024316 241\n",
            "1112 0.35610766045548653 215\n",
            "1113 0.28421052631578947 225\n",
            "1114 0.27624309392265195 229\n",
            "1115 0.28169014084507044 228\n",
            "1116 0.2677165354330709 230\n",
            "1117 0.30563002680965146 221\n",
            "1118 0.3289817232375979 221\n",
            "1119 0.22492401215805471 242\n",
            "1120 0.26256983240223464 231\n",
            "1121 0.28415300546448086 229\n",
            "1122 0.34096692111959287 215\n",
            "1123 0.28254847645429365 227\n",
            "1124 0.32160804020100503 217\n",
            "1125 0.328042328042328 220\n",
            "1126 0.22485207100591717 240\n",
            "1127 0.15584415584415584 253\n",
            "1128 0.28493150684931506 228\n",
            "1129 0.22822822822822822 239\n",
            "1130 0.3109919571045576 220\n",
            "1131 0.17419354838709677 251\n",
            "1132 0.26256983240223464 232\n",
            "1133 0.2695417789757412 229\n",
            "1134 0.35365853658536583 216\n",
            "1135 0.2658959537572254 232\n",
            "1136 0.25862068965517243 235\n",
            "1137 0.32041343669250644 221\n",
            "1138 0.33773087071240104 218\n",
            "1139 0.3116883116883117 222\n",
            "1140 0.3163538873994638 222\n",
            "1141 0.2441860465116279 237\n",
            "1142 0.23121387283236994 237\n",
            "1143 0.24550898203592814 238\n",
            "1144 0.3081081081081081 223\n",
            "1145 0.25280898876404495 234\n",
            "1146 0.2737430167597765 230\n",
            "1147 0.1951219512195122 245\n",
            "1148 0.21176470588235294 242\n",
            "1149 0.22023809523809523 241\n",
            "1150 0.1892744479495268 248\n",
            "1151 0.33495145631067963 214\n",
            "1152 0.2564102564102564 234\n",
            "1153 0.26330532212885155 231\n",
            "1154 0.38074398249452956 208\n",
            "1155 0.2215568862275449 240\n",
            "1156 0.3145539906103286 217\n",
            "1157 0.34951456310679613 212\n",
            "1158 0.32360742705570295 220\n",
            "1159 0.36185819070904646 212\n",
            "1160 0.325 217\n",
            "1161 0.25787965616045844 232\n",
            "1162 0.31521739130434784 222\n",
            "1163 0.25507246376811593 235\n",
            "1164 0.29041095890410956 224\n",
            "1165 0.26857142857142857 233\n",
            "1166 0.25882352941176473 233\n",
            "1167 0.30809399477806787 224\n",
            "1168 0.25806451612903225 233\n",
            "1169 0.3411214953271028 215\n",
            "1170 0.26628895184135976 230\n",
            "1171 0.29916897506925205 228\n",
            "1172 0.26436781609195403 231\n",
            "1173 0.2043343653250774 244\n",
            "1174 0.2997275204359673 226\n",
            "1175 0.337468982630273 214\n",
            "1176 0.2677595628415301 231\n",
            "1177 0.24855491329479767 236\n",
            "1178 0.24260355029585798 238\n",
            "1179 0.26512968299711814 232\n",
            "1180 0.2796833773087071 229\n",
            "1181 0.27548209366391185 230\n",
            "1182 0.31088082901554404 221\n",
            "1183 0.38247011952191234 209\n",
            "1184 0.30612244897959184 221\n",
            "1185 0.2809917355371901 228\n",
            "1186 0.20833333333333334 243\n",
            "1187 0.2742857142857143 230\n",
            "1188 0.25225225225225223 235\n",
            "1189 0.2678062678062678 232\n",
            "1190 0.21021021021021022 243\n",
            "1191 0.30927835051546393 221\n",
            "1192 0.2777777777777778 228\n",
            "1193 0.2711864406779661 232\n",
            "1194 0.32124352331606215 218\n",
            "1195 0.2127659574468085 242\n",
            "1196 0.3261390887290168 217\n"
          ]
        }
      ],
      "source": [
        "count=0\n",
        "for i in tweets[\"text\"]:\n",
        "  s1=modif(tweets[\"text\"][1])\n",
        "  count=count+1\n",
        "  s2=modif(claims[\"vclaim\"][count])\n",
        "  Distance=levenshtein_ratio_and_distance(s1,s2)\n",
        "  Ratio=levenshtein_ratio_and_distance(s1,s2,ratio_calc=True)\n",
        "  print(count,Ratio,Distance)"
      ]
    },
    {
      "cell_type": "markdown",
      "metadata": {
        "id": "wwiDckDxlTKK"
      },
      "source": [
        "Application de Jaccard sur toutes les données\n",
        "\n",
        "---\n",
        "\n"
      ]
    },
    {
      "cell_type": "code",
      "source": [
        "modif(tweets[\"text\"][1])"
      ],
      "metadata": {
        "colab": {
          "base_uri": "https://localhost:8080/",
          "height": 71
        },
        "id": "vL-cJp2hzCJm",
        "outputId": "dc5f4a04-6bda-452f-fc90-7aacf5eb1c14"
      },
      "execution_count": 25,
      "outputs": [
        {
          "output_type": "execute_result",
          "data": {
            "text/plain": [
              "'Trump needs immediately divest from businesses comply emoluments clause. Iran could threaten Trump hotels *worldwide* could provoke war over loss revenue from skittish guests.  His business interests should be driving military decisions. — Ilhan Omar (@IlhanMN) January 6, 2020'"
            ],
            "application/vnd.google.colaboratory.intrinsic+json": {
              "type": "string"
            }
          },
          "metadata": {},
          "execution_count": 25
        }
      ]
    },
    {
      "cell_type": "code",
      "source": [
        "claims[\"vclaim\"][302]"
      ],
      "metadata": {
        "colab": {
          "base_uri": "https://localhost:8080/",
          "height": 54
        },
        "id": "ZhWpNndXEZSD",
        "outputId": "da3dc2b8-ad89-48b2-eb58-7e216d2d9e3f"
      },
      "execution_count": 20,
      "outputs": [
        {
          "output_type": "execute_result",
          "data": {
            "text/plain": [
              "'A commencement speech delivered by President Trump at Liberty University in May 2017 bore remarkable similarities to one given by Reese Witherspoon\\'s character in the 2001 film \"Legally Blonde.\"'"
            ],
            "application/vnd.google.colaboratory.intrinsic+json": {
              "type": "string"
            }
          },
          "metadata": {},
          "execution_count": 20
        }
      ]
    },
    {
      "cell_type": "code",
      "source": [
        "claims[\"vclaim\"][690]"
      ],
      "metadata": {
        "colab": {
          "base_uri": "https://localhost:8080/",
          "height": 37
        },
        "id": "fNcAb4PEzFTg",
        "outputId": "534477a7-653d-4e16-ae38-137c1f3ad97d"
      },
      "execution_count": 49,
      "outputs": [
        {
          "output_type": "execute_result",
          "data": {
            "text/plain": [
              "'U.S. President Donald Trump said \"We\\'re going to take the firearms first and then go to court.\"'"
            ],
            "application/vnd.google.colaboratory.intrinsic+json": {
              "type": "string"
            }
          },
          "metadata": {},
          "execution_count": 49
        }
      ]
    },
    {
      "cell_type": "code",
      "execution_count": 23,
      "metadata": {
        "colab": {
          "base_uri": "https://localhost:8080/"
        },
        "id": "pVD7-_jqlTKL",
        "outputId": "7279c998-9d3c-4162-82a1-66a0e26acbda"
      },
      "outputs": [
        {
          "output_type": "stream",
          "name": "stdout",
          "text": [
            "215\n",
            "608\n",
            "622\n",
            "668\n",
            "889\n"
          ]
        }
      ],
      "source": [
        "count=0\n",
        "for i in tweets[\"text\"]:\n",
        "  s1=tweets[\"text\"][1]\n",
        "  s1=modif(s1)\n",
        "  count=count+1\n",
        "  s2=claims[\"vclaim\"][count]\n",
        "  s2=modif(s2)\n",
        "  if jaccard(s1, s2)* 100 > 68.1:\n",
        "      print(count)"
      ]
    },
    {
      "cell_type": "markdown",
      "metadata": {
        "id": "pi1orbbrtCrc"
      },
      "source": [
        "### Programmes"
      ]
    },
    {
      "cell_type": "markdown",
      "metadata": {
        "id": "1ys39rDelTKT"
      },
      "source": [
        "Essaie d'un premier programme\n",
        "\n",
        "---\n",
        "\n",
        "\n",
        "\n",
        "1.   Supprime tous les elements inutiles tels que article determminant etc avec methode modif()\n",
        "2.  On ajoute 5 points si annee correspondent, 10 si mois correspondent, 15 si jour aussi \n",
        "\n",
        "\n",
        "1.   On ajoute 20 si il y a une correspondance de 50% des NomsPropres\n",
        "2.   On ajoute 50 points si levenshtein distance > 30 et ratio > 60%\n",
        "\n",
        "\n",
        "\n"
      ]
    },
    {
      "cell_type": "code",
      "execution_count": 36,
      "metadata": {
        "id": "twzMKHswlTKU"
      },
      "outputs": [],
      "source": [
        "def calcul1(a,b):\n",
        "  datet=datetweet(a)\n",
        "  datec=lieclaim(b)\n",
        "  datec=dateclaim(datec)\n",
        "  total=0\n",
        "  count=-1\n",
        "  count =count+1\n",
        "  res=[]\n",
        "  if datec == None: \n",
        "    datec = ['','','']\n",
        "  if datec[2]==datet[2]:\n",
        "    total=total+5\n",
        "    if datec[1]==datet[1]:\n",
        "      total=total+15\n",
        "      if datec[0]==datet[0]:\n",
        "       total=total+20\n",
        "  for x in NomPropres(a):\n",
        "    if x in NomPropres(b):\n",
        "      res.append(x)\n",
        "  if len(res) > 1:\n",
        "    total=total+20\n",
        "  if jaccard(a,b)*100 > 68 :\n",
        "    total=total+10\n",
        "  a=modif(a)\n",
        "  b=modif(b)\n",
        "  Ratio=levenshtein_ratio_and_distance(a,b,ratio_calc=True) \n",
        "  Ratio=Ratio * 100\n",
        "  Distance=levenshtein_ratio_and_distance(a,b,ratio_calc=False)\n",
        "  if int(Distance) > 25 and int(Ratio) > 2: \n",
        "    total=total+10\n",
        "  return total\n",
        "  \n"
      ]
    },
    {
      "cell_type": "code",
      "execution_count": 44,
      "metadata": {
        "colab": {
          "base_uri": "https://localhost:8080/"
        },
        "id": "vhoU4n90lTKU",
        "outputId": "9adcdd8b-e614-408d-9fe6-5550cc14dc3c"
      },
      "outputs": [
        {
          "output_type": "execute_result",
          "data": {
            "text/plain": [
              "10"
            ]
          },
          "metadata": {},
          "execution_count": 44
        }
      ],
      "source": [
        "#calcul pour claim 1 et tweet 1 \n",
        "\n",
        "calcul1(tweets[\"text\"][1],claims[\"vclaim\"][520])"
      ]
    },
    {
      "cell_type": "code",
      "execution_count": 46,
      "metadata": {
        "colab": {
          "base_uri": "https://localhost:8080/"
        },
        "id": "FLV8gVSxlTKW",
        "outputId": "389018b4-d501-4c8b-a417-7e1bd0f74c71"
      },
      "outputs": [
        {
          "output_type": "stream",
          "name": "stdout",
          "text": [
            "215\n",
            "690\n"
          ]
        }
      ],
      "source": [
        "count=0\n",
        "for i in tweets[\"text\"]:\n",
        "  s1=tweets[\"text\"][1]\n",
        "  count=count+1\n",
        "  s2=claims[\"vclaim\"][count]\n",
        "  if calcul1(s1, s2) > 40 :\n",
        "      print(count)"
      ]
    },
    {
      "cell_type": "markdown",
      "metadata": {
        "id": "kJNgojTQuLsk"
      },
      "source": [
        "### Programme inspiré des travaux sur les premieres données\n",
        "\n"
      ]
    },
    {
      "cell_type": "code",
      "execution_count": null,
      "metadata": {
        "colab": {
          "base_uri": "https://localhost:8080/"
        },
        "id": "rUvShF2puLYU",
        "outputId": "7145b336-d173-46ea-e950-8b78804a0dfe"
      },
      "outputs": [
        {
          "output_type": "stream",
          "name": "stdout",
          "text": [
            "974\n"
          ]
        }
      ],
      "source": [
        "count=0\n",
        "for i in tweets[\"text\"]:\n",
        "  a=tweets[\"text\"][1]\n",
        "  count=count+1\n",
        "  b=claims[\"vclaim\"][count]\n",
        "  Distance=int(levenshtein_ratio_and_distance(a,b))\n",
        "  Ratio=levenshtein_ratio_and_distance(a,b,ratio_calc=True)\n",
        "  LCS=lcs(a,b)\n",
        "  Jaccard=jaccard(modif(a),modif(b))\n",
        "  Etoile=0\n",
        "  Nature=0\n",
        "  ST=0\n",
        "  res=[]\n",
        "  if len(NomsPropres(claims[\"vclaim\"][count])) > 0 :\n",
        "    DNP=levenshtein_ratio_and_distance(NomsPropres(a),NomsPropres(b))\n",
        "    RNP=levenshtein_ratio_and_distance(NomsPropres(a),NomsPropres(b),ratio_calc=True)\n",
        "    if RNP > Ratio : \n",
        "       ST=ST+1\n",
        "  if (int(Distance) == 0) and (int(Ratio) == 1) : \n",
        "      print(count)\n",
        "  #partie non sure \n",
        "  else : \n",
        "    if Distance > 60: \n",
        "      Nature=Nature+1\n",
        "    if LCS >=40 and LCS <= 50:\n",
        "     Etoile=Etoile+1\n",
        "     Nature=Nature+1\n",
        "    if LCS <20:\n",
        "       ST=ST+2\n",
        "    if Distance <60:\n",
        "      Etoile=Etoile+1\n",
        "      ST=ST+1\n",
        "    if Nature > Etoile and Nature > ST and ST > Etoile: \n",
        "      print(count)\n",
        "    if Etoile > Nature and Etoile > ST  : \n",
        "      print(count)\n",
        "    if ST > Etoile and ST> Nature  : \n",
        "      print(count)\n",
        "    if ST == Etoile and ST == Nature and Etoile ==Nature: \n",
        "        print(count)\n",
        "    if len(res) == 0 : \n",
        "      res.append('AUCUN RESULTAT')\n",
        "  #print(\"le bon résultat est : \",annotation(a))\n",
        "\n",
        "  \n"
      ]
    },
    {
      "cell_type": "markdown",
      "metadata": {
        "id": "DeUmHRcIKHUD"
      },
      "source": [
        "### Filtrage\n",
        "\n",
        "---\n",
        "\n"
      ]
    },
    {
      "cell_type": "markdown",
      "metadata": {
        "id": "-H_HJ8XeKLK0"
      },
      "source": [
        "Pour les claims et tweets filtrer par date (programme plus haut) et Noms Propres communs (mot en majuscule en enlevant les mois voir programme plus haut)\n"
      ]
    },
    {
      "cell_type": "markdown",
      "metadata": {
        "id": "mfhihZH0PH6q"
      },
      "source": [
        "FILTRE PAR DATE \n",
        "\n",
        "---\n",
        "\n",
        "//Exemple : tweet 1 "
      ]
    },
    {
      "cell_type": "code",
      "execution_count": null,
      "metadata": {
        "colab": {
          "base_uri": "https://localhost:8080/",
          "height": 37
        },
        "id": "6WdaHzlBQxJn",
        "outputId": "90f3fa19-d261-4056-9273-ce28d772da7a"
      },
      "outputs": [
        {
          "data": {
            "application/vnd.google.colaboratory.intrinsic+json": {
              "type": "string"
            },
            "text/plain": [
              "'2012'"
            ]
          },
          "execution_count": 116,
          "metadata": {},
          "output_type": "execute_result"
        }
      ],
      "source": [
        "(dateclaim(lieclaim(claims[\"vclaim\"][24]))[2])"
      ]
    },
    {
      "cell_type": "code",
      "execution_count": null,
      "metadata": {
        "colab": {
          "background_save": true,
          "base_uri": "https://localhost:8080/"
        },
        "id": "cGtO9iF1PEib",
        "outputId": "1d85d721-7146-402c-e388-7fa6d9e79220"
      },
      "outputs": [
        {
          "name": "stdout",
          "output_type": "stream",
          "text": [
            "Tweet 1 :  Trump needs to immediately divest from his businesses and comply with the emoluments clause. Iran could threaten Trump hotels *worldwide* and he could provoke war over the loss of revenue from skittish guests.  His business interests should not be driving military decisions. — Ilhan Omar (@IlhanMN) January 6, 2020\n",
            "46 U.S. President Bill Clinton was forced to testify at his 1999 U.S. Senate impeachment trial.\n",
            "215 In January 2020, U.S. Rep. Ilhan Omar advised Iran to attack Trump-branded hotels in the world, thus committing treason.\n",
            "331 The fictional \"Umbrella Corporation\" from the game \"Resident Evil\" shares a logo with a biotech lab in Wuhan, Hubei Province in China, where a new coronavirus is believed to have originated.\n",
            "374 Kobe Bryant once said a president \"Whose name alone creates division and anger. Whose words inspire dissension and hatred can't possibly 'Make America Great Again.'\"\n",
            "387 At least 23 people were killed at a Jan. 20, 2020 Second Amendment rally in Richmond, Virginia.\n",
            "415 Barack Obama said he released future ISIS leader al-Baghdadi from custody because he deemed the captive to be \"low-risk.\"\n",
            "450 Subaru released a new car model with the acronym F.U.C.K.S.\n",
            "690 U.S. President Donald Trump said \"We're going to take the firearms first and then go to court.\"\n",
            "804 In January 2020, Paula White prayed for all \"satanic pregnancies\" to \"miscarry right now.\"\n",
            "856 Hillary Clinton posted condolences for Tulsi Gabbard's suicide one day early.\n",
            "862 U.S. President Barack Obama authorized more than 500 drone strikes.\n",
            "876 Chick-fil-A is giving away free meals from the chain in 2020.\n",
            "1020 The quote \"I used to think the worst thing in life was to end up all alone. It’s not. The worst thing in life is ending up with people who make you feel all alone” originated with Robin Williams.\n",
            "1037 Former U.S. President Barack Obama announced his intention to run for president of Kenya in 2021.\n",
            "1108 Playgirl magazine ran a \"Sleep with Donald Trump\" contest promotion in 1990.\n"
          ]
        }
      ],
      "source": [
        "count=0\n",
        "print(\"Tweet 1 : \",tweets[\"text\"][1])\n",
        "for i in tweets[\"text\"]:\n",
        "  count=count+1\n",
        "  if (dateclaim(lieclaim(claims[\"vclaim\"][count]))[2]) == (datetweet(tweets[\"text\"][1])[2]):\n",
        "    if (dateclaim(lieclaim(claims[\"vclaim\"][count]))[1]) == (datetweet(tweets[\"text\"][1])[1]):\n",
        "      print(count,claims[\"vclaim\"][count])\n",
        "                                        "
      ]
    },
    {
      "cell_type": "markdown",
      "metadata": {
        "id": "xMwIK96yle-N"
      },
      "source": [
        "> Donc pour le tweet 1 on a plusieurs claims qui correspondent à la même date (année, mois)"
      ]
    },
    {
      "cell_type": "markdown",
      "metadata": {
        "id": "kJ-nCm80hAxi"
      },
      "source": [
        "Filtre Noms Propres\n",
        "\n",
        "---\n",
        "\n"
      ]
    },
    {
      "cell_type": "code",
      "execution_count": null,
      "metadata": {
        "colab": {
          "background_save": true
        },
        "id": "NdCsQ0jjbBL6",
        "outputId": "c5c07d59-3d8e-49c2-d8d6-322864b47f49"
      },
      "outputs": [
        {
          "name": "stdout",
          "output_type": "stream",
          "text": [
            "Tweet 1 :  Trump needs to immediately divest from his businesses and comply with the emoluments clause. Iran could threaten Trump hotels *worldwide* and he could provoke war over the loss of revenue from skittish guests.  His business interests should not be driving military decisions. — Ilhan Omar (@IlhanMN) January 6, 2020\n",
            "215 In January 2020, U.S. Rep. Ilhan Omar advised Iran to attack Trump-branded hotels in the world, thus committing treason.\n"
          ]
        }
      ],
      "source": [
        "count=0\n",
        "print(\"Tweet 1 : \",tweets[\"text\"][1])\n",
        "for i in tweets[\"text\"]:\n",
        "  count=count+1\n",
        "  a=0\n",
        "\n",
        "  for element in NomPropres(tweets[\"text\"][1]):\n",
        "    if element in NomPropres(claims[\"vclaim\"][count]):\n",
        "       a=a+1\n",
        "  if len(NomPropres(tweets[\"text\"][1]))/2 <= a:\n",
        "      print(count,claims[\"vclaim\"][count])"
      ]
    },
    {
      "cell_type": "markdown",
      "metadata": {
        "id": "aSzwPrBqo9V7"
      },
      "source": [
        ">Après avoir récupérer les Noms Propres du Tweet et les Noms Propres de chaque claim on a comparé si il y avait au moins la moitié des claims qui ont les mêmes Noms propres que le Tweet.\n",
        ">on a donc par exemple pour le Tweet 1 récupérer (Trump,Iran,Trump,Illan,Omar) que l'on a comparé avec chaque claim et le résultat a donée que la claim 215 avait la moitié ou plus de la moitié des Noms Propres "
      ]
    }
  ],
  "metadata": {
    "colab": {
      "collapsed_sections": [],
      "name": "TERAnalyseSyntaxiqueDonnéesReferences.ipynb",
      "toc_visible": true,
      "provenance": []
    },
    "kernelspec": {
      "display_name": "Python 3",
      "name": "python3"
    },
    "language_info": {
      "name": "python"
    }
  },
  "nbformat": 4,
  "nbformat_minor": 0
}